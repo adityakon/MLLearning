{
 "cells": [
  {
   "cell_type": "markdown",
   "metadata": {},
   "source": [
    "# Cars4U Project: Pricing Model to effectively predict the price of used cars"
   ]
  },
  {
   "cell_type": "markdown",
   "metadata": {},
   "source": [
    "### Context\n",
    "There is a huge demand for used cars in the Indian Market today. As sales of new cars have slowed down in the recent past, the pre-owned car market has continued to grow over the past years and is larger than the new car market now. Cars4U is a budding tech start-up that aims to find footholes in this market.\n",
    "\n",
    "In 2018-19, while new car sales were recorded at 3.6 million units, around 4 million second-hand cars were bought and sold. There is a slowdown in new car sales and that could mean that the demand is shifting towards the pre-owned market. In fact, some car sellers replace their old cars with pre-owned cars instead of buying new ones. Unlike new cars, where price and supply are fairly deterministic and managed by OEMs (Original Equipment Manufacturer / except for dealership level discounts which come into play only in the last stage of the customer journey), used cars are very different beasts with huge uncertainty in both pricing and supply. Keeping this in mind, the pricing scheme of these used cars becomes important in order to grow in the market."
   ]
  },
  {
   "cell_type": "markdown",
   "metadata": {},
   "source": [
    "### Objective\n",
    "1. Generate insights from the data to help business.\n",
    "2. Build a linear regression model to predict the prices of used cars."
   ]
  },
  {
   "cell_type": "markdown",
   "metadata": {},
   "source": [
    "### Data Dictionary\n",
    "1. S.No. : Serial Number\n",
    "2. Name : Name of the car which includes Brand name and Model name\n",
    "3. Location : The location in which the car is being sold or is available for purchase Cities\n",
    "4. Year : Manufacturing year of the car\n",
    "5. Kilometers_driven : The total kilometers driven in the car by the previous owner(s) in KM.\n",
    "6. Fuel_Type : The type of fuel used by the car. (Petrol, Diesel, Electric, CNG, LPG)\n",
    "7. Transmission : The type of transmission used by the car. (Automatic / Manual)\n",
    "8. Owner : Type of ownership\n",
    "9. Mileage : The standard mileage offered by the car company in kmpl or km/kg\n",
    "10. Engine : The displacement volume of the engine in CC.\n",
    "11. Power : The maximum power of the engine in bhp.\n",
    "12. Seats : The number of seats in the car.\n",
    "13. New_Price : The price of a new car of the same model in INR Lakhs.(1 Lakh = 100, 000)\n",
    "14. Price : The price of the used car in INR Lakhs (1 Lakh = 100, 000)"
   ]
  },
  {
   "cell_type": "markdown",
   "metadata": {},
   "source": [
    "### Importing necessary packages"
   ]
  },
  {
   "cell_type": "code",
   "execution_count": 91,
   "metadata": {},
   "outputs": [],
   "source": [
    "import numpy as np   \n",
    "from sklearn.linear_model import LinearRegression\n",
    "import pandas as pd    \n",
    "import matplotlib.pyplot as plt \n",
    "%matplotlib inline \n",
    "import seaborn as sns\n",
    "import statsmodels.api as sm\n",
    "from sklearn.model_selection import train_test_split # Sklearn package's randomized data splitting function"
   ]
  },
  {
   "cell_type": "markdown",
   "metadata": {},
   "source": [
    "### Read dataset from the csv file"
   ]
  },
  {
   "cell_type": "code",
   "execution_count": 92,
   "metadata": {},
   "outputs": [],
   "source": [
    "cars = pd.read_csv(\"used_cars_data.csv\")"
   ]
  },
  {
   "cell_type": "markdown",
   "metadata": {},
   "source": [
    "### Checking the first 5 rows of data"
   ]
  },
  {
   "cell_type": "code",
   "execution_count": 93,
   "metadata": {
    "scrolled": true
   },
   "outputs": [
    {
     "data": {
      "text/html": [
       "<div>\n",
       "<style scoped>\n",
       "    .dataframe tbody tr th:only-of-type {\n",
       "        vertical-align: middle;\n",
       "    }\n",
       "\n",
       "    .dataframe tbody tr th {\n",
       "        vertical-align: top;\n",
       "    }\n",
       "\n",
       "    .dataframe thead th {\n",
       "        text-align: right;\n",
       "    }\n",
       "</style>\n",
       "<table border=\"1\" class=\"dataframe\">\n",
       "  <thead>\n",
       "    <tr style=\"text-align: right;\">\n",
       "      <th></th>\n",
       "      <th>S.No.</th>\n",
       "      <th>Name</th>\n",
       "      <th>Location</th>\n",
       "      <th>Year</th>\n",
       "      <th>Kilometers_Driven</th>\n",
       "      <th>Fuel_Type</th>\n",
       "      <th>Transmission</th>\n",
       "      <th>Owner_Type</th>\n",
       "      <th>Mileage</th>\n",
       "      <th>Engine</th>\n",
       "      <th>Power</th>\n",
       "      <th>Seats</th>\n",
       "      <th>New_Price</th>\n",
       "      <th>Price</th>\n",
       "    </tr>\n",
       "  </thead>\n",
       "  <tbody>\n",
       "    <tr>\n",
       "      <th>0</th>\n",
       "      <td>0</td>\n",
       "      <td>Maruti Wagon R LXI CNG</td>\n",
       "      <td>Mumbai</td>\n",
       "      <td>2010</td>\n",
       "      <td>72000</td>\n",
       "      <td>CNG</td>\n",
       "      <td>Manual</td>\n",
       "      <td>First</td>\n",
       "      <td>26.6 km/kg</td>\n",
       "      <td>998 CC</td>\n",
       "      <td>58.16 bhp</td>\n",
       "      <td>5.0</td>\n",
       "      <td>NaN</td>\n",
       "      <td>1.75</td>\n",
       "    </tr>\n",
       "    <tr>\n",
       "      <th>1</th>\n",
       "      <td>1</td>\n",
       "      <td>Hyundai Creta 1.6 CRDi SX Option</td>\n",
       "      <td>Pune</td>\n",
       "      <td>2015</td>\n",
       "      <td>41000</td>\n",
       "      <td>Diesel</td>\n",
       "      <td>Manual</td>\n",
       "      <td>First</td>\n",
       "      <td>19.67 kmpl</td>\n",
       "      <td>1582 CC</td>\n",
       "      <td>126.2 bhp</td>\n",
       "      <td>5.0</td>\n",
       "      <td>NaN</td>\n",
       "      <td>12.50</td>\n",
       "    </tr>\n",
       "    <tr>\n",
       "      <th>2</th>\n",
       "      <td>2</td>\n",
       "      <td>Honda Jazz V</td>\n",
       "      <td>Chennai</td>\n",
       "      <td>2011</td>\n",
       "      <td>46000</td>\n",
       "      <td>Petrol</td>\n",
       "      <td>Manual</td>\n",
       "      <td>First</td>\n",
       "      <td>18.2 kmpl</td>\n",
       "      <td>1199 CC</td>\n",
       "      <td>88.7 bhp</td>\n",
       "      <td>5.0</td>\n",
       "      <td>8.61 Lakh</td>\n",
       "      <td>4.50</td>\n",
       "    </tr>\n",
       "    <tr>\n",
       "      <th>3</th>\n",
       "      <td>3</td>\n",
       "      <td>Maruti Ertiga VDI</td>\n",
       "      <td>Chennai</td>\n",
       "      <td>2012</td>\n",
       "      <td>87000</td>\n",
       "      <td>Diesel</td>\n",
       "      <td>Manual</td>\n",
       "      <td>First</td>\n",
       "      <td>20.77 kmpl</td>\n",
       "      <td>1248 CC</td>\n",
       "      <td>88.76 bhp</td>\n",
       "      <td>7.0</td>\n",
       "      <td>NaN</td>\n",
       "      <td>6.00</td>\n",
       "    </tr>\n",
       "    <tr>\n",
       "      <th>4</th>\n",
       "      <td>4</td>\n",
       "      <td>Audi A4 New 2.0 TDI Multitronic</td>\n",
       "      <td>Coimbatore</td>\n",
       "      <td>2013</td>\n",
       "      <td>40670</td>\n",
       "      <td>Diesel</td>\n",
       "      <td>Automatic</td>\n",
       "      <td>Second</td>\n",
       "      <td>15.2 kmpl</td>\n",
       "      <td>1968 CC</td>\n",
       "      <td>140.8 bhp</td>\n",
       "      <td>5.0</td>\n",
       "      <td>NaN</td>\n",
       "      <td>17.74</td>\n",
       "    </tr>\n",
       "  </tbody>\n",
       "</table>\n",
       "</div>"
      ],
      "text/plain": [
       "   S.No.                              Name    Location  Year  \\\n",
       "0      0            Maruti Wagon R LXI CNG      Mumbai  2010   \n",
       "1      1  Hyundai Creta 1.6 CRDi SX Option        Pune  2015   \n",
       "2      2                      Honda Jazz V     Chennai  2011   \n",
       "3      3                 Maruti Ertiga VDI     Chennai  2012   \n",
       "4      4   Audi A4 New 2.0 TDI Multitronic  Coimbatore  2013   \n",
       "\n",
       "   Kilometers_Driven Fuel_Type Transmission Owner_Type     Mileage   Engine  \\\n",
       "0              72000       CNG       Manual      First  26.6 km/kg   998 CC   \n",
       "1              41000    Diesel       Manual      First  19.67 kmpl  1582 CC   \n",
       "2              46000    Petrol       Manual      First   18.2 kmpl  1199 CC   \n",
       "3              87000    Diesel       Manual      First  20.77 kmpl  1248 CC   \n",
       "4              40670    Diesel    Automatic     Second   15.2 kmpl  1968 CC   \n",
       "\n",
       "       Power  Seats  New_Price  Price  \n",
       "0  58.16 bhp    5.0        NaN   1.75  \n",
       "1  126.2 bhp    5.0        NaN  12.50  \n",
       "2   88.7 bhp    5.0  8.61 Lakh   4.50  \n",
       "3  88.76 bhp    7.0        NaN   6.00  \n",
       "4  140.8 bhp    5.0        NaN  17.74  "
      ]
     },
     "execution_count": 93,
     "metadata": {},
     "output_type": "execute_result"
    }
   ],
   "source": [
    "cars.head()"
   ]
  },
  {
   "cell_type": "markdown",
   "metadata": {},
   "source": [
    "- We can drop S.No as we already have an index"
   ]
  },
  {
   "cell_type": "code",
   "execution_count": 94,
   "metadata": {},
   "outputs": [],
   "source": [
    "cars.drop([\"S.No.\"], axis = 1, inplace = True) #Removing S.No column"
   ]
  },
  {
   "cell_type": "markdown",
   "metadata": {},
   "source": [
    "### Checking the shape of the dataset"
   ]
  },
  {
   "cell_type": "code",
   "execution_count": 95,
   "metadata": {},
   "outputs": [
    {
     "data": {
      "text/plain": [
       "(7253, 13)"
      ]
     },
     "execution_count": 95,
     "metadata": {},
     "output_type": "execute_result"
    }
   ],
   "source": [
    "cars.shape"
   ]
  },
  {
   "cell_type": "markdown",
   "metadata": {},
   "source": [
    "* There are 7253 rows and 13 columns in the dataset"
   ]
  },
  {
   "cell_type": "code",
   "execution_count": 96,
   "metadata": {},
   "outputs": [],
   "source": [
    "#make another copy of data\n",
    "df = cars.copy()"
   ]
  },
  {
   "cell_type": "markdown",
   "metadata": {},
   "source": [
    "### Check data types of the variables and missing values in the dataset"
   ]
  },
  {
   "cell_type": "code",
   "execution_count": 97,
   "metadata": {
    "scrolled": false
   },
   "outputs": [
    {
     "name": "stdout",
     "output_type": "stream",
     "text": [
      "<class 'pandas.core.frame.DataFrame'>\n",
      "RangeIndex: 7253 entries, 0 to 7252\n",
      "Data columns (total 13 columns):\n",
      " #   Column             Non-Null Count  Dtype  \n",
      "---  ------             --------------  -----  \n",
      " 0   Name               7253 non-null   object \n",
      " 1   Location           7253 non-null   object \n",
      " 2   Year               7253 non-null   int64  \n",
      " 3   Kilometers_Driven  7253 non-null   int64  \n",
      " 4   Fuel_Type          7253 non-null   object \n",
      " 5   Transmission       7253 non-null   object \n",
      " 6   Owner_Type         7253 non-null   object \n",
      " 7   Mileage            7251 non-null   object \n",
      " 8   Engine             7207 non-null   object \n",
      " 9   Power              7207 non-null   object \n",
      " 10  Seats              7200 non-null   float64\n",
      " 11  New_Price          1006 non-null   object \n",
      " 12  Price              6019 non-null   float64\n",
      "dtypes: float64(2), int64(2), object(9)\n",
      "memory usage: 736.8+ KB\n"
     ]
    }
   ],
   "source": [
    "df.info()"
   ]
  },
  {
   "cell_type": "markdown",
   "metadata": {},
   "source": [
    "- There are 7253 rows and 13 columns in the dataset\n",
    "- Transmission, Fuel_Type, Owner_Type can to be converted into category\n",
    "- There are only 1006 non null values in New_Price, we will try to impute data"
   ]
  },
  {
   "cell_type": "code",
   "execution_count": 98,
   "metadata": {
    "scrolled": true
   },
   "outputs": [
    {
     "data": {
      "text/html": [
       "<div>\n",
       "<style scoped>\n",
       "    .dataframe tbody tr th:only-of-type {\n",
       "        vertical-align: middle;\n",
       "    }\n",
       "\n",
       "    .dataframe tbody tr th {\n",
       "        vertical-align: top;\n",
       "    }\n",
       "\n",
       "    .dataframe thead th {\n",
       "        text-align: right;\n",
       "    }\n",
       "</style>\n",
       "<table border=\"1\" class=\"dataframe\">\n",
       "  <thead>\n",
       "    <tr style=\"text-align: right;\">\n",
       "      <th></th>\n",
       "      <th>Name</th>\n",
       "      <th>Location</th>\n",
       "      <th>Year</th>\n",
       "      <th>Kilometers_Driven</th>\n",
       "      <th>Fuel_Type</th>\n",
       "      <th>Transmission</th>\n",
       "      <th>Owner_Type</th>\n",
       "      <th>Mileage</th>\n",
       "      <th>Engine</th>\n",
       "      <th>Power</th>\n",
       "      <th>Seats</th>\n",
       "      <th>New_Price</th>\n",
       "      <th>Price</th>\n",
       "    </tr>\n",
       "  </thead>\n",
       "  <tbody>\n",
       "    <tr>\n",
       "      <th>0</th>\n",
       "      <td>Maruti Wagon R LXI CNG</td>\n",
       "      <td>Mumbai</td>\n",
       "      <td>2010</td>\n",
       "      <td>72000</td>\n",
       "      <td>CNG</td>\n",
       "      <td>Manual</td>\n",
       "      <td>First</td>\n",
       "      <td>26.6 km/kg</td>\n",
       "      <td>998 CC</td>\n",
       "      <td>58.16 bhp</td>\n",
       "      <td>5.0</td>\n",
       "      <td>NaN</td>\n",
       "      <td>1.75</td>\n",
       "    </tr>\n",
       "    <tr>\n",
       "      <th>1</th>\n",
       "      <td>Hyundai Creta 1.6 CRDi SX Option</td>\n",
       "      <td>Pune</td>\n",
       "      <td>2015</td>\n",
       "      <td>41000</td>\n",
       "      <td>Diesel</td>\n",
       "      <td>Manual</td>\n",
       "      <td>First</td>\n",
       "      <td>19.67 kmpl</td>\n",
       "      <td>1582 CC</td>\n",
       "      <td>126.2 bhp</td>\n",
       "      <td>5.0</td>\n",
       "      <td>NaN</td>\n",
       "      <td>12.50</td>\n",
       "    </tr>\n",
       "    <tr>\n",
       "      <th>2</th>\n",
       "      <td>Honda Jazz V</td>\n",
       "      <td>Chennai</td>\n",
       "      <td>2011</td>\n",
       "      <td>46000</td>\n",
       "      <td>Petrol</td>\n",
       "      <td>Manual</td>\n",
       "      <td>First</td>\n",
       "      <td>18.2 kmpl</td>\n",
       "      <td>1199 CC</td>\n",
       "      <td>88.7 bhp</td>\n",
       "      <td>5.0</td>\n",
       "      <td>8.61 Lakh</td>\n",
       "      <td>4.50</td>\n",
       "    </tr>\n",
       "    <tr>\n",
       "      <th>3</th>\n",
       "      <td>Maruti Ertiga VDI</td>\n",
       "      <td>Chennai</td>\n",
       "      <td>2012</td>\n",
       "      <td>87000</td>\n",
       "      <td>Diesel</td>\n",
       "      <td>Manual</td>\n",
       "      <td>First</td>\n",
       "      <td>20.77 kmpl</td>\n",
       "      <td>1248 CC</td>\n",
       "      <td>88.76 bhp</td>\n",
       "      <td>7.0</td>\n",
       "      <td>NaN</td>\n",
       "      <td>6.00</td>\n",
       "    </tr>\n",
       "    <tr>\n",
       "      <th>4</th>\n",
       "      <td>Audi A4 New 2.0 TDI Multitronic</td>\n",
       "      <td>Coimbatore</td>\n",
       "      <td>2013</td>\n",
       "      <td>40670</td>\n",
       "      <td>Diesel</td>\n",
       "      <td>Automatic</td>\n",
       "      <td>Second</td>\n",
       "      <td>15.2 kmpl</td>\n",
       "      <td>1968 CC</td>\n",
       "      <td>140.8 bhp</td>\n",
       "      <td>5.0</td>\n",
       "      <td>NaN</td>\n",
       "      <td>17.74</td>\n",
       "    </tr>\n",
       "  </tbody>\n",
       "</table>\n",
       "</div>"
      ],
      "text/plain": [
       "                               Name    Location  Year  Kilometers_Driven  \\\n",
       "0            Maruti Wagon R LXI CNG      Mumbai  2010              72000   \n",
       "1  Hyundai Creta 1.6 CRDi SX Option        Pune  2015              41000   \n",
       "2                      Honda Jazz V     Chennai  2011              46000   \n",
       "3                 Maruti Ertiga VDI     Chennai  2012              87000   \n",
       "4   Audi A4 New 2.0 TDI Multitronic  Coimbatore  2013              40670   \n",
       "\n",
       "  Fuel_Type Transmission Owner_Type     Mileage   Engine      Power  Seats  \\\n",
       "0       CNG       Manual      First  26.6 km/kg   998 CC  58.16 bhp    5.0   \n",
       "1    Diesel       Manual      First  19.67 kmpl  1582 CC  126.2 bhp    5.0   \n",
       "2    Petrol       Manual      First   18.2 kmpl  1199 CC   88.7 bhp    5.0   \n",
       "3    Diesel       Manual      First  20.77 kmpl  1248 CC  88.76 bhp    7.0   \n",
       "4    Diesel    Automatic     Second   15.2 kmpl  1968 CC  140.8 bhp    5.0   \n",
       "\n",
       "   New_Price  Price  \n",
       "0        NaN   1.75  \n",
       "1        NaN  12.50  \n",
       "2  8.61 Lakh   4.50  \n",
       "3        NaN   6.00  \n",
       "4        NaN  17.74  "
      ]
     },
     "execution_count": 98,
     "metadata": {},
     "output_type": "execute_result"
    }
   ],
   "source": [
    "df.head()"
   ]
  },
  {
   "cell_type": "markdown",
   "metadata": {},
   "source": [
    "- We need to remove units from Mileage, Engine, Power and New_Price columns.\n",
    "- Then adjust the data types accordingly\n",
    "- We can create a new column for Brand/Make of the car"
   ]
  },
  {
   "cell_type": "code",
   "execution_count": 99,
   "metadata": {
    "scrolled": false
   },
   "outputs": [
    {
     "data": {
      "text/html": [
       "<div>\n",
       "<style scoped>\n",
       "    .dataframe tbody tr th:only-of-type {\n",
       "        vertical-align: middle;\n",
       "    }\n",
       "\n",
       "    .dataframe tbody tr th {\n",
       "        vertical-align: top;\n",
       "    }\n",
       "\n",
       "    .dataframe thead th {\n",
       "        text-align: right;\n",
       "    }\n",
       "</style>\n",
       "<table border=\"1\" class=\"dataframe\">\n",
       "  <thead>\n",
       "    <tr style=\"text-align: right;\">\n",
       "      <th></th>\n",
       "      <th>Name</th>\n",
       "      <th>Location</th>\n",
       "      <th>Year</th>\n",
       "      <th>Kilometers_Driven</th>\n",
       "      <th>Fuel_Type</th>\n",
       "      <th>Transmission</th>\n",
       "      <th>Owner_Type</th>\n",
       "      <th>Mileage</th>\n",
       "      <th>Engine</th>\n",
       "      <th>Power</th>\n",
       "      <th>Seats</th>\n",
       "      <th>New_Price</th>\n",
       "      <th>Price</th>\n",
       "    </tr>\n",
       "  </thead>\n",
       "  <tbody>\n",
       "    <tr>\n",
       "      <th>4584</th>\n",
       "      <td>Tata Tigor 1.05 Revotorq XT</td>\n",
       "      <td>Kochi</td>\n",
       "      <td>2018</td>\n",
       "      <td>28973</td>\n",
       "      <td>Diesel</td>\n",
       "      <td>Manual</td>\n",
       "      <td>First</td>\n",
       "      <td>24.7 kmpl</td>\n",
       "      <td>1047 CC</td>\n",
       "      <td>69 bhp</td>\n",
       "      <td>5.0</td>\n",
       "      <td>NaN</td>\n",
       "      <td>6.64</td>\n",
       "    </tr>\n",
       "    <tr>\n",
       "      <th>6505</th>\n",
       "      <td>Volkswagen Vento Diesel Highline</td>\n",
       "      <td>Chennai</td>\n",
       "      <td>2011</td>\n",
       "      <td>76041</td>\n",
       "      <td>Diesel</td>\n",
       "      <td>Manual</td>\n",
       "      <td>First</td>\n",
       "      <td>20.54 kmpl</td>\n",
       "      <td>1598 CC</td>\n",
       "      <td>103.6 bhp</td>\n",
       "      <td>5.0</td>\n",
       "      <td>NaN</td>\n",
       "      <td>NaN</td>\n",
       "    </tr>\n",
       "    <tr>\n",
       "      <th>3675</th>\n",
       "      <td>Maruti Swift VDI</td>\n",
       "      <td>Ahmedabad</td>\n",
       "      <td>2012</td>\n",
       "      <td>65000</td>\n",
       "      <td>Diesel</td>\n",
       "      <td>Manual</td>\n",
       "      <td>First</td>\n",
       "      <td>22.9 kmpl</td>\n",
       "      <td>1248 CC</td>\n",
       "      <td>74 bhp</td>\n",
       "      <td>5.0</td>\n",
       "      <td>NaN</td>\n",
       "      <td>3.90</td>\n",
       "    </tr>\n",
       "    <tr>\n",
       "      <th>5654</th>\n",
       "      <td>Hyundai i20 Magna Optional 1.2</td>\n",
       "      <td>Kochi</td>\n",
       "      <td>2014</td>\n",
       "      <td>42315</td>\n",
       "      <td>Petrol</td>\n",
       "      <td>Manual</td>\n",
       "      <td>First</td>\n",
       "      <td>18.5 kmpl</td>\n",
       "      <td>1197 CC</td>\n",
       "      <td>82.9 bhp</td>\n",
       "      <td>5.0</td>\n",
       "      <td>NaN</td>\n",
       "      <td>4.79</td>\n",
       "    </tr>\n",
       "    <tr>\n",
       "      <th>4297</th>\n",
       "      <td>Toyota Camry 2.5 G</td>\n",
       "      <td>Mumbai</td>\n",
       "      <td>2014</td>\n",
       "      <td>68400</td>\n",
       "      <td>Petrol</td>\n",
       "      <td>Automatic</td>\n",
       "      <td>First</td>\n",
       "      <td>12.98 kmpl</td>\n",
       "      <td>2494 CC</td>\n",
       "      <td>178.4 bhp</td>\n",
       "      <td>5.0</td>\n",
       "      <td>NaN</td>\n",
       "      <td>13.50</td>\n",
       "    </tr>\n",
       "    <tr>\n",
       "      <th>2603</th>\n",
       "      <td>Mercedes-Benz New C-Class 220 CDI AT</td>\n",
       "      <td>Jaipur</td>\n",
       "      <td>2010</td>\n",
       "      <td>74213</td>\n",
       "      <td>Diesel</td>\n",
       "      <td>Automatic</td>\n",
       "      <td>First</td>\n",
       "      <td>14.84 kmpl</td>\n",
       "      <td>2143 CC</td>\n",
       "      <td>170 bhp</td>\n",
       "      <td>5.0</td>\n",
       "      <td>NaN</td>\n",
       "      <td>11.50</td>\n",
       "    </tr>\n",
       "    <tr>\n",
       "      <th>4337</th>\n",
       "      <td>Volkswagen Vento Petrol Highline AT</td>\n",
       "      <td>Kochi</td>\n",
       "      <td>2014</td>\n",
       "      <td>32283</td>\n",
       "      <td>Petrol</td>\n",
       "      <td>Automatic</td>\n",
       "      <td>Second</td>\n",
       "      <td>14.4 kmpl</td>\n",
       "      <td>1598 CC</td>\n",
       "      <td>103.6 bhp</td>\n",
       "      <td>5.0</td>\n",
       "      <td>NaN</td>\n",
       "      <td>5.41</td>\n",
       "    </tr>\n",
       "    <tr>\n",
       "      <th>6625</th>\n",
       "      <td>Maruti Swift VDI BSIV</td>\n",
       "      <td>Kolkata</td>\n",
       "      <td>2012</td>\n",
       "      <td>72000</td>\n",
       "      <td>Diesel</td>\n",
       "      <td>Manual</td>\n",
       "      <td>First</td>\n",
       "      <td>17.8 kmpl</td>\n",
       "      <td>1248 CC</td>\n",
       "      <td>null bhp</td>\n",
       "      <td>5.0</td>\n",
       "      <td>NaN</td>\n",
       "      <td>NaN</td>\n",
       "    </tr>\n",
       "    <tr>\n",
       "      <th>2846</th>\n",
       "      <td>Skoda Superb Elegance 1.8 TSI AT</td>\n",
       "      <td>Kochi</td>\n",
       "      <td>2011</td>\n",
       "      <td>73783</td>\n",
       "      <td>Petrol</td>\n",
       "      <td>Automatic</td>\n",
       "      <td>Second</td>\n",
       "      <td>13.7 kmpl</td>\n",
       "      <td>1798 CC</td>\n",
       "      <td>157.75 bhp</td>\n",
       "      <td>5.0</td>\n",
       "      <td>NaN</td>\n",
       "      <td>5.23</td>\n",
       "    </tr>\n",
       "    <tr>\n",
       "      <th>1237</th>\n",
       "      <td>Audi Q3 2.0 TDI Quattro</td>\n",
       "      <td>Hyderabad</td>\n",
       "      <td>2013</td>\n",
       "      <td>60000</td>\n",
       "      <td>Diesel</td>\n",
       "      <td>Automatic</td>\n",
       "      <td>First</td>\n",
       "      <td>17.32 kmpl</td>\n",
       "      <td>1968 CC</td>\n",
       "      <td>184 bhp</td>\n",
       "      <td>5.0</td>\n",
       "      <td>NaN</td>\n",
       "      <td>21.00</td>\n",
       "    </tr>\n",
       "    <tr>\n",
       "      <th>849</th>\n",
       "      <td>Audi A6 3.0 TDI quattro</td>\n",
       "      <td>Coimbatore</td>\n",
       "      <td>2009</td>\n",
       "      <td>48040</td>\n",
       "      <td>Diesel</td>\n",
       "      <td>Automatic</td>\n",
       "      <td>Second</td>\n",
       "      <td>16.77 kmpl</td>\n",
       "      <td>2967 CC</td>\n",
       "      <td>241.38 bhp</td>\n",
       "      <td>5.0</td>\n",
       "      <td>NaN</td>\n",
       "      <td>12.07</td>\n",
       "    </tr>\n",
       "    <tr>\n",
       "      <th>6914</th>\n",
       "      <td>Hyundai i20 1.4 CRDi Magna</td>\n",
       "      <td>Hyderabad</td>\n",
       "      <td>2013</td>\n",
       "      <td>65461</td>\n",
       "      <td>Diesel</td>\n",
       "      <td>Manual</td>\n",
       "      <td>First</td>\n",
       "      <td>21.9 kmpl</td>\n",
       "      <td>1396 CC</td>\n",
       "      <td>90 bhp</td>\n",
       "      <td>5.0</td>\n",
       "      <td>NaN</td>\n",
       "      <td>NaN</td>\n",
       "    </tr>\n",
       "    <tr>\n",
       "      <th>5873</th>\n",
       "      <td>Hyundai Santro Xing XO eRLX Euro II</td>\n",
       "      <td>Pune</td>\n",
       "      <td>2006</td>\n",
       "      <td>47200</td>\n",
       "      <td>Petrol</td>\n",
       "      <td>Manual</td>\n",
       "      <td>Second</td>\n",
       "      <td>17.0 kmpl</td>\n",
       "      <td>1086 CC</td>\n",
       "      <td>null bhp</td>\n",
       "      <td>5.0</td>\n",
       "      <td>NaN</td>\n",
       "      <td>1.20</td>\n",
       "    </tr>\n",
       "    <tr>\n",
       "      <th>6720</th>\n",
       "      <td>Tata Indica Vista TDI LS</td>\n",
       "      <td>Hyderabad</td>\n",
       "      <td>2013</td>\n",
       "      <td>132000</td>\n",
       "      <td>Diesel</td>\n",
       "      <td>Manual</td>\n",
       "      <td>Second</td>\n",
       "      <td>19.4 kmpl</td>\n",
       "      <td>1405 CC</td>\n",
       "      <td>70 bhp</td>\n",
       "      <td>5.0</td>\n",
       "      <td>NaN</td>\n",
       "      <td>NaN</td>\n",
       "    </tr>\n",
       "    <tr>\n",
       "      <th>37</th>\n",
       "      <td>Mahindra KUV 100 mFALCON G80 K6 5str AW</td>\n",
       "      <td>Delhi</td>\n",
       "      <td>2017</td>\n",
       "      <td>52000</td>\n",
       "      <td>Petrol</td>\n",
       "      <td>Manual</td>\n",
       "      <td>First</td>\n",
       "      <td>18.15 kmpl</td>\n",
       "      <td>1198 CC</td>\n",
       "      <td>82 bhp</td>\n",
       "      <td>5.0</td>\n",
       "      <td>NaN</td>\n",
       "      <td>4.85</td>\n",
       "    </tr>\n",
       "  </tbody>\n",
       "</table>\n",
       "</div>"
      ],
      "text/plain": [
       "                                         Name    Location  Year  \\\n",
       "4584              Tata Tigor 1.05 Revotorq XT       Kochi  2018   \n",
       "6505         Volkswagen Vento Diesel Highline     Chennai  2011   \n",
       "3675                         Maruti Swift VDI   Ahmedabad  2012   \n",
       "5654           Hyundai i20 Magna Optional 1.2       Kochi  2014   \n",
       "4297                       Toyota Camry 2.5 G      Mumbai  2014   \n",
       "2603     Mercedes-Benz New C-Class 220 CDI AT      Jaipur  2010   \n",
       "4337      Volkswagen Vento Petrol Highline AT       Kochi  2014   \n",
       "6625                    Maruti Swift VDI BSIV     Kolkata  2012   \n",
       "2846         Skoda Superb Elegance 1.8 TSI AT       Kochi  2011   \n",
       "1237                  Audi Q3 2.0 TDI Quattro   Hyderabad  2013   \n",
       "849                   Audi A6 3.0 TDI quattro  Coimbatore  2009   \n",
       "6914               Hyundai i20 1.4 CRDi Magna   Hyderabad  2013   \n",
       "5873      Hyundai Santro Xing XO eRLX Euro II        Pune  2006   \n",
       "6720                 Tata Indica Vista TDI LS   Hyderabad  2013   \n",
       "37    Mahindra KUV 100 mFALCON G80 K6 5str AW       Delhi  2017   \n",
       "\n",
       "      Kilometers_Driven Fuel_Type Transmission Owner_Type     Mileage  \\\n",
       "4584              28973    Diesel       Manual      First   24.7 kmpl   \n",
       "6505              76041    Diesel       Manual      First  20.54 kmpl   \n",
       "3675              65000    Diesel       Manual      First   22.9 kmpl   \n",
       "5654              42315    Petrol       Manual      First   18.5 kmpl   \n",
       "4297              68400    Petrol    Automatic      First  12.98 kmpl   \n",
       "2603              74213    Diesel    Automatic      First  14.84 kmpl   \n",
       "4337              32283    Petrol    Automatic     Second   14.4 kmpl   \n",
       "6625              72000    Diesel       Manual      First   17.8 kmpl   \n",
       "2846              73783    Petrol    Automatic     Second   13.7 kmpl   \n",
       "1237              60000    Diesel    Automatic      First  17.32 kmpl   \n",
       "849               48040    Diesel    Automatic     Second  16.77 kmpl   \n",
       "6914              65461    Diesel       Manual      First   21.9 kmpl   \n",
       "5873              47200    Petrol       Manual     Second   17.0 kmpl   \n",
       "6720             132000    Diesel       Manual     Second   19.4 kmpl   \n",
       "37                52000    Petrol       Manual      First  18.15 kmpl   \n",
       "\n",
       "       Engine       Power  Seats New_Price  Price  \n",
       "4584  1047 CC      69 bhp    5.0       NaN   6.64  \n",
       "6505  1598 CC   103.6 bhp    5.0       NaN    NaN  \n",
       "3675  1248 CC      74 bhp    5.0       NaN   3.90  \n",
       "5654  1197 CC    82.9 bhp    5.0       NaN   4.79  \n",
       "4297  2494 CC   178.4 bhp    5.0       NaN  13.50  \n",
       "2603  2143 CC     170 bhp    5.0       NaN  11.50  \n",
       "4337  1598 CC   103.6 bhp    5.0       NaN   5.41  \n",
       "6625  1248 CC    null bhp    5.0       NaN    NaN  \n",
       "2846  1798 CC  157.75 bhp    5.0       NaN   5.23  \n",
       "1237  1968 CC     184 bhp    5.0       NaN  21.00  \n",
       "849   2967 CC  241.38 bhp    5.0       NaN  12.07  \n",
       "6914  1396 CC      90 bhp    5.0       NaN    NaN  \n",
       "5873  1086 CC    null bhp    5.0       NaN   1.20  \n",
       "6720  1405 CC      70 bhp    5.0       NaN    NaN  \n",
       "37    1198 CC      82 bhp    5.0       NaN   4.85  "
      ]
     },
     "execution_count": 99,
     "metadata": {},
     "output_type": "execute_result"
    }
   ],
   "source": [
    "#Picking a random sample from the dataset to take a glance of the data\n",
    "np.random.seed(2)\n",
    "df.sample(n=15)"
   ]
  },
  {
   "cell_type": "markdown",
   "metadata": {},
   "source": [
    "* We have \"null\" bhp in Power column, this needs to be treated as missing value"
   ]
  },
  {
   "cell_type": "code",
   "execution_count": 100,
   "metadata": {
    "scrolled": true
   },
   "outputs": [
    {
     "data": {
      "text/plain": [
       "New_Price            6247\n",
       "Price                1234\n",
       "Seats                  53\n",
       "Power                  46\n",
       "Engine                 46\n",
       "Mileage                 2\n",
       "Owner_Type              0\n",
       "Transmission            0\n",
       "Fuel_Type               0\n",
       "Kilometers_Driven       0\n",
       "Year                    0\n",
       "Location                0\n",
       "Name                    0\n",
       "dtype: int64"
      ]
     },
     "execution_count": 100,
     "metadata": {},
     "output_type": "execute_result"
    }
   ],
   "source": [
    "# Identifying the number of missing values\n",
    "df.isnull().sum().sort_values(ascending = False)"
   ]
  },
  {
   "cell_type": "markdown",
   "metadata": {},
   "source": [
    "* As there are no missing values in Transmission, Fuel_Type and Owner Type we can easily convert to category"
   ]
  },
  {
   "cell_type": "code",
   "execution_count": 101,
   "metadata": {
    "scrolled": false
   },
   "outputs": [
    {
     "data": {
      "text/plain": [
       "Name                 2041\n",
       "Location               11\n",
       "Year                   23\n",
       "Kilometers_Driven    3660\n",
       "Fuel_Type               5\n",
       "Transmission            2\n",
       "Owner_Type              4\n",
       "Mileage               450\n",
       "Engine                150\n",
       "Power                 386\n",
       "Seats                   9\n",
       "New_Price             625\n",
       "Price                1373\n",
       "dtype: int64"
      ]
     },
     "execution_count": 101,
     "metadata": {},
     "output_type": "execute_result"
    }
   ],
   "source": [
    "df.nunique()"
   ]
  },
  {
   "cell_type": "markdown",
   "metadata": {},
   "source": [
    "### Summary of the data"
   ]
  },
  {
   "cell_type": "code",
   "execution_count": 102,
   "metadata": {},
   "outputs": [
    {
     "data": {
      "text/html": [
       "<div>\n",
       "<style scoped>\n",
       "    .dataframe tbody tr th:only-of-type {\n",
       "        vertical-align: middle;\n",
       "    }\n",
       "\n",
       "    .dataframe tbody tr th {\n",
       "        vertical-align: top;\n",
       "    }\n",
       "\n",
       "    .dataframe thead th {\n",
       "        text-align: right;\n",
       "    }\n",
       "</style>\n",
       "<table border=\"1\" class=\"dataframe\">\n",
       "  <thead>\n",
       "    <tr style=\"text-align: right;\">\n",
       "      <th></th>\n",
       "      <th>Name</th>\n",
       "      <th>Location</th>\n",
       "      <th>Year</th>\n",
       "      <th>Kilometers_Driven</th>\n",
       "      <th>Fuel_Type</th>\n",
       "      <th>Transmission</th>\n",
       "      <th>Owner_Type</th>\n",
       "      <th>Mileage</th>\n",
       "      <th>Engine</th>\n",
       "      <th>Power</th>\n",
       "      <th>Seats</th>\n",
       "      <th>New_Price</th>\n",
       "      <th>Price</th>\n",
       "    </tr>\n",
       "  </thead>\n",
       "  <tbody>\n",
       "    <tr>\n",
       "      <th>count</th>\n",
       "      <td>7253</td>\n",
       "      <td>7253</td>\n",
       "      <td>7253.000000</td>\n",
       "      <td>7.253000e+03</td>\n",
       "      <td>7253</td>\n",
       "      <td>7253</td>\n",
       "      <td>7253</td>\n",
       "      <td>7251</td>\n",
       "      <td>7207</td>\n",
       "      <td>7207</td>\n",
       "      <td>7200.000000</td>\n",
       "      <td>1006</td>\n",
       "      <td>6019.000000</td>\n",
       "    </tr>\n",
       "    <tr>\n",
       "      <th>unique</th>\n",
       "      <td>2041</td>\n",
       "      <td>11</td>\n",
       "      <td>NaN</td>\n",
       "      <td>NaN</td>\n",
       "      <td>5</td>\n",
       "      <td>2</td>\n",
       "      <td>4</td>\n",
       "      <td>450</td>\n",
       "      <td>150</td>\n",
       "      <td>386</td>\n",
       "      <td>NaN</td>\n",
       "      <td>625</td>\n",
       "      <td>NaN</td>\n",
       "    </tr>\n",
       "    <tr>\n",
       "      <th>top</th>\n",
       "      <td>Mahindra XUV500 W8 2WD</td>\n",
       "      <td>Mumbai</td>\n",
       "      <td>NaN</td>\n",
       "      <td>NaN</td>\n",
       "      <td>Diesel</td>\n",
       "      <td>Manual</td>\n",
       "      <td>First</td>\n",
       "      <td>17.0 kmpl</td>\n",
       "      <td>1197 CC</td>\n",
       "      <td>74 bhp</td>\n",
       "      <td>NaN</td>\n",
       "      <td>95.13 Lakh</td>\n",
       "      <td>NaN</td>\n",
       "    </tr>\n",
       "    <tr>\n",
       "      <th>freq</th>\n",
       "      <td>55</td>\n",
       "      <td>949</td>\n",
       "      <td>NaN</td>\n",
       "      <td>NaN</td>\n",
       "      <td>3852</td>\n",
       "      <td>5204</td>\n",
       "      <td>5952</td>\n",
       "      <td>207</td>\n",
       "      <td>732</td>\n",
       "      <td>280</td>\n",
       "      <td>NaN</td>\n",
       "      <td>6</td>\n",
       "      <td>NaN</td>\n",
       "    </tr>\n",
       "    <tr>\n",
       "      <th>mean</th>\n",
       "      <td>NaN</td>\n",
       "      <td>NaN</td>\n",
       "      <td>2013.365366</td>\n",
       "      <td>5.869906e+04</td>\n",
       "      <td>NaN</td>\n",
       "      <td>NaN</td>\n",
       "      <td>NaN</td>\n",
       "      <td>NaN</td>\n",
       "      <td>NaN</td>\n",
       "      <td>NaN</td>\n",
       "      <td>5.279722</td>\n",
       "      <td>NaN</td>\n",
       "      <td>9.479468</td>\n",
       "    </tr>\n",
       "    <tr>\n",
       "      <th>std</th>\n",
       "      <td>NaN</td>\n",
       "      <td>NaN</td>\n",
       "      <td>3.254421</td>\n",
       "      <td>8.442772e+04</td>\n",
       "      <td>NaN</td>\n",
       "      <td>NaN</td>\n",
       "      <td>NaN</td>\n",
       "      <td>NaN</td>\n",
       "      <td>NaN</td>\n",
       "      <td>NaN</td>\n",
       "      <td>0.811660</td>\n",
       "      <td>NaN</td>\n",
       "      <td>11.187917</td>\n",
       "    </tr>\n",
       "    <tr>\n",
       "      <th>min</th>\n",
       "      <td>NaN</td>\n",
       "      <td>NaN</td>\n",
       "      <td>1996.000000</td>\n",
       "      <td>1.710000e+02</td>\n",
       "      <td>NaN</td>\n",
       "      <td>NaN</td>\n",
       "      <td>NaN</td>\n",
       "      <td>NaN</td>\n",
       "      <td>NaN</td>\n",
       "      <td>NaN</td>\n",
       "      <td>0.000000</td>\n",
       "      <td>NaN</td>\n",
       "      <td>0.440000</td>\n",
       "    </tr>\n",
       "    <tr>\n",
       "      <th>25%</th>\n",
       "      <td>NaN</td>\n",
       "      <td>NaN</td>\n",
       "      <td>2011.000000</td>\n",
       "      <td>3.400000e+04</td>\n",
       "      <td>NaN</td>\n",
       "      <td>NaN</td>\n",
       "      <td>NaN</td>\n",
       "      <td>NaN</td>\n",
       "      <td>NaN</td>\n",
       "      <td>NaN</td>\n",
       "      <td>5.000000</td>\n",
       "      <td>NaN</td>\n",
       "      <td>3.500000</td>\n",
       "    </tr>\n",
       "    <tr>\n",
       "      <th>50%</th>\n",
       "      <td>NaN</td>\n",
       "      <td>NaN</td>\n",
       "      <td>2014.000000</td>\n",
       "      <td>5.341600e+04</td>\n",
       "      <td>NaN</td>\n",
       "      <td>NaN</td>\n",
       "      <td>NaN</td>\n",
       "      <td>NaN</td>\n",
       "      <td>NaN</td>\n",
       "      <td>NaN</td>\n",
       "      <td>5.000000</td>\n",
       "      <td>NaN</td>\n",
       "      <td>5.640000</td>\n",
       "    </tr>\n",
       "    <tr>\n",
       "      <th>75%</th>\n",
       "      <td>NaN</td>\n",
       "      <td>NaN</td>\n",
       "      <td>2016.000000</td>\n",
       "      <td>7.300000e+04</td>\n",
       "      <td>NaN</td>\n",
       "      <td>NaN</td>\n",
       "      <td>NaN</td>\n",
       "      <td>NaN</td>\n",
       "      <td>NaN</td>\n",
       "      <td>NaN</td>\n",
       "      <td>5.000000</td>\n",
       "      <td>NaN</td>\n",
       "      <td>9.950000</td>\n",
       "    </tr>\n",
       "    <tr>\n",
       "      <th>max</th>\n",
       "      <td>NaN</td>\n",
       "      <td>NaN</td>\n",
       "      <td>2019.000000</td>\n",
       "      <td>6.500000e+06</td>\n",
       "      <td>NaN</td>\n",
       "      <td>NaN</td>\n",
       "      <td>NaN</td>\n",
       "      <td>NaN</td>\n",
       "      <td>NaN</td>\n",
       "      <td>NaN</td>\n",
       "      <td>10.000000</td>\n",
       "      <td>NaN</td>\n",
       "      <td>160.000000</td>\n",
       "    </tr>\n",
       "  </tbody>\n",
       "</table>\n",
       "</div>"
      ],
      "text/plain": [
       "                          Name Location         Year  Kilometers_Driven  \\\n",
       "count                     7253     7253  7253.000000       7.253000e+03   \n",
       "unique                    2041       11          NaN                NaN   \n",
       "top     Mahindra XUV500 W8 2WD   Mumbai          NaN                NaN   \n",
       "freq                        55      949          NaN                NaN   \n",
       "mean                       NaN      NaN  2013.365366       5.869906e+04   \n",
       "std                        NaN      NaN     3.254421       8.442772e+04   \n",
       "min                        NaN      NaN  1996.000000       1.710000e+02   \n",
       "25%                        NaN      NaN  2011.000000       3.400000e+04   \n",
       "50%                        NaN      NaN  2014.000000       5.341600e+04   \n",
       "75%                        NaN      NaN  2016.000000       7.300000e+04   \n",
       "max                        NaN      NaN  2019.000000       6.500000e+06   \n",
       "\n",
       "       Fuel_Type Transmission Owner_Type    Mileage   Engine   Power  \\\n",
       "count       7253         7253       7253       7251     7207    7207   \n",
       "unique         5            2          4        450      150     386   \n",
       "top       Diesel       Manual      First  17.0 kmpl  1197 CC  74 bhp   \n",
       "freq        3852         5204       5952        207      732     280   \n",
       "mean         NaN          NaN        NaN        NaN      NaN     NaN   \n",
       "std          NaN          NaN        NaN        NaN      NaN     NaN   \n",
       "min          NaN          NaN        NaN        NaN      NaN     NaN   \n",
       "25%          NaN          NaN        NaN        NaN      NaN     NaN   \n",
       "50%          NaN          NaN        NaN        NaN      NaN     NaN   \n",
       "75%          NaN          NaN        NaN        NaN      NaN     NaN   \n",
       "max          NaN          NaN        NaN        NaN      NaN     NaN   \n",
       "\n",
       "              Seats   New_Price        Price  \n",
       "count   7200.000000        1006  6019.000000  \n",
       "unique          NaN         625          NaN  \n",
       "top             NaN  95.13 Lakh          NaN  \n",
       "freq            NaN           6          NaN  \n",
       "mean       5.279722         NaN     9.479468  \n",
       "std        0.811660         NaN    11.187917  \n",
       "min        0.000000         NaN     0.440000  \n",
       "25%        5.000000         NaN     3.500000  \n",
       "50%        5.000000         NaN     5.640000  \n",
       "75%        5.000000         NaN     9.950000  \n",
       "max       10.000000         NaN   160.000000  "
      ]
     },
     "execution_count": 102,
     "metadata": {},
     "output_type": "execute_result"
    }
   ],
   "source": [
    "df.describe(include = \"all\")"
   ]
  },
  {
   "cell_type": "markdown",
   "metadata": {},
   "source": [
    "* The year in the dataset ranges from 1996 to 2019, there are wide range of models\n",
    "* The range of Kilometers_Driven is from 171 to more than 6500000 (might be an error need to investigate)\n",
    "* There are 5 Fuel types\n",
    "* Mileage, Engine, Power and New_Price are treated as objects, we need to convert these\n",
    "* Minimum number of Seats is 0 which is incorrect data, need to fix that\n",
    "* We will convert data types of Seats and Location to category"
   ]
  },
  {
   "cell_type": "markdown",
   "metadata": {},
   "source": [
    "### Fixing error value in Kilometers_Driven"
   ]
  },
  {
   "cell_type": "code",
   "execution_count": 103,
   "metadata": {
    "scrolled": true
   },
   "outputs": [
    {
     "data": {
      "text/html": [
       "<div>\n",
       "<style scoped>\n",
       "    .dataframe tbody tr th:only-of-type {\n",
       "        vertical-align: middle;\n",
       "    }\n",
       "\n",
       "    .dataframe tbody tr th {\n",
       "        vertical-align: top;\n",
       "    }\n",
       "\n",
       "    .dataframe thead th {\n",
       "        text-align: right;\n",
       "    }\n",
       "</style>\n",
       "<table border=\"1\" class=\"dataframe\">\n",
       "  <thead>\n",
       "    <tr style=\"text-align: right;\">\n",
       "      <th></th>\n",
       "      <th>Name</th>\n",
       "      <th>Location</th>\n",
       "      <th>Year</th>\n",
       "      <th>Kilometers_Driven</th>\n",
       "      <th>Fuel_Type</th>\n",
       "      <th>Transmission</th>\n",
       "      <th>Owner_Type</th>\n",
       "      <th>Mileage</th>\n",
       "      <th>Engine</th>\n",
       "      <th>Power</th>\n",
       "      <th>Seats</th>\n",
       "      <th>New_Price</th>\n",
       "      <th>Price</th>\n",
       "    </tr>\n",
       "  </thead>\n",
       "  <tbody>\n",
       "    <tr>\n",
       "      <th>2328</th>\n",
       "      <td>BMW X5 xDrive 30d M Sport</td>\n",
       "      <td>Chennai</td>\n",
       "      <td>2017</td>\n",
       "      <td>6500000</td>\n",
       "      <td>Diesel</td>\n",
       "      <td>Automatic</td>\n",
       "      <td>First</td>\n",
       "      <td>15.97 kmpl</td>\n",
       "      <td>2993 CC</td>\n",
       "      <td>258 bhp</td>\n",
       "      <td>5.0</td>\n",
       "      <td>NaN</td>\n",
       "      <td>65.0</td>\n",
       "    </tr>\n",
       "  </tbody>\n",
       "</table>\n",
       "</div>"
      ],
      "text/plain": [
       "                           Name Location  Year  Kilometers_Driven Fuel_Type  \\\n",
       "2328  BMW X5 xDrive 30d M Sport  Chennai  2017            6500000    Diesel   \n",
       "\n",
       "     Transmission Owner_Type     Mileage   Engine    Power  Seats New_Price  \\\n",
       "2328    Automatic      First  15.97 kmpl  2993 CC  258 bhp    5.0       NaN   \n",
       "\n",
       "      Price  \n",
       "2328   65.0  "
      ]
     },
     "execution_count": 103,
     "metadata": {},
     "output_type": "execute_result"
    }
   ],
   "source": [
    "df[df[\"Kilometers_Driven\"] > 6000000 ]"
   ]
  },
  {
   "cell_type": "markdown",
   "metadata": {},
   "source": [
    "- 2017 BMW car having Kilometers_Driven 6500000 is error, lets treat it as missing and replace with median of same car's Kilometers_Driven"
   ]
  },
  {
   "cell_type": "code",
   "execution_count": 104,
   "metadata": {},
   "outputs": [
    {
     "data": {
      "text/plain": [
       "45000.0"
      ]
     },
     "execution_count": 104,
     "metadata": {},
     "output_type": "execute_result"
    }
   ],
   "source": [
    "df[df[\"Name\"] == \"BMW X5 xDrive 30d M Sport\"][\"Kilometers_Driven\"].median()"
   ]
  },
  {
   "cell_type": "code",
   "execution_count": 105,
   "metadata": {},
   "outputs": [],
   "source": [
    "df.loc[df[\"Kilometers_Driven\"] > 6000000, \"Kilometers_Driven\"] = 45000"
   ]
  },
  {
   "cell_type": "markdown",
   "metadata": {},
   "source": [
    "### Fixing datatypes"
   ]
  },
  {
   "cell_type": "code",
   "execution_count": 106,
   "metadata": {},
   "outputs": [],
   "source": [
    "#Updating data types to category\n",
    "df[\"Transmission\"] = df[\"Transmission\"].astype(\"category\")\n",
    "df[\"Fuel_Type\"] = df[\"Fuel_Type\"].astype(\"category\")\n",
    "df[\"Owner_Type\"] = df[\"Owner_Type\"].astype(\"category\")"
   ]
  },
  {
   "cell_type": "code",
   "execution_count": 107,
   "metadata": {},
   "outputs": [],
   "source": [
    "# Removing units from Power Engine and Mileage\n",
    "df[\"Power\"]= df[\"Power\"].str.replace(\"bhp\",\"\")\n",
    "df[\"Engine\"] = df[\"Engine\"].str.replace(\"CC\",\"\")\n",
    "df[\"Mileage\"] = df[\"Mileage\"].str.replace(\"km/kg\",\"\")\n",
    "df[\"Mileage\"] = df[\"Mileage\"].str.replace(\"kmpl\",\"\")"
   ]
  },
  {
   "cell_type": "code",
   "execution_count": 108,
   "metadata": {},
   "outputs": [],
   "source": [
    "df[\"Power\"]= df[\"Power\"].str.replace(\"null\",\"0.00\")"
   ]
  },
  {
   "cell_type": "code",
   "execution_count": 109,
   "metadata": {},
   "outputs": [],
   "source": [
    "#Converting the data types to float which\n",
    "df[\"Power\"] = df[\"Power\"].astype(\"float64\")\n",
    "df[\"Engine\"] = df[\"Engine\"].astype(\"float64\")\n",
    "df[\"Mileage\"] = df[\"Mileage\"].astype(\"float64\")"
   ]
  },
  {
   "cell_type": "code",
   "execution_count": 110,
   "metadata": {},
   "outputs": [],
   "source": [
    "#Mileage, Engine, Power and seats have 0 as minimum which is not correct, we will treat them as missing values\n",
    "df[\"Power\"] = df[\"Power\"].replace(0.00,np.nan)\n",
    "df[\"Mileage\"] = df[\"Mileage\"].replace(0.00,np.nan)\n",
    "df[\"Engine\"] = df[\"Engine\"].replace(0.00,np.nan)\n",
    "df[\"Seats\"] = df[\"Seats\"].replace(0.00,np.nan)"
   ]
  },
  {
   "cell_type": "code",
   "execution_count": 111,
   "metadata": {},
   "outputs": [
    {
     "name": "stdout",
     "output_type": "stream",
     "text": [
      "<class 'pandas.core.frame.DataFrame'>\n",
      "RangeIndex: 7253 entries, 0 to 7252\n",
      "Data columns (total 13 columns):\n",
      " #   Column             Non-Null Count  Dtype   \n",
      "---  ------             --------------  -----   \n",
      " 0   Name               7253 non-null   object  \n",
      " 1   Location           7253 non-null   object  \n",
      " 2   Year               7253 non-null   int64   \n",
      " 3   Kilometers_Driven  7253 non-null   int64   \n",
      " 4   Fuel_Type          7253 non-null   category\n",
      " 5   Transmission       7253 non-null   category\n",
      " 6   Owner_Type         7253 non-null   category\n",
      " 7   Mileage            7170 non-null   float64 \n",
      " 8   Engine             7207 non-null   float64 \n",
      " 9   Power              7078 non-null   float64 \n",
      " 10  Seats              7199 non-null   float64 \n",
      " 11  New_Price          1006 non-null   object  \n",
      " 12  Price              6019 non-null   float64 \n",
      "dtypes: category(3), float64(5), int64(2), object(3)\n",
      "memory usage: 588.5+ KB\n"
     ]
    }
   ],
   "source": [
    "df.info()"
   ]
  },
  {
   "cell_type": "markdown",
   "metadata": {},
   "source": [
    "- We need to convert New_Price column to float, same as Price"
   ]
  },
  {
   "cell_type": "code",
   "execution_count": 112,
   "metadata": {},
   "outputs": [],
   "source": [
    "#creating a Function to replace Lakh and Cr, converting everything to Lakhs\n",
    "def priceFloat(price):\n",
    "    if isinstance(price,str):\n",
    "        multiplier =1\n",
    "        if price.endswith('Lakh'):\n",
    "            return float(price.replace('Lakh',''))\n",
    "        elif price.endswith('Cr'):\n",
    "            return float(price.replace('Cr','')) * 100 # 1Crore = 100 Lakhs\n",
    "    else:\n",
    "        return np.nan\n",
    "df[\"New_Price\"] = df[\"New_Price\"].apply(priceFloat)"
   ]
  },
  {
   "cell_type": "code",
   "execution_count": 113,
   "metadata": {},
   "outputs": [
    {
     "name": "stdout",
     "output_type": "stream",
     "text": [
      "<class 'pandas.core.frame.DataFrame'>\n",
      "RangeIndex: 7253 entries, 0 to 7252\n",
      "Data columns (total 13 columns):\n",
      " #   Column             Non-Null Count  Dtype   \n",
      "---  ------             --------------  -----   \n",
      " 0   Name               7253 non-null   object  \n",
      " 1   Location           7253 non-null   object  \n",
      " 2   Year               7253 non-null   int64   \n",
      " 3   Kilometers_Driven  7253 non-null   int64   \n",
      " 4   Fuel_Type          7253 non-null   category\n",
      " 5   Transmission       7253 non-null   category\n",
      " 6   Owner_Type         7253 non-null   category\n",
      " 7   Mileage            7170 non-null   float64 \n",
      " 8   Engine             7207 non-null   float64 \n",
      " 9   Power              7078 non-null   float64 \n",
      " 10  Seats              7199 non-null   float64 \n",
      " 11  New_Price          1006 non-null   float64 \n",
      " 12  Price              6019 non-null   float64 \n",
      "dtypes: category(3), float64(6), int64(2), object(2)\n",
      "memory usage: 588.5+ KB\n"
     ]
    }
   ],
   "source": [
    "df.info()"
   ]
  },
  {
   "cell_type": "code",
   "execution_count": 24,
   "metadata": {
    "scrolled": true
   },
   "outputs": [
    {
     "data": {
      "text/plain": [
       "New_Price            6247\n",
       "Price                1234\n",
       "Power                 175\n",
       "Mileage                83\n",
       "Seats                  54\n",
       "Engine                 46\n",
       "Owner_Type              0\n",
       "Transmission            0\n",
       "Fuel_Type               0\n",
       "Kilometers_Driven       0\n",
       "Year                    0\n",
       "Location                0\n",
       "Name                    0\n",
       "dtype: int64"
      ]
     },
     "execution_count": 24,
     "metadata": {},
     "output_type": "execute_result"
    }
   ],
   "source": [
    "df.isnull().sum().sort_values(ascending = False)"
   ]
  },
  {
   "cell_type": "markdown",
   "metadata": {},
   "source": [
    "### Imputing missing standard features of car"
   ]
  },
  {
   "cell_type": "code",
   "execution_count": 114,
   "metadata": {
    "scrolled": false
   },
   "outputs": [],
   "source": [
    "#Grouping by name to impute missing values (if there exists any) with the median values for the same car\n",
    "df[\"Seats\"] = df.groupby([\"Name\"])[\"Seats\"].apply(lambda x:x.fillna(x.median()))\n",
    "df[\"New_Price\"] = df.groupby([\"Name\", \"Year\"])[\"New_Price\"].apply(lambda x:x.fillna(x.median()))\n",
    "df[\"Mileage\"] = df.groupby([\"Name\"])[\"Mileage\"].apply(lambda x:x.fillna(x.median()))\n",
    "df[\"Power\"] = df.groupby([\"Name\"])[\"Power\"].apply(lambda x:x.fillna(x.median()))\n",
    "df[\"Engine\"] = df.groupby([\"Name\"])[\"Engine\"].apply(lambda x:x.fillna(x.median()))\n",
    "df[\"Price\"] = df.groupby([\"Name\"])[\"Price\"].apply(lambda x:x.fillna(x.median()))"
   ]
  },
  {
   "cell_type": "code",
   "execution_count": 115,
   "metadata": {},
   "outputs": [],
   "source": [
    "#Data type of seats can be category\n",
    "df[\"Seats\"] = df[\"Seats\"].astype(\"category\")\n",
    "df[\"Location\"] = df[\"Location\"].astype(\"category\")"
   ]
  },
  {
   "cell_type": "code",
   "execution_count": 116,
   "metadata": {},
   "outputs": [
    {
     "data": {
      "text/plain": [
       "New_Price            6139\n",
       "Price                 178\n",
       "Power                 136\n",
       "Mileage                80\n",
       "Seats                  47\n",
       "Engine                 40\n",
       "Owner_Type              0\n",
       "Transmission            0\n",
       "Fuel_Type               0\n",
       "Kilometers_Driven       0\n",
       "Year                    0\n",
       "Location                0\n",
       "Name                    0\n",
       "dtype: int64"
      ]
     },
     "execution_count": 116,
     "metadata": {},
     "output_type": "execute_result"
    }
   ],
   "source": [
    "df.isnull().sum().sort_values(ascending = False)"
   ]
  },
  {
   "cell_type": "code",
   "execution_count": 28,
   "metadata": {
    "scrolled": false
   },
   "outputs": [
    {
     "data": {
      "text/html": [
       "<div>\n",
       "<style scoped>\n",
       "    .dataframe tbody tr th:only-of-type {\n",
       "        vertical-align: middle;\n",
       "    }\n",
       "\n",
       "    .dataframe tbody tr th {\n",
       "        vertical-align: top;\n",
       "    }\n",
       "\n",
       "    .dataframe thead th {\n",
       "        text-align: right;\n",
       "    }\n",
       "</style>\n",
       "<table border=\"1\" class=\"dataframe\">\n",
       "  <thead>\n",
       "    <tr style=\"text-align: right;\">\n",
       "      <th></th>\n",
       "      <th>count</th>\n",
       "      <th>unique</th>\n",
       "      <th>top</th>\n",
       "      <th>freq</th>\n",
       "      <th>mean</th>\n",
       "      <th>std</th>\n",
       "      <th>min</th>\n",
       "      <th>25%</th>\n",
       "      <th>50%</th>\n",
       "      <th>75%</th>\n",
       "      <th>max</th>\n",
       "    </tr>\n",
       "  </thead>\n",
       "  <tbody>\n",
       "    <tr>\n",
       "      <th>Name</th>\n",
       "      <td>7253</td>\n",
       "      <td>2041</td>\n",
       "      <td>Mahindra XUV500 W8 2WD</td>\n",
       "      <td>55</td>\n",
       "      <td>NaN</td>\n",
       "      <td>NaN</td>\n",
       "      <td>NaN</td>\n",
       "      <td>NaN</td>\n",
       "      <td>NaN</td>\n",
       "      <td>NaN</td>\n",
       "      <td>NaN</td>\n",
       "    </tr>\n",
       "    <tr>\n",
       "      <th>Location</th>\n",
       "      <td>7253</td>\n",
       "      <td>11</td>\n",
       "      <td>Mumbai</td>\n",
       "      <td>949</td>\n",
       "      <td>NaN</td>\n",
       "      <td>NaN</td>\n",
       "      <td>NaN</td>\n",
       "      <td>NaN</td>\n",
       "      <td>NaN</td>\n",
       "      <td>NaN</td>\n",
       "      <td>NaN</td>\n",
       "    </tr>\n",
       "    <tr>\n",
       "      <th>Year</th>\n",
       "      <td>7253</td>\n",
       "      <td>NaN</td>\n",
       "      <td>NaN</td>\n",
       "      <td>NaN</td>\n",
       "      <td>2013.37</td>\n",
       "      <td>3.25442</td>\n",
       "      <td>1996</td>\n",
       "      <td>2011</td>\n",
       "      <td>2014</td>\n",
       "      <td>2016</td>\n",
       "      <td>2019</td>\n",
       "    </tr>\n",
       "    <tr>\n",
       "      <th>Kilometers_Driven</th>\n",
       "      <td>7253</td>\n",
       "      <td>NaN</td>\n",
       "      <td>NaN</td>\n",
       "      <td>NaN</td>\n",
       "      <td>57809.1</td>\n",
       "      <td>37497.3</td>\n",
       "      <td>171</td>\n",
       "      <td>34000</td>\n",
       "      <td>53392</td>\n",
       "      <td>73000</td>\n",
       "      <td>775000</td>\n",
       "    </tr>\n",
       "    <tr>\n",
       "      <th>Fuel_Type</th>\n",
       "      <td>7253</td>\n",
       "      <td>5</td>\n",
       "      <td>Diesel</td>\n",
       "      <td>3852</td>\n",
       "      <td>NaN</td>\n",
       "      <td>NaN</td>\n",
       "      <td>NaN</td>\n",
       "      <td>NaN</td>\n",
       "      <td>NaN</td>\n",
       "      <td>NaN</td>\n",
       "      <td>NaN</td>\n",
       "    </tr>\n",
       "    <tr>\n",
       "      <th>Transmission</th>\n",
       "      <td>7253</td>\n",
       "      <td>2</td>\n",
       "      <td>Manual</td>\n",
       "      <td>5204</td>\n",
       "      <td>NaN</td>\n",
       "      <td>NaN</td>\n",
       "      <td>NaN</td>\n",
       "      <td>NaN</td>\n",
       "      <td>NaN</td>\n",
       "      <td>NaN</td>\n",
       "      <td>NaN</td>\n",
       "    </tr>\n",
       "    <tr>\n",
       "      <th>Owner_Type</th>\n",
       "      <td>7253</td>\n",
       "      <td>4</td>\n",
       "      <td>First</td>\n",
       "      <td>5952</td>\n",
       "      <td>NaN</td>\n",
       "      <td>NaN</td>\n",
       "      <td>NaN</td>\n",
       "      <td>NaN</td>\n",
       "      <td>NaN</td>\n",
       "      <td>NaN</td>\n",
       "      <td>NaN</td>\n",
       "    </tr>\n",
       "    <tr>\n",
       "      <th>Mileage</th>\n",
       "      <td>7173</td>\n",
       "      <td>NaN</td>\n",
       "      <td>NaN</td>\n",
       "      <td>NaN</td>\n",
       "      <td>18.3442</td>\n",
       "      <td>4.15859</td>\n",
       "      <td>6.4</td>\n",
       "      <td>15.3</td>\n",
       "      <td>18.2</td>\n",
       "      <td>21.1</td>\n",
       "      <td>33.54</td>\n",
       "    </tr>\n",
       "    <tr>\n",
       "      <th>Engine</th>\n",
       "      <td>7213</td>\n",
       "      <td>NaN</td>\n",
       "      <td>NaN</td>\n",
       "      <td>NaN</td>\n",
       "      <td>1616.35</td>\n",
       "      <td>595.104</td>\n",
       "      <td>72</td>\n",
       "      <td>1198</td>\n",
       "      <td>1493</td>\n",
       "      <td>1968</td>\n",
       "      <td>5998</td>\n",
       "    </tr>\n",
       "    <tr>\n",
       "      <th>Power</th>\n",
       "      <td>7117</td>\n",
       "      <td>NaN</td>\n",
       "      <td>NaN</td>\n",
       "      <td>NaN</td>\n",
       "      <td>112.553</td>\n",
       "      <td>53.4279</td>\n",
       "      <td>34.2</td>\n",
       "      <td>75</td>\n",
       "      <td>94</td>\n",
       "      <td>138.1</td>\n",
       "      <td>616</td>\n",
       "    </tr>\n",
       "    <tr>\n",
       "      <th>Seats</th>\n",
       "      <td>7206</td>\n",
       "      <td>8</td>\n",
       "      <td>5</td>\n",
       "      <td>6054</td>\n",
       "      <td>NaN</td>\n",
       "      <td>NaN</td>\n",
       "      <td>NaN</td>\n",
       "      <td>NaN</td>\n",
       "      <td>NaN</td>\n",
       "      <td>NaN</td>\n",
       "      <td>NaN</td>\n",
       "    </tr>\n",
       "    <tr>\n",
       "      <th>New_Price</th>\n",
       "      <td>1114</td>\n",
       "      <td>NaN</td>\n",
       "      <td>NaN</td>\n",
       "      <td>NaN</td>\n",
       "      <td>22.234</td>\n",
       "      <td>26.8829</td>\n",
       "      <td>3.91</td>\n",
       "      <td>7.94</td>\n",
       "      <td>11.455</td>\n",
       "      <td>25.27</td>\n",
       "      <td>375</td>\n",
       "    </tr>\n",
       "    <tr>\n",
       "      <th>Price</th>\n",
       "      <td>7075</td>\n",
       "      <td>NaN</td>\n",
       "      <td>NaN</td>\n",
       "      <td>NaN</td>\n",
       "      <td>9.37217</td>\n",
       "      <td>10.935</td>\n",
       "      <td>0.44</td>\n",
       "      <td>3.495</td>\n",
       "      <td>5.55</td>\n",
       "      <td>9.855</td>\n",
       "      <td>160</td>\n",
       "    </tr>\n",
       "  </tbody>\n",
       "</table>\n",
       "</div>"
      ],
      "text/plain": [
       "                  count unique                     top  freq     mean  \\\n",
       "Name               7253   2041  Mahindra XUV500 W8 2WD    55      NaN   \n",
       "Location           7253     11                  Mumbai   949      NaN   \n",
       "Year               7253    NaN                     NaN   NaN  2013.37   \n",
       "Kilometers_Driven  7253    NaN                     NaN   NaN  57809.1   \n",
       "Fuel_Type          7253      5                  Diesel  3852      NaN   \n",
       "Transmission       7253      2                  Manual  5204      NaN   \n",
       "Owner_Type         7253      4                   First  5952      NaN   \n",
       "Mileage            7173    NaN                     NaN   NaN  18.3442   \n",
       "Engine             7213    NaN                     NaN   NaN  1616.35   \n",
       "Power              7117    NaN                     NaN   NaN  112.553   \n",
       "Seats              7206      8                       5  6054      NaN   \n",
       "New_Price          1114    NaN                     NaN   NaN   22.234   \n",
       "Price              7075    NaN                     NaN   NaN  9.37217   \n",
       "\n",
       "                       std   min    25%     50%    75%     max  \n",
       "Name                   NaN   NaN    NaN     NaN    NaN     NaN  \n",
       "Location               NaN   NaN    NaN     NaN    NaN     NaN  \n",
       "Year               3.25442  1996   2011    2014   2016    2019  \n",
       "Kilometers_Driven  37497.3   171  34000   53392  73000  775000  \n",
       "Fuel_Type              NaN   NaN    NaN     NaN    NaN     NaN  \n",
       "Transmission           NaN   NaN    NaN     NaN    NaN     NaN  \n",
       "Owner_Type             NaN   NaN    NaN     NaN    NaN     NaN  \n",
       "Mileage            4.15859   6.4   15.3    18.2   21.1   33.54  \n",
       "Engine             595.104    72   1198    1493   1968    5998  \n",
       "Power              53.4279  34.2     75      94  138.1     616  \n",
       "Seats                  NaN   NaN    NaN     NaN    NaN     NaN  \n",
       "New_Price          26.8829  3.91   7.94  11.455  25.27     375  \n",
       "Price               10.935  0.44  3.495    5.55  9.855     160  "
      ]
     },
     "execution_count": 28,
     "metadata": {},
     "output_type": "execute_result"
    }
   ],
   "source": [
    "df.describe(include = \"all\").T"
   ]
  },
  {
   "cell_type": "code",
   "execution_count": 29,
   "metadata": {},
   "outputs": [
    {
     "data": {
      "text/plain": [
       "New_Price            6139\n",
       "Price                 178\n",
       "Power                 136\n",
       "Mileage                80\n",
       "Seats                  47\n",
       "Engine                 40\n",
       "Owner_Type              0\n",
       "Transmission            0\n",
       "Fuel_Type               0\n",
       "Kilometers_Driven       0\n",
       "Year                    0\n",
       "Location                0\n",
       "Name                    0\n",
       "dtype: int64"
      ]
     },
     "execution_count": 29,
     "metadata": {},
     "output_type": "execute_result"
    }
   ],
   "source": [
    "df.isnull().sum().sort_values(ascending = False)"
   ]
  },
  {
   "cell_type": "code",
   "execution_count": 30,
   "metadata": {},
   "outputs": [
    {
     "data": {
      "text/html": [
       "<div>\n",
       "<style scoped>\n",
       "    .dataframe tbody tr th:only-of-type {\n",
       "        vertical-align: middle;\n",
       "    }\n",
       "\n",
       "    .dataframe tbody tr th {\n",
       "        vertical-align: top;\n",
       "    }\n",
       "\n",
       "    .dataframe thead th {\n",
       "        text-align: right;\n",
       "    }\n",
       "</style>\n",
       "<table border=\"1\" class=\"dataframe\">\n",
       "  <thead>\n",
       "    <tr style=\"text-align: right;\">\n",
       "      <th></th>\n",
       "      <th>count</th>\n",
       "      <th>mean</th>\n",
       "      <th>std</th>\n",
       "      <th>min</th>\n",
       "      <th>25%</th>\n",
       "      <th>50%</th>\n",
       "      <th>75%</th>\n",
       "      <th>max</th>\n",
       "    </tr>\n",
       "  </thead>\n",
       "  <tbody>\n",
       "    <tr>\n",
       "      <th>Year</th>\n",
       "      <td>7253.0</td>\n",
       "      <td>2013.365366</td>\n",
       "      <td>3.254421</td>\n",
       "      <td>1996.00</td>\n",
       "      <td>2011.000</td>\n",
       "      <td>2014.000</td>\n",
       "      <td>2016.000</td>\n",
       "      <td>2019.00</td>\n",
       "    </tr>\n",
       "    <tr>\n",
       "      <th>Kilometers_Driven</th>\n",
       "      <td>7253.0</td>\n",
       "      <td>57809.086585</td>\n",
       "      <td>37497.253451</td>\n",
       "      <td>171.00</td>\n",
       "      <td>34000.000</td>\n",
       "      <td>53392.000</td>\n",
       "      <td>73000.000</td>\n",
       "      <td>775000.00</td>\n",
       "    </tr>\n",
       "    <tr>\n",
       "      <th>Mileage</th>\n",
       "      <td>7173.0</td>\n",
       "      <td>18.344207</td>\n",
       "      <td>4.158588</td>\n",
       "      <td>6.40</td>\n",
       "      <td>15.300</td>\n",
       "      <td>18.200</td>\n",
       "      <td>21.100</td>\n",
       "      <td>33.54</td>\n",
       "    </tr>\n",
       "    <tr>\n",
       "      <th>Engine</th>\n",
       "      <td>7213.0</td>\n",
       "      <td>1616.347706</td>\n",
       "      <td>595.104189</td>\n",
       "      <td>72.00</td>\n",
       "      <td>1198.000</td>\n",
       "      <td>1493.000</td>\n",
       "      <td>1968.000</td>\n",
       "      <td>5998.00</td>\n",
       "    </tr>\n",
       "    <tr>\n",
       "      <th>Power</th>\n",
       "      <td>7117.0</td>\n",
       "      <td>112.552661</td>\n",
       "      <td>53.427916</td>\n",
       "      <td>34.20</td>\n",
       "      <td>75.000</td>\n",
       "      <td>94.000</td>\n",
       "      <td>138.100</td>\n",
       "      <td>616.00</td>\n",
       "    </tr>\n",
       "    <tr>\n",
       "      <th>New_Price</th>\n",
       "      <td>1114.0</td>\n",
       "      <td>22.234017</td>\n",
       "      <td>26.882942</td>\n",
       "      <td>3.91</td>\n",
       "      <td>7.940</td>\n",
       "      <td>11.455</td>\n",
       "      <td>25.270</td>\n",
       "      <td>375.00</td>\n",
       "    </tr>\n",
       "    <tr>\n",
       "      <th>Price</th>\n",
       "      <td>7075.0</td>\n",
       "      <td>9.372172</td>\n",
       "      <td>10.935046</td>\n",
       "      <td>0.44</td>\n",
       "      <td>3.495</td>\n",
       "      <td>5.550</td>\n",
       "      <td>9.855</td>\n",
       "      <td>160.00</td>\n",
       "    </tr>\n",
       "  </tbody>\n",
       "</table>\n",
       "</div>"
      ],
      "text/plain": [
       "                    count          mean           std      min        25%  \\\n",
       "Year               7253.0   2013.365366      3.254421  1996.00   2011.000   \n",
       "Kilometers_Driven  7253.0  57809.086585  37497.253451   171.00  34000.000   \n",
       "Mileage            7173.0     18.344207      4.158588     6.40     15.300   \n",
       "Engine             7213.0   1616.347706    595.104189    72.00   1198.000   \n",
       "Power              7117.0    112.552661     53.427916    34.20     75.000   \n",
       "New_Price          1114.0     22.234017     26.882942     3.91      7.940   \n",
       "Price              7075.0      9.372172     10.935046     0.44      3.495   \n",
       "\n",
       "                         50%        75%        max  \n",
       "Year                2014.000   2016.000    2019.00  \n",
       "Kilometers_Driven  53392.000  73000.000  775000.00  \n",
       "Mileage               18.200     21.100      33.54  \n",
       "Engine              1493.000   1968.000    5998.00  \n",
       "Power                 94.000    138.100     616.00  \n",
       "New_Price             11.455     25.270     375.00  \n",
       "Price                  5.550      9.855     160.00  "
      ]
     },
     "execution_count": 30,
     "metadata": {},
     "output_type": "execute_result"
    }
   ],
   "source": [
    "df.describe().T"
   ]
  },
  {
   "cell_type": "markdown",
   "metadata": {},
   "source": [
    "- Price of used car ranges from 44000 to 160Lakhs, 75% of the cars are priced around 10 lakhs which shows the existence of outliers"
   ]
  },
  {
   "cell_type": "markdown",
   "metadata": {},
   "source": [
    "### Univariate analysis"
   ]
  },
  {
   "cell_type": "code",
   "execution_count": 31,
   "metadata": {
    "scrolled": false
   },
   "outputs": [
    {
     "data": {
      "image/png": "[encoded data removed]",
      "text/plain": [
       "<Figure size 1224x5400 with 6 Axes>"
      ]
     },
     "metadata": {
      "needs_background": "light"
     },
     "output_type": "display_data"
    }
   ],
   "source": [
    "# lets plot histogram of all numeric variables\n",
    "from scipy.stats import norm\n",
    "all_col = df.select_dtypes(include=np.number).columns.tolist()\n",
    "all_col.remove('Year')\n",
    "plt.figure(figsize=(17,75))\n",
    "\n",
    "for i in range(len(all_col)):\n",
    "    plt.subplot(18,3,i+1)\n",
    "    plt.hist(df[all_col[i]])\n",
    "    #sns.displot(df[all_col[i]], kde=True)\n",
    "    plt.tight_layout()\n",
    "    plt.title(all_col[i],fontsize=25)\n",
    "    \n",
    "\n",
    "plt.show()"
   ]
  },
  {
   "cell_type": "markdown",
   "metadata": {},
   "source": [
    "- Mileage has a normal distribution, Engine also has normal distribution with a couple of outliers\n",
    "- Power, Kilometers and Price are right skewed\n",
    "    * Kilometers_Driven has outliers which might have made it right skewed, which can be understandable as there are cars from 1996 which can have more Kilometers\n",
    "    * Price also is highly right skewed might be because of outliers"
   ]
  },
  {
   "cell_type": "code",
   "execution_count": 32,
   "metadata": {},
   "outputs": [
    {
     "name": "stdout",
     "output_type": "stream",
     "text": [
      "Mumbai        949\n",
      "Hyderabad     876\n",
      "Kochi         772\n",
      "Coimbatore    772\n",
      "Pune          765\n",
      "Delhi         660\n",
      "Kolkata       654\n",
      "Chennai       591\n",
      "Jaipur        499\n",
      "Bangalore     440\n",
      "Name: Location, dtype: int64\n",
      "Only displaying first 10 of 11 values.\n",
      "\n",
      "\n",
      "\n",
      "Diesel      3852\n",
      "Petrol      3325\n",
      "CNG           62\n",
      "LPG           12\n",
      "Electric       2\n",
      "Name: Fuel_Type, dtype: int64\n",
      "\n",
      "\n",
      "\n",
      "Manual       5204\n",
      "Automatic    2049\n",
      "Name: Transmission, dtype: int64\n",
      "\n",
      "\n",
      "\n",
      "First             5952\n",
      "Second            1152\n",
      "Third              137\n",
      "Fourth & Above      12\n",
      "Name: Owner_Type, dtype: int64\n",
      "\n",
      "\n",
      "\n",
      "5.0     6054\n",
      "7.0      796\n",
      "8.0      170\n",
      "4.0      119\n",
      "NaN       47\n",
      "6.0       38\n",
      "2.0       18\n",
      "10.0       8\n",
      "9.0        3\n",
      "Name: Seats, dtype: int64\n",
      "\n",
      "\n",
      "\n"
     ]
    }
   ],
   "source": [
    "# looking at value counts for categorical variables\n",
    "\n",
    "num_to_display = 10  # defining this up here so it's easy to change later if I want\n",
    "for colname in df.dtypes[df.dtypes == 'category'].index:\n",
    "    val_counts = df[colname].value_counts(dropna=False)  # i want to see NA counts\n",
    "    print(val_counts[:num_to_display])\n",
    "    if len(val_counts) > num_to_display:\n",
    "        print(f'Only displaying first {num_to_display} of {len(val_counts)} values.')\n",
    "    print('\\n\\n') # just for more space between "
   ]
  },
  {
   "cell_type": "markdown",
   "metadata": {},
   "source": [
    "- There are cars from 11 different cities\n",
    "- There are 3852 diesel cars\n",
    "- Majority of cars in the dataset have Owner type First\n",
    "- There are 47 cars which has a missing value of seats"
   ]
  },
  {
   "cell_type": "markdown",
   "metadata": {},
   "source": [
    "## Bivariate Analysis"
   ]
  },
  {
   "cell_type": "markdown",
   "metadata": {},
   "source": [
    "### Correlation with Pairplot"
   ]
  },
  {
   "cell_type": "code",
   "execution_count": 33,
   "metadata": {
    "scrolled": false
   },
   "outputs": [
    {
     "data": {
      "image/png": "[encoded data removed]",
      "text/plain": [
       "<Figure size 432x288 with 2 Axes>"
      ]
     },
     "metadata": {
      "needs_background": "light"
     },
     "output_type": "display_data"
    }
   ],
   "source": [
    "sns.heatmap(df.corr(), annot = True,vmin = -1,vmax = 1, center = 0);"
   ]
  },
  {
   "cell_type": "markdown",
   "metadata": {},
   "source": [
    "- Kilometers_Driven has a negative correlation with Price which means higher kilometers the car has travelled lower is the price.\n",
    "- Year, Engine have a positive relation with price which means latest car with higher engine capacity has higher price.\n",
    "- Engine and mileage have negative correlation which means more fuel is consumed by cars with bigger engine.\n",
    "- Power and engine have a positive correlation which means bigger engines have more power and comsume more fuel.\n",
    "- Engine and Power seems to have a strong positive relation with Price whereas mileage has negative relation which means bigger engine and bigger power is tend to be higher priced.\n",
    "- From the above observations we can state that cars with bigger engine will have high power and less mileage and these type of cars are priced higher."
   ]
  },
  {
   "cell_type": "markdown",
   "metadata": {},
   "source": [
    "### Price vs Kilometers_Driven vs Transmission"
   ]
  },
  {
   "cell_type": "code",
   "execution_count": 117,
   "metadata": {
    "scrolled": false
   },
   "outputs": [
    {
     "data": {
      "image/png": "[encoded data removed]",
      "text/plain": [
       "<Figure size 864x576 with 1 Axes>"
      ]
     },
     "metadata": {
      "needs_background": "light"
     },
     "output_type": "display_data"
    }
   ],
   "source": [
    "plt.figure(figsize = (12,8))\n",
    "sns.scatterplot(x = \"Kilometers_Driven\", y = \"Price\", hue = \"Transmission\", data = df);\n",
    "plt.savefig(\"KMvsPrice.png\")"
   ]
  },
  {
   "cell_type": "markdown",
   "metadata": {},
   "source": [
    "- Cars with more kilometers driven tend to have lower price\n",
    "- Cars with automatic transmission have higher prices when compared to one with manual transmission cars\n",
    "- There are very few automatic cars that have more than 25000 Kilometers_Driven"
   ]
  },
  {
   "cell_type": "markdown",
   "metadata": {},
   "source": [
    "### Price vs Kilometers_Driven vs Fuel_Type"
   ]
  },
  {
   "cell_type": "code",
   "execution_count": 35,
   "metadata": {
    "scrolled": false
   },
   "outputs": [
    {
     "data": {
      "image/png": "[encoded data removed]",
      "text/plain": [
       "<Figure size 864x576 with 1 Axes>"
      ]
     },
     "metadata": {
      "needs_background": "light"
     },
     "output_type": "display_data"
    }
   ],
   "source": [
    "plt.figure(figsize = (12,8))\n",
    "sns.scatterplot(x = \"Kilometers_Driven\", y = \"Price\", hue = \"Fuel_Type\", data = df,palette = \"Dark2\");"
   ]
  },
  {
   "cell_type": "markdown",
   "metadata": {},
   "source": [
    "- There are no CNG, Electric and LPG cars that have more than 200000 Kilometers which can be because the usage of these fuel types has started recently"
   ]
  },
  {
   "cell_type": "markdown",
   "metadata": {},
   "source": [
    "### Engine vs Price vs Owner_Type"
   ]
  },
  {
   "cell_type": "code",
   "execution_count": 36,
   "metadata": {
    "scrolled": false
   },
   "outputs": [
    {
     "data": {
      "image/png": "[encoded data removed]",
      "text/plain": [
       "<Figure size 864x576 with 1 Axes>"
      ]
     },
     "metadata": {
      "needs_background": "light"
     },
     "output_type": "display_data"
    }
   ],
   "source": [
    "plt.figure(figsize = (12,8))\n",
    "sns.scatterplot(x = \"Engine\", y = \"Price\", hue = \"Owner_Type\", data = df,palette = \"Dark2\");"
   ]
  },
  {
   "cell_type": "markdown",
   "metadata": {},
   "source": [
    "- Automatic cars tend to have bigger engines\n",
    "- Price increased with engine"
   ]
  },
  {
   "cell_type": "code",
   "execution_count": 119,
   "metadata": {
    "scrolled": false
   },
   "outputs": [
    {
     "data": {
      "image/png": "[encoded data removed]",
      "text/plain": [
       "<Figure size 864x576 with 1 Axes>"
      ]
     },
     "metadata": {
      "needs_background": "light"
     },
     "output_type": "display_data"
    }
   ],
   "source": [
    "plt.figure(figsize = (12,8))\n",
    "sns.scatterplot(x = \"Power\", y = \"Price\", hue = \"Fuel_Type\", data = df,palette = \"twilight\");\n",
    "plt.savefig(\"powervsPrice.png\")"
   ]
  },
  {
   "cell_type": "markdown",
   "metadata": {},
   "source": [
    "- Cars with bigger engine capacity run either with Petrol or diesel"
   ]
  },
  {
   "cell_type": "markdown",
   "metadata": {},
   "source": [
    "### Price vs Year vs Owner_Type"
   ]
  },
  {
   "cell_type": "code",
   "execution_count": 120,
   "metadata": {
    "scrolled": false
   },
   "outputs": [
    {
     "data": {
      "image/png": "[encoded data removed]",
      "text/plain": [
       "<Figure size 864x576 with 1 Axes>"
      ]
     },
     "metadata": {
      "needs_background": "light"
     },
     "output_type": "display_data"
    }
   ],
   "source": [
    "plt.figure(figsize = (12,8))\n",
    "sns.scatterplot(x = \"Year\", y = \"Price\", hue = \"Owner_Type\", data = df,palette = \"Dark2\");\n",
    "plt.savefig(\"YearvsPrice.png\")"
   ]
  },
  {
   "cell_type": "markdown",
   "metadata": {},
   "source": [
    "- As expected latest cars tend to have higher prices when compared to older cars"
   ]
  },
  {
   "cell_type": "code",
   "execution_count": 39,
   "metadata": {
    "scrolled": true
   },
   "outputs": [
    {
     "data": {
      "image/png": "[encoded data removed]",
      "text/plain": [
       "<Figure size 864x576 with 1 Axes>"
      ]
     },
     "metadata": {
      "needs_background": "light"
     },
     "output_type": "display_data"
    }
   ],
   "source": [
    "plt.figure(figsize = (12,8))\n",
    "sns.boxplot(x = \"Fuel_Type\", y = \"Price\", data = cars);"
   ]
  },
  {
   "cell_type": "markdown",
   "metadata": {},
   "source": [
    "### Feature Engineering\n",
    "We will create a new feature called Make which will be the Brand of the car, which will have some weightage as some Brand of cars have more value when compared to other and can impact on Price."
   ]
  },
  {
   "cell_type": "code",
   "execution_count": 40,
   "metadata": {},
   "outputs": [
    {
     "data": {
      "text/plain": [
       "32"
      ]
     },
     "execution_count": 40,
     "metadata": {},
     "output_type": "execute_result"
    }
   ],
   "source": [
    "#Creating new feature\n",
    "df['Make'] = df.Name.str.split().str.get(0).str.title()\n",
    "#.title() converts the string to start with upper case letter and rest of the letters to be lower case\n",
    "df.loc[cars[\"Name\"].str.startswith(\"Land Rover\"),\"Make\"] = \"Land Rover\"\n",
    "df[\"Make\"].nunique()"
   ]
  },
  {
   "cell_type": "markdown",
   "metadata": {},
   "source": [
    "We can now drop name as there are 2041 unique cars and for model building it will be easier if we have less number of categorical variables, which significantly dropped to 32 different brands that exist in the dataset"
   ]
  },
  {
   "cell_type": "code",
   "execution_count": 41,
   "metadata": {},
   "outputs": [],
   "source": [
    "df[\"Make\"] = df[\"Make\"].astype(\"category\")"
   ]
  },
  {
   "cell_type": "code",
   "execution_count": 42,
   "metadata": {},
   "outputs": [],
   "source": [
    "df.drop([\"Name\"], axis = 1, inplace = True)"
   ]
  },
  {
   "cell_type": "code",
   "execution_count": 43,
   "metadata": {},
   "outputs": [],
   "source": [
    "df.drop([\"New_Price\"], axis = 1, inplace = True)#Removing New_Price as more than 80% of the data is missing"
   ]
  },
  {
   "cell_type": "code",
   "execution_count": 44,
   "metadata": {},
   "outputs": [],
   "source": [
    "df[\"Seats\"] = df[\"Seats\"].astype(\"float64\")# To impute missing values, we convert seats to float as int cannot have NaN values"
   ]
  },
  {
   "cell_type": "code",
   "execution_count": 45,
   "metadata": {},
   "outputs": [],
   "source": [
    "df[\"Seats\"] = df.groupby([\"Make\"])[\"Seats\"].apply(lambda x:x.fillna(x.median()))"
   ]
  },
  {
   "cell_type": "code",
   "execution_count": 46,
   "metadata": {},
   "outputs": [],
   "source": [
    "df[\"Seats\"] = df[\"Seats\"].astype(\"category\")# Once we impute we will convert this back to category for model building purpose"
   ]
  },
  {
   "cell_type": "code",
   "execution_count": 47,
   "metadata": {
    "scrolled": true
   },
   "outputs": [
    {
     "data": {
      "text/plain": [
       "Location               0\n",
       "Year                   0\n",
       "Kilometers_Driven      0\n",
       "Fuel_Type              0\n",
       "Transmission           0\n",
       "Owner_Type             0\n",
       "Mileage               80\n",
       "Engine                40\n",
       "Power                136\n",
       "Seats                  0\n",
       "Price                178\n",
       "Make                   0\n",
       "dtype: int64"
      ]
     },
     "execution_count": 47,
     "metadata": {},
     "output_type": "execute_result"
    }
   ],
   "source": [
    "df.isnull().sum()"
   ]
  },
  {
   "cell_type": "markdown",
   "metadata": {},
   "source": [
    "Dropping the rest of the missing values is better as imputing them with median could skew the results as we saw in pairplot, they have correlation with Price"
   ]
  },
  {
   "cell_type": "code",
   "execution_count": 48,
   "metadata": {},
   "outputs": [],
   "source": [
    "df.dropna(axis = 0, inplace = True)"
   ]
  },
  {
   "cell_type": "code",
   "execution_count": 49,
   "metadata": {},
   "outputs": [
    {
     "data": {
      "text/plain": [
       "Location             0\n",
       "Year                 0\n",
       "Kilometers_Driven    0\n",
       "Fuel_Type            0\n",
       "Transmission         0\n",
       "Owner_Type           0\n",
       "Mileage              0\n",
       "Engine               0\n",
       "Power                0\n",
       "Seats                0\n",
       "Price                0\n",
       "Make                 0\n",
       "dtype: int64"
      ]
     },
     "execution_count": 49,
     "metadata": {},
     "output_type": "execute_result"
    }
   ],
   "source": [
    "df.isnull().sum()"
   ]
  },
  {
   "cell_type": "markdown",
   "metadata": {},
   "source": [
    "- There are no missing values, we can start treating outliers"
   ]
  },
  {
   "cell_type": "markdown",
   "metadata": {},
   "source": [
    "### Outlier Treatment"
   ]
  },
  {
   "cell_type": "code",
   "execution_count": 50,
   "metadata": {},
   "outputs": [],
   "source": [
    "# Lets treat outliers by flooring and capping\n",
    "def treat_outliers(df,col):\n",
    "    '''\n",
    "    treats outliers in a varaible\n",
    "    col: str, name of the numerical varaible\n",
    "    df: data frame\n",
    "    col: name of the column\n",
    "    '''\n",
    "    Q1=df[col].quantile(0.25) # 25th quantile\n",
    "    Q3=df[col].quantile(0.75)  # 75th quantile\n",
    "    IQR=Q3-Q1\n",
    "    Lower_Whisker = Q1 - 1.5*IQR \n",
    "    Upper_Whisker = Q3 + 1.5*IQR\n",
    "    df[col] = np.clip(df[col], Lower_Whisker, Upper_Whisker) # all the values samller than Lower_Whisker will be assigned value of Lower_whisker \n",
    "                                                            # and all the values above upper_whishker will be assigned value of upper_Whisker \n",
    "    return df\n",
    "\n",
    "def treat_outliers_all(df, col_list):\n",
    "    '''\n",
    "    treat outlier in all numerical varaibles\n",
    "    col_list: list of numerical varaibles\n",
    "    df: data frame\n",
    "    '''\n",
    "    for c in col_list:\n",
    "        df = treat_outliers(df,c)\n",
    "        \n",
    "    return df\n",
    "    "
   ]
  },
  {
   "cell_type": "code",
   "execution_count": 51,
   "metadata": {},
   "outputs": [],
   "source": [
    "numerical_col = df.select_dtypes(include=np.number).columns.tolist()\n",
    "df = treat_outliers_all(df,numerical_col)"
   ]
  },
  {
   "cell_type": "code",
   "execution_count": 52,
   "metadata": {
    "scrolled": false
   },
   "outputs": [
    {
     "data": {
      "image/png": "[encoded data removed]",
      "text/plain": [
       "<Figure size 1440x2160 with 6 Axes>"
      ]
     },
     "metadata": {
      "needs_background": "light"
     },
     "output_type": "display_data"
    }
   ],
   "source": [
    "# lets look at box plot to see if outliers has been treated or not\n",
    "plt.figure(figsize=(20,30))\n",
    "\n",
    "for i, variable in enumerate(numerical_col):\n",
    "                     plt.subplot(5,4,i+1)\n",
    "                     plt.boxplot(df[variable],whis=1.5)\n",
    "                     plt.tight_layout()\n",
    "                     plt.title(variable)\n",
    "\n",
    "plt.show()"
   ]
  },
  {
   "cell_type": "markdown",
   "metadata": {
    "id": "xchyVDRQqH7S"
   },
   "source": [
    "# Model Building"
   ]
  },
  {
   "cell_type": "code",
   "execution_count": 53,
   "metadata": {},
   "outputs": [
    {
     "name": "stdout",
     "output_type": "stream",
     "text": [
      "<class 'pandas.core.frame.DataFrame'>\n",
      "Int64Index: 6910 entries, 0 to 7252\n",
      "Data columns (total 12 columns):\n",
      " #   Column             Non-Null Count  Dtype   \n",
      "---  ------             --------------  -----   \n",
      " 0   Location           6910 non-null   category\n",
      " 1   Year               6910 non-null   int64   \n",
      " 2   Kilometers_Driven  6910 non-null   float64 \n",
      " 3   Fuel_Type          6910 non-null   category\n",
      " 4   Transmission       6910 non-null   category\n",
      " 5   Owner_Type         6910 non-null   category\n",
      " 6   Mileage            6910 non-null   float64 \n",
      " 7   Engine             6910 non-null   float64 \n",
      " 8   Power              6910 non-null   float64 \n",
      " 9   Seats              6910 non-null   category\n",
      " 10  Price              6910 non-null   float64 \n",
      " 11  Make               6910 non-null   category\n",
      "dtypes: category(6), float64(5), int64(1)\n",
      "memory usage: 421.1 KB\n"
     ]
    }
   ],
   "source": [
    "df.info()"
   ]
  },
  {
   "cell_type": "code",
   "execution_count": 54,
   "metadata": {
    "scrolled": false
   },
   "outputs": [
    {
     "name": "stdout",
     "output_type": "stream",
     "text": [
      "     Location  Year  Kilometers_Driven Fuel_Type Transmission Owner_Type  \\\n",
      "0      Mumbai  2010            72000.0       CNG       Manual      First   \n",
      "1        Pune  2015            41000.0    Diesel       Manual      First   \n",
      "2     Chennai  2011            46000.0    Petrol       Manual      First   \n",
      "3     Chennai  2012            87000.0    Diesel       Manual      First   \n",
      "4  Coimbatore  2013            40670.0    Diesel    Automatic     Second   \n",
      "\n",
      "   Mileage  Engine   Power Seats     Make  \n",
      "0    26.60   998.0   58.16   5.0   Maruti  \n",
      "1    19.67  1582.0  126.20   5.0  Hyundai  \n",
      "2    18.20  1199.0   88.70   5.0    Honda  \n",
      "3    20.77  1248.0   88.76   7.0   Maruti  \n",
      "4    15.20  1968.0  140.80   5.0     Audi  \n",
      "   Price\n",
      "0   1.75\n",
      "1  12.50\n",
      "2   4.50\n",
      "3   6.00\n",
      "4  17.74\n",
      "(6910, 11)\n",
      "(6910, 1)\n"
     ]
    }
   ],
   "source": [
    "#Defining X and y variables\n",
    "X = df.drop(['Price'], axis=1)\n",
    "y = df[['Price']]\n",
    "\n",
    "print(X.head())\n",
    "print(y.head())\n",
    "print(X.shape)\n",
    "print(y.shape)"
   ]
  },
  {
   "cell_type": "markdown",
   "metadata": {},
   "source": [
    "### Create Dummy Variables"
   ]
  },
  {
   "cell_type": "code",
   "execution_count": 55,
   "metadata": {
    "scrolled": true
   },
   "outputs": [
    {
     "data": {
      "text/html": [
       "<div>\n",
       "<style scoped>\n",
       "    .dataframe tbody tr th:only-of-type {\n",
       "        vertical-align: middle;\n",
       "    }\n",
       "\n",
       "    .dataframe tbody tr th {\n",
       "        vertical-align: top;\n",
       "    }\n",
       "\n",
       "    .dataframe thead th {\n",
       "        text-align: right;\n",
       "    }\n",
       "</style>\n",
       "<table border=\"1\" class=\"dataframe\">\n",
       "  <thead>\n",
       "    <tr style=\"text-align: right;\">\n",
       "      <th></th>\n",
       "      <th>Year</th>\n",
       "      <th>Kilometers_Driven</th>\n",
       "      <th>Mileage</th>\n",
       "      <th>Engine</th>\n",
       "      <th>Power</th>\n",
       "      <th>Location_Bangalore</th>\n",
       "      <th>Location_Chennai</th>\n",
       "      <th>Location_Coimbatore</th>\n",
       "      <th>Location_Delhi</th>\n",
       "      <th>Location_Hyderabad</th>\n",
       "      <th>...</th>\n",
       "      <th>Make_Nissan</th>\n",
       "      <th>Make_Opelcorsa</th>\n",
       "      <th>Make_Porsche</th>\n",
       "      <th>Make_Renault</th>\n",
       "      <th>Make_Skoda</th>\n",
       "      <th>Make_Smart</th>\n",
       "      <th>Make_Tata</th>\n",
       "      <th>Make_Toyota</th>\n",
       "      <th>Make_Volkswagen</th>\n",
       "      <th>Make_Volvo</th>\n",
       "    </tr>\n",
       "  </thead>\n",
       "  <tbody>\n",
       "    <tr>\n",
       "      <th>0</th>\n",
       "      <td>2010</td>\n",
       "      <td>72000.0</td>\n",
       "      <td>26.60</td>\n",
       "      <td>998.0</td>\n",
       "      <td>58.16</td>\n",
       "      <td>0</td>\n",
       "      <td>0</td>\n",
       "      <td>0</td>\n",
       "      <td>0</td>\n",
       "      <td>0</td>\n",
       "      <td>...</td>\n",
       "      <td>0</td>\n",
       "      <td>0</td>\n",
       "      <td>0</td>\n",
       "      <td>0</td>\n",
       "      <td>0</td>\n",
       "      <td>0</td>\n",
       "      <td>0</td>\n",
       "      <td>0</td>\n",
       "      <td>0</td>\n",
       "      <td>0</td>\n",
       "    </tr>\n",
       "    <tr>\n",
       "      <th>1</th>\n",
       "      <td>2015</td>\n",
       "      <td>41000.0</td>\n",
       "      <td>19.67</td>\n",
       "      <td>1582.0</td>\n",
       "      <td>126.20</td>\n",
       "      <td>0</td>\n",
       "      <td>0</td>\n",
       "      <td>0</td>\n",
       "      <td>0</td>\n",
       "      <td>0</td>\n",
       "      <td>...</td>\n",
       "      <td>0</td>\n",
       "      <td>0</td>\n",
       "      <td>0</td>\n",
       "      <td>0</td>\n",
       "      <td>0</td>\n",
       "      <td>0</td>\n",
       "      <td>0</td>\n",
       "      <td>0</td>\n",
       "      <td>0</td>\n",
       "      <td>0</td>\n",
       "    </tr>\n",
       "    <tr>\n",
       "      <th>2</th>\n",
       "      <td>2011</td>\n",
       "      <td>46000.0</td>\n",
       "      <td>18.20</td>\n",
       "      <td>1199.0</td>\n",
       "      <td>88.70</td>\n",
       "      <td>0</td>\n",
       "      <td>1</td>\n",
       "      <td>0</td>\n",
       "      <td>0</td>\n",
       "      <td>0</td>\n",
       "      <td>...</td>\n",
       "      <td>0</td>\n",
       "      <td>0</td>\n",
       "      <td>0</td>\n",
       "      <td>0</td>\n",
       "      <td>0</td>\n",
       "      <td>0</td>\n",
       "      <td>0</td>\n",
       "      <td>0</td>\n",
       "      <td>0</td>\n",
       "      <td>0</td>\n",
       "    </tr>\n",
       "    <tr>\n",
       "      <th>3</th>\n",
       "      <td>2012</td>\n",
       "      <td>87000.0</td>\n",
       "      <td>20.77</td>\n",
       "      <td>1248.0</td>\n",
       "      <td>88.76</td>\n",
       "      <td>0</td>\n",
       "      <td>1</td>\n",
       "      <td>0</td>\n",
       "      <td>0</td>\n",
       "      <td>0</td>\n",
       "      <td>...</td>\n",
       "      <td>0</td>\n",
       "      <td>0</td>\n",
       "      <td>0</td>\n",
       "      <td>0</td>\n",
       "      <td>0</td>\n",
       "      <td>0</td>\n",
       "      <td>0</td>\n",
       "      <td>0</td>\n",
       "      <td>0</td>\n",
       "      <td>0</td>\n",
       "    </tr>\n",
       "    <tr>\n",
       "      <th>4</th>\n",
       "      <td>2013</td>\n",
       "      <td>40670.0</td>\n",
       "      <td>15.20</td>\n",
       "      <td>1968.0</td>\n",
       "      <td>140.80</td>\n",
       "      <td>0</td>\n",
       "      <td>0</td>\n",
       "      <td>1</td>\n",
       "      <td>0</td>\n",
       "      <td>0</td>\n",
       "      <td>...</td>\n",
       "      <td>0</td>\n",
       "      <td>0</td>\n",
       "      <td>0</td>\n",
       "      <td>0</td>\n",
       "      <td>0</td>\n",
       "      <td>0</td>\n",
       "      <td>0</td>\n",
       "      <td>0</td>\n",
       "      <td>0</td>\n",
       "      <td>0</td>\n",
       "    </tr>\n",
       "  </tbody>\n",
       "</table>\n",
       "<p>5 rows × 61 columns</p>\n",
       "</div>"
      ],
      "text/plain": [
       "   Year  Kilometers_Driven  Mileage  Engine   Power  Location_Bangalore  \\\n",
       "0  2010            72000.0    26.60   998.0   58.16                   0   \n",
       "1  2015            41000.0    19.67  1582.0  126.20                   0   \n",
       "2  2011            46000.0    18.20  1199.0   88.70                   0   \n",
       "3  2012            87000.0    20.77  1248.0   88.76                   0   \n",
       "4  2013            40670.0    15.20  1968.0  140.80                   0   \n",
       "\n",
       "   Location_Chennai  Location_Coimbatore  Location_Delhi  Location_Hyderabad  \\\n",
       "0                 0                    0               0                   0   \n",
       "1                 0                    0               0                   0   \n",
       "2                 1                    0               0                   0   \n",
       "3                 1                    0               0                   0   \n",
       "4                 0                    1               0                   0   \n",
       "\n",
       "   ...  Make_Nissan  Make_Opelcorsa  Make_Porsche  Make_Renault  Make_Skoda  \\\n",
       "0  ...            0               0             0             0           0   \n",
       "1  ...            0               0             0             0           0   \n",
       "2  ...            0               0             0             0           0   \n",
       "3  ...            0               0             0             0           0   \n",
       "4  ...            0               0             0             0           0   \n",
       "\n",
       "   Make_Smart  Make_Tata  Make_Toyota  Make_Volkswagen  Make_Volvo  \n",
       "0           0          0            0                0           0  \n",
       "1           0          0            0                0           0  \n",
       "2           0          0            0                0           0  \n",
       "3           0          0            0                0           0  \n",
       "4           0          0            0                0           0  \n",
       "\n",
       "[5 rows x 61 columns]"
      ]
     },
     "execution_count": 55,
     "metadata": {},
     "output_type": "execute_result"
    }
   ],
   "source": [
    "X = pd.get_dummies(X, columns=['Location', 'Fuel_Type', 'Transmission','Seats', 'Owner_Type', 'Make'], drop_first=True)\n",
    "X.head()"
   ]
  },
  {
   "cell_type": "code",
   "execution_count": 56,
   "metadata": {},
   "outputs": [
    {
     "data": {
      "text/html": [
       "<div>\n",
       "<style scoped>\n",
       "    .dataframe tbody tr th:only-of-type {\n",
       "        vertical-align: middle;\n",
       "    }\n",
       "\n",
       "    .dataframe tbody tr th {\n",
       "        vertical-align: top;\n",
       "    }\n",
       "\n",
       "    .dataframe thead th {\n",
       "        text-align: right;\n",
       "    }\n",
       "</style>\n",
       "<table border=\"1\" class=\"dataframe\">\n",
       "  <thead>\n",
       "    <tr style=\"text-align: right;\">\n",
       "      <th></th>\n",
       "      <th>Year</th>\n",
       "      <th>Kilometers_Driven</th>\n",
       "      <th>Mileage</th>\n",
       "      <th>Engine</th>\n",
       "      <th>Power</th>\n",
       "      <th>Location_Bangalore</th>\n",
       "      <th>Location_Chennai</th>\n",
       "      <th>Location_Coimbatore</th>\n",
       "      <th>Location_Delhi</th>\n",
       "      <th>Location_Hyderabad</th>\n",
       "      <th>...</th>\n",
       "      <th>Make_Nissan</th>\n",
       "      <th>Make_Opelcorsa</th>\n",
       "      <th>Make_Porsche</th>\n",
       "      <th>Make_Renault</th>\n",
       "      <th>Make_Skoda</th>\n",
       "      <th>Make_Smart</th>\n",
       "      <th>Make_Tata</th>\n",
       "      <th>Make_Toyota</th>\n",
       "      <th>Make_Volkswagen</th>\n",
       "      <th>Make_Volvo</th>\n",
       "    </tr>\n",
       "  </thead>\n",
       "  <tbody>\n",
       "    <tr>\n",
       "      <th>3656</th>\n",
       "      <td>2012</td>\n",
       "      <td>11000.0</td>\n",
       "      <td>16.20</td>\n",
       "      <td>995.0</td>\n",
       "      <td>62.10</td>\n",
       "      <td>0</td>\n",
       "      <td>0</td>\n",
       "      <td>0</td>\n",
       "      <td>0</td>\n",
       "      <td>0</td>\n",
       "      <td>...</td>\n",
       "      <td>0</td>\n",
       "      <td>0</td>\n",
       "      <td>0</td>\n",
       "      <td>0</td>\n",
       "      <td>0</td>\n",
       "      <td>0</td>\n",
       "      <td>0</td>\n",
       "      <td>0</td>\n",
       "      <td>0</td>\n",
       "      <td>0</td>\n",
       "    </tr>\n",
       "    <tr>\n",
       "      <th>1519</th>\n",
       "      <td>2017</td>\n",
       "      <td>28226.0</td>\n",
       "      <td>28.40</td>\n",
       "      <td>1248.0</td>\n",
       "      <td>73.75</td>\n",
       "      <td>0</td>\n",
       "      <td>0</td>\n",
       "      <td>0</td>\n",
       "      <td>0</td>\n",
       "      <td>1</td>\n",
       "      <td>...</td>\n",
       "      <td>0</td>\n",
       "      <td>0</td>\n",
       "      <td>0</td>\n",
       "      <td>0</td>\n",
       "      <td>0</td>\n",
       "      <td>0</td>\n",
       "      <td>0</td>\n",
       "      <td>0</td>\n",
       "      <td>0</td>\n",
       "      <td>0</td>\n",
       "    </tr>\n",
       "    <tr>\n",
       "      <th>5874</th>\n",
       "      <td>2014</td>\n",
       "      <td>40000.0</td>\n",
       "      <td>10.50</td>\n",
       "      <td>1796.0</td>\n",
       "      <td>157.70</td>\n",
       "      <td>0</td>\n",
       "      <td>0</td>\n",
       "      <td>0</td>\n",
       "      <td>1</td>\n",
       "      <td>0</td>\n",
       "      <td>...</td>\n",
       "      <td>0</td>\n",
       "      <td>0</td>\n",
       "      <td>0</td>\n",
       "      <td>0</td>\n",
       "      <td>0</td>\n",
       "      <td>0</td>\n",
       "      <td>0</td>\n",
       "      <td>0</td>\n",
       "      <td>0</td>\n",
       "      <td>0</td>\n",
       "    </tr>\n",
       "    <tr>\n",
       "      <th>6519</th>\n",
       "      <td>2011</td>\n",
       "      <td>46279.0</td>\n",
       "      <td>16.47</td>\n",
       "      <td>1198.0</td>\n",
       "      <td>73.90</td>\n",
       "      <td>0</td>\n",
       "      <td>0</td>\n",
       "      <td>0</td>\n",
       "      <td>0</td>\n",
       "      <td>0</td>\n",
       "      <td>...</td>\n",
       "      <td>0</td>\n",
       "      <td>0</td>\n",
       "      <td>0</td>\n",
       "      <td>0</td>\n",
       "      <td>0</td>\n",
       "      <td>0</td>\n",
       "      <td>0</td>\n",
       "      <td>0</td>\n",
       "      <td>1</td>\n",
       "      <td>0</td>\n",
       "    </tr>\n",
       "    <tr>\n",
       "      <th>6617</th>\n",
       "      <td>2014</td>\n",
       "      <td>55000.0</td>\n",
       "      <td>11.78</td>\n",
       "      <td>2143.0</td>\n",
       "      <td>167.62</td>\n",
       "      <td>0</td>\n",
       "      <td>0</td>\n",
       "      <td>0</td>\n",
       "      <td>1</td>\n",
       "      <td>0</td>\n",
       "      <td>...</td>\n",
       "      <td>0</td>\n",
       "      <td>0</td>\n",
       "      <td>0</td>\n",
       "      <td>0</td>\n",
       "      <td>0</td>\n",
       "      <td>0</td>\n",
       "      <td>0</td>\n",
       "      <td>0</td>\n",
       "      <td>0</td>\n",
       "      <td>0</td>\n",
       "    </tr>\n",
       "  </tbody>\n",
       "</table>\n",
       "<p>5 rows × 61 columns</p>\n",
       "</div>"
      ],
      "text/plain": [
       "      Year  Kilometers_Driven  Mileage  Engine   Power  Location_Bangalore  \\\n",
       "3656  2012            11000.0    16.20   995.0   62.10                   0   \n",
       "1519  2017            28226.0    28.40  1248.0   73.75                   0   \n",
       "5874  2014            40000.0    10.50  1796.0  157.70                   0   \n",
       "6519  2011            46279.0    16.47  1198.0   73.90                   0   \n",
       "6617  2014            55000.0    11.78  2143.0  167.62                   0   \n",
       "\n",
       "      Location_Chennai  Location_Coimbatore  Location_Delhi  \\\n",
       "3656                 0                    0               0   \n",
       "1519                 0                    0               0   \n",
       "5874                 0                    0               1   \n",
       "6519                 0                    0               0   \n",
       "6617                 0                    0               1   \n",
       "\n",
       "      Location_Hyderabad  ...  Make_Nissan  Make_Opelcorsa  Make_Porsche  \\\n",
       "3656                   0  ...            0               0             0   \n",
       "1519                   1  ...            0               0             0   \n",
       "5874                   0  ...            0               0             0   \n",
       "6519                   0  ...            0               0             0   \n",
       "6617                   0  ...            0               0             0   \n",
       "\n",
       "      Make_Renault  Make_Skoda  Make_Smart  Make_Tata  Make_Toyota  \\\n",
       "3656             0           0           0          0            0   \n",
       "1519             0           0           0          0            0   \n",
       "5874             0           0           0          0            0   \n",
       "6519             0           0           0          0            0   \n",
       "6617             0           0           0          0            0   \n",
       "\n",
       "      Make_Volkswagen  Make_Volvo  \n",
       "3656                0           0  \n",
       "1519                0           0  \n",
       "5874                0           0  \n",
       "6519                1           0  \n",
       "6617                0           0  \n",
       "\n",
       "[5 rows x 61 columns]"
      ]
     },
     "execution_count": 56,
     "metadata": {},
     "output_type": "execute_result"
    }
   ],
   "source": [
    "#split the data into train and test\n",
    "from sklearn.model_selection import train_test_split\n",
    "X_train, X_test, y_train, y_test = train_test_split(X, y, test_size=0.3, random_state=20)\n",
    "\n",
    "X_train.head()"
   ]
  },
  {
   "cell_type": "markdown",
   "metadata": {},
   "source": [
    "### Model, Train and Evaluate"
   ]
  },
  {
   "cell_type": "code",
   "execution_count": 57,
   "metadata": {},
   "outputs": [
    {
     "name": "stdout",
     "output_type": "stream",
     "text": [
      "Intercept of the linear equation: [-1164.66129118]\n",
      "\n",
      "Coefficients of the equation are: [[ 5.82386415e-01 -1.09738346e-05 -1.35954850e-01 -6.23754212e-05\n",
      "   4.41902122e-02  6.89124754e-01  6.56520035e-02  3.42476819e-01\n",
      "  -5.18060572e-01  5.76172830e-01 -5.89143162e-05 -2.56635024e-01\n",
      "  -1.18837885e+00 -3.26915901e-01 -9.91418638e-02  1.62379392e+00\n",
      "   2.22044605e-16  4.26324790e-01 -2.03610266e-01 -1.07433025e+00\n",
      "  -4.27031802e-02 -9.91112769e-01 -3.85347970e-01  2.08686579e-01\n",
      "  -4.77609435e-01 -2.00711815e+00 -6.69712847e-02  1.67758753e-01\n",
      "  -2.81066088e-01 -5.74991198e-01  3.75719525e+00 -8.88178420e-16\n",
      "   3.06875574e+00 -3.11595704e+00 -3.85745896e+00 -2.64077729e+00\n",
      "  -2.13291600e+00 -1.90315799e+00 -2.22044605e-15 -2.12260610e+00\n",
      "  -1.80626627e+00 -2.77449734e+00  3.85628593e+00  3.83869352e+00\n",
      "   5.11750260e+00  3.47280866e+00 -3.04681784e+00 -1.75206337e+00\n",
      "   2.99140432e+00  6.98511962e+00  6.07002400e-03 -2.32017754e+00\n",
      "   0.00000000e+00  1.27265091e+00 -2.33889971e+00 -1.46375197e+00\n",
      "   0.00000000e+00 -3.69142526e+00  6.26847540e-01 -2.51444331e+00\n",
      "   2.48788189e+00]]\n"
     ]
    }
   ],
   "source": [
    "#Fitting linear model\n",
    "\n",
    "from sklearn.linear_model import LinearRegression\n",
    "linearregression = LinearRegression()                                    \n",
    "linearregression.fit(X_train, y_train)                                  \n",
    "\n",
    "print(\"Intercept of the linear equation:\", linearregression.intercept_) \n",
    "print(\"\\nCoefficients of the equation are:\", linearregression.coef_)\n",
    "\n",
    "from sklearn.metrics import mean_absolute_error, mean_squared_error, r2_score\n",
    "\n",
    "pred = linearregression.predict(X_test)       "
   ]
  },
  {
   "cell_type": "markdown",
   "metadata": {},
   "source": [
    "### Model Performances"
   ]
  },
  {
   "cell_type": "code",
   "execution_count": 58,
   "metadata": {},
   "outputs": [
    {
     "data": {
      "text/plain": [
       "1.3641131033675356"
      ]
     },
     "execution_count": 58,
     "metadata": {},
     "output_type": "execute_result"
    }
   ],
   "source": [
    "# Mean Absolute Error on test\n",
    "mean_absolute_error(y_test, pred)\n"
   ]
  },
  {
   "cell_type": "markdown",
   "metadata": {},
   "source": [
    "The mean absolute error (MAE) is the simplest regression error metric to understand. We'll calculate the residual for every data point, taking only the absolute value of each so that negative and positive residuals do not cancel out. We then take the average of all these residuals. Effectively, MAE describes the typical magnitude of the residuals."
   ]
  },
  {
   "cell_type": "code",
   "execution_count": 59,
   "metadata": {},
   "outputs": [
    {
     "data": {
      "text/plain": [
       "1.8265141799332845"
      ]
     },
     "execution_count": 59,
     "metadata": {},
     "output_type": "execute_result"
    }
   ],
   "source": [
    "# RMSE on test data\n",
    "mean_squared_error(y_test, pred)**0.5"
   ]
  },
  {
   "cell_type": "markdown",
   "metadata": {},
   "source": [
    "The root mean square error (RMSE) is just like the MAE, but squares the difference before summing them all instead of using the absolute value. And then takes the square root of the value."
   ]
  },
  {
   "cell_type": "code",
   "execution_count": 60,
   "metadata": {
    "scrolled": false
   },
   "outputs": [
    {
     "data": {
      "text/plain": [
       "0.8947468652096434"
      ]
     },
     "execution_count": 60,
     "metadata": {},
     "output_type": "execute_result"
    }
   ],
   "source": [
    "# R2 Squared: on test\n",
    "r2_score(y_test, pred)"
   ]
  },
  {
   "cell_type": "markdown",
   "metadata": {
    "id": "V9VCPjkM-2M_"
   },
   "source": [
    "- R^2 (coefficient of determination) regression score function.\n",
    "\n",
    "- Best possible score is 1.0 and it can be negative (because the model can be arbitrarily worse). A constant model that always predicts the expected value of y, disregarding the input features, would get a R^2 score of 0.0.\n",
    "\n",
    "- R^2 value is 0.89 which means that in this model independent variables are able to explain 89% of variances in dependent variable"
   ]
  },
  {
   "cell_type": "markdown",
   "metadata": {
    "id": "1lqSkj1q51At"
   },
   "source": [
    "# Conclusion"
   ]
  },
  {
   "cell_type": "markdown",
   "metadata": {
    "id": "doso3U2753mZ"
   },
   "source": [
    "- The Training and testing scores are around 89% and both scores are comparable, hence the model is a good fit.\n",
    "\n",
    "- R2_score is 0.89, that explains 89% of total variation in the dataset. So, overall the model is very satisfactory."
   ]
  },
  {
   "cell_type": "markdown",
   "metadata": {
    "id": "YE57Jz2IyMvp"
   },
   "source": [
    "# **statsmodels**\n",
    "\n",
    "- Here is the complete syntax to perform the linear regression in Python using statsmodels.\n",
    "- Statsmodels is a Python module that provides functions for the estimation of many statistical models, as well as for conducting statistical tests, and statistical data exploration"
   ]
  },
  {
   "cell_type": "code",
   "execution_count": 61,
   "metadata": {},
   "outputs": [
    {
     "name": "stdout",
     "output_type": "stream",
     "text": [
      "                            OLS Regression Results                            \n",
      "==============================================================================\n",
      "Dep. Variable:                  Price   R-squared:                       0.899\n",
      "Model:                            OLS   Adj. R-squared:                  0.897\n",
      "Method:                 Least Squares   F-statistic:                     756.7\n",
      "Date:                Fri, 07 May 2021   Prob (F-statistic):               0.00\n",
      "Time:                        23:39:51   Log-Likelihood:                -9688.6\n",
      "No. Observations:                4837   AIC:                         1.949e+04\n",
      "Df Residuals:                    4780   BIC:                         1.986e+04\n",
      "Df Model:                          56                                         \n",
      "Covariance Type:            nonrobust                                         \n",
      "=============================================================================================\n",
      "                                coef    std err          t      P>|t|      [0.025      0.975]\n",
      "---------------------------------------------------------------------------------------------\n",
      "const                     -1141.7390     26.001    -43.912      0.000   -1192.713   -1090.765\n",
      "Year                          0.5704      0.013     44.184      0.000       0.545       0.596\n",
      "Kilometers_Driven         -1.206e-05   1.21e-06     -9.943      0.000   -1.44e-05   -9.68e-06\n",
      "Mileage                      -0.1224      0.013     -9.345      0.000      -0.148      -0.097\n",
      "Engine                     8.504e-05      0.000      0.547      0.585      -0.000       0.000\n",
      "Power                         0.0446      0.002     25.408      0.000       0.041       0.048\n",
      "Location_Bangalore            0.7504      0.173      4.337      0.000       0.411       1.090\n",
      "Location_Chennai              0.1228      0.165      0.743      0.457      -0.201       0.447\n",
      "Location_Coimbatore           0.4033      0.161      2.510      0.012       0.088       0.718\n",
      "Location_Delhi               -0.3969      0.161     -2.468      0.014      -0.712      -0.082\n",
      "Location_Hyderabad            0.6303      0.156      4.030      0.000       0.324       0.937\n",
      "Location_Jaipur               0.0429      0.170      0.252      0.801      -0.291       0.377\n",
      "Location_Kochi               -0.1541      0.159     -0.966      0.334      -0.467       0.158\n",
      "Location_Kolkata             -1.1017      0.162     -6.801      0.000      -1.419      -0.784\n",
      "Location_Mumbai              -0.3458      0.155     -2.225      0.026      -0.651      -0.041\n",
      "Location_Pune                 0.0055      0.159      0.034      0.973      -0.306       0.317\n",
      "Fuel_Type_Diesel              1.2215      0.285      4.286      0.000       0.663       1.780\n",
      "Fuel_Type_Electric         4.573e-13   2.27e-13      2.012      0.044    1.17e-14    9.03e-13\n",
      "Fuel_Type_LPG                 0.0452      0.702      0.064      0.949      -1.331       1.421\n",
      "Fuel_Type_Petrol             -0.5294      0.290     -1.827      0.068      -1.097       0.039\n",
      "Transmission_Manual          -1.0790      0.088    -12.213      0.000      -1.252      -0.906\n",
      "Seats_4.0                     0.6227      0.692      0.900      0.368      -0.733       1.979\n",
      "Seats_5.0                    -0.1007      0.657     -0.153      0.878      -1.388       1.187\n",
      "Seats_6.0                     0.7804      0.788      0.991      0.322      -0.764       2.325\n",
      "Seats_7.0                     1.0252      0.667      1.537      0.124      -0.282       2.333\n",
      "Seats_8.0                     0.3881      0.694      0.559      0.576      -0.973       1.749\n",
      "Seats_9.0                     0.6688      1.447      0.462      0.644      -2.167       3.505\n",
      "Seats_10.0                    0.7697      1.055      0.729      0.466      -1.299       2.838\n",
      "Owner_Type_Fourth & Above    -0.6121      0.689     -0.889      0.374      -1.962       0.738\n",
      "Owner_Type_Second            -0.3509      0.078     -4.516      0.000      -0.503      -0.199\n",
      "Owner_Type_Third             -0.4926      0.206     -2.389      0.017      -0.897      -0.088\n",
      "Make_Audi                     3.7671      1.832      2.056      0.040       0.175       7.359\n",
      "Make_Bentley                  7.1803      2.585      2.778      0.005       2.113      12.248\n",
      "Make_Bmw                      2.8387      1.836      1.546      0.122      -0.760       6.437\n",
      "Make_Chevrolet               -2.9650      1.830     -1.621      0.105      -6.552       0.622\n",
      "Make_Datsun                  -3.7423      1.888     -1.982      0.048      -7.443      -0.041\n",
      "Make_Fiat                    -2.3412      1.880     -1.245      0.213      -6.028       1.345\n",
      "Make_Force                -9.601e-14   4.61e-14     -2.083      0.037   -1.86e-13   -5.66e-15\n",
      "Make_Ford                    -1.7501      1.824     -0.959      0.337      -5.327       1.826\n",
      "Make_Hindustan             1.134e-13   5.76e-14      1.968      0.049    4.25e-16    2.26e-13\n",
      "Make_Honda                   -2.0252      1.826     -1.109      0.267      -5.605       1.554\n",
      "Make_Hyundai                 -1.6255      1.824     -0.891      0.373      -5.201       1.950\n",
      "Make_Isuzu                   -1.0920      2.101     -0.520      0.603      -5.211       3.027\n",
      "Make_Jaguar                   3.8139      1.863      2.047      0.041       0.162       7.466\n",
      "Make_Jeep                     3.7449      1.890      1.981      0.048       0.039       7.451\n",
      "Make_Lamborghini              5.7560      2.640      2.180      0.029       0.580      10.932\n",
      "Make_Land Rover               4.2972      1.851      2.322      0.020       0.669       7.926\n",
      "Make_Mahindra                -2.8415      1.827     -1.555      0.120      -6.424       0.741\n",
      "Make_Maruti                  -1.5259      1.824     -0.837      0.403      -5.102       2.050\n",
      "Make_Mercedes-Benz            3.2181      1.831      1.757      0.079      -0.372       6.808\n",
      "Make_Mini                     6.6578      1.872      3.557      0.000       2.989      10.327\n",
      "Make_Mitsubishi               0.1868      1.880      0.099      0.921      -3.498       3.872\n",
      "Make_Nissan                  -2.0624      1.832     -1.126      0.260      -5.655       1.530\n",
      "Make_Opelcorsa             2.088e-14   9.74e-15      2.145      0.032    1.79e-15       4e-14\n",
      "Make_Porsche                  1.5799      1.925      0.821      0.412      -2.194       5.354\n",
      "Make_Renault                 -2.1317      1.830     -1.165      0.244      -5.719       1.456\n",
      "Make_Skoda                   -1.3688      1.831     -0.748      0.455      -4.958       2.221\n",
      "Make_Smart                         0          0        nan        nan           0           0\n",
      "Make_Tata                    -3.4644      1.828     -1.895      0.058      -7.049       0.120\n",
      "Make_Toyota                   0.8012      1.826      0.439      0.661      -2.778       4.380\n",
      "Make_Volkswagen              -2.2079      1.825     -1.210      0.226      -5.785       1.369\n",
      "Make_Volvo                    3.1447      1.877      1.675      0.094      -0.535       6.825\n",
      "==============================================================================\n",
      "Omnibus:                      393.834   Durbin-Watson:                   2.039\n",
      "Prob(Omnibus):                  0.000   Jarque-Bera (JB):             2365.366\n",
      "Skew:                          -0.059   Prob(JB):                         0.00\n",
      "Kurtosis:                       6.424   Cond. No.                     1.14e+16\n",
      "==============================================================================\n",
      "\n",
      "Notes:\n",
      "[1] Standard Errors assume that the covariance matrix of the errors is correctly specified.\n",
      "[2] The smallest eigenvalue is 1.5e-19. This might indicate that there are\n",
      "strong multicollinearity problems or that the design matrix is singular.\n"
     ]
    }
   ],
   "source": [
    "# Lets us build linear regression model using statsmodel \n",
    "\n",
    "X = sm.add_constant(X)\n",
    "X_train1, X_test, y_train, y_test = train_test_split(X, y, test_size=0.3, random_state=42)\n",
    "\n",
    "olsmod0 = sm.OLS(y_train, X_train1)\n",
    "olsres0 = olsmod0.fit()\n",
    "print(olsres0.summary())"
   ]
  },
  {
   "cell_type": "markdown",
   "metadata": {},
   "source": [
    "** Observation**\n",
    "- P value of a variable indicates if the variable is significant or not. If we consider significance level to be 0.05 (5%) than any variable with p-values less than 0.05 would be considered significant.\n",
    "- Negative values of coefficient shows that, Price of the car deceases with their increase.\n",
    "- Positive values of coefficient shows that, Price of the car inceases with their increase.\n",
    "- But these variables might contain Multicollinearity which affects the p values, so we first need to deal with multicollinearity and then look for p values \n",
    "- We can see Engine has p value greater than 0.05, but we will check for multicollinearity first"
   ]
  },
  {
   "cell_type": "markdown",
   "metadata": {
    "id": "a9GxSQf-qH8e"
   },
   "source": [
    "## Checking the Linear Regression Assumptions"
   ]
  },
  {
   "cell_type": "markdown",
   "metadata": {
    "id": "5Wr6XkwoqH8f"
   },
   "source": [
    "1. No Multicollinearity\n",
    "2. Mean of residuals should be 0\n",
    "3. No Heteroscedacity\n",
    "4. Linearity of variables\n",
    "5. Normality of error terms\n"
   ]
  },
  {
   "cell_type": "markdown",
   "metadata": {
    "id": "66rBro0OqH8f"
   },
   "source": [
    "### Let's check Multicollinearity using VIF scores"
   ]
  },
  {
   "cell_type": "code",
   "execution_count": 62,
   "metadata": {},
   "outputs": [
    {
     "name": "stderr",
     "output_type": "stream",
     "text": [
      "C:\\Users\\Owner\\anaconda3\\lib\\site-packages\\statsmodels\\regression\\linear_model.py:1715: RuntimeWarning: invalid value encountered in double_scalars\n",
      "  return 1 - self.ssr/self.centered_tss\n"
     ]
    },
    {
     "name": "stdout",
     "output_type": "stream",
     "text": [
      "Series before feature selection: \n",
      "\n",
      "const                998331.443642\n",
      "Year                      2.227182\n",
      "Kilometers_Driven         1.974653\n",
      "Mileage                   4.270519\n",
      "Engine                   11.096501\n",
      "                         ...      \n",
      "Make_Smart                     NaN\n",
      "Make_Tata               210.370144\n",
      "Make_Toyota             465.639389\n",
      "Make_Volkswagen         352.300938\n",
      "Make_Volvo               28.408899\n",
      "Length: 62, dtype: float64\n",
      "\n"
     ]
    }
   ],
   "source": [
    "from statsmodels.stats.outliers_influence import variance_inflation_factor\n",
    "vif_series1 = pd.Series([variance_inflation_factor(X.values,i) for i in range(X.shape[1])],index=X.columns)\n",
    "print('Series before feature selection: \\n\\n{}\\n'.format(vif_series1))"
   ]
  },
  {
   "cell_type": "markdown",
   "metadata": {},
   "source": [
    "### We remove Engine and see if there is an impact on Adjusted R square "
   ]
  },
  {
   "cell_type": "code",
   "execution_count": 63,
   "metadata": {
    "scrolled": true
   },
   "outputs": [
    {
     "name": "stdout",
     "output_type": "stream",
     "text": [
      "Series before feature selection: \n",
      "\n",
      "const                1.000665e+06\n",
      "Year                 2.258382e+00\n",
      "Kilometers_Driven    1.956721e+00\n",
      "Mileage              3.837463e+00\n",
      "Power                5.433007e+00\n",
      "                         ...     \n",
      "Make_Smart                    NaN\n",
      "Make_Tata            1.396267e+02\n",
      "Make_Toyota          3.236835e+02\n",
      "Make_Volkswagen      2.552854e+02\n",
      "Make_Volvo           1.939845e+01\n",
      "Length: 61, dtype: float64\n",
      "\n"
     ]
    }
   ],
   "source": [
    "# we drop the one with the highest vif values and check the Adjusted-R Squared\n",
    "X_train2 = X_train1.drop('Engine', axis=1)\n",
    "vif_series2 = pd.Series([variance_inflation_factor(X_train2.values,i) for i in range(X_train2.shape[1])],index=X_train2.columns)\n",
    "print('Series before feature selection: \\n\\n{}\\n'.format(vif_series2))"
   ]
  },
  {
   "cell_type": "code",
   "execution_count": 64,
   "metadata": {
    "scrolled": false
   },
   "outputs": [
    {
     "name": "stdout",
     "output_type": "stream",
     "text": [
      "                            OLS Regression Results                            \n",
      "==============================================================================\n",
      "Dep. Variable:                  Price   R-squared:                       0.899\n",
      "Model:                            OLS   Adj. R-squared:                  0.897\n",
      "Method:                 Least Squares   F-statistic:                     770.5\n",
      "Date:                Fri, 07 May 2021   Prob (F-statistic):               0.00\n",
      "Time:                        23:39:54   Log-Likelihood:                -9688.7\n",
      "No. Observations:                4837   AIC:                         1.949e+04\n",
      "Df Residuals:                    4781   BIC:                         1.985e+04\n",
      "Df Model:                          55                                         \n",
      "Covariance Type:            nonrobust                                         \n",
      "=============================================================================================\n",
      "                                coef    std err          t      P>|t|      [0.025      0.975]\n",
      "---------------------------------------------------------------------------------------------\n",
      "const                     -1140.8261     25.945    -43.970      0.000   -1191.691   -1089.961\n",
      "Year                          0.5700      0.013     44.219      0.000       0.545       0.595\n",
      "Kilometers_Driven         -1.205e-05   1.21e-06     -9.934      0.000   -1.44e-05   -9.67e-06\n",
      "Mileage                      -0.1249      0.012    -10.150      0.000      -0.149      -0.101\n",
      "Power                         0.0453      0.001     34.567      0.000       0.043       0.048\n",
      "Location_Bangalore            0.7505      0.173      4.337      0.000       0.411       1.090\n",
      "Location_Chennai              0.1243      0.165      0.753      0.452      -0.200       0.448\n",
      "Location_Coimbatore           0.4039      0.161      2.514      0.012       0.089       0.719\n",
      "Location_Delhi               -0.3967      0.161     -2.467      0.014      -0.712      -0.081\n",
      "Location_Hyderabad            0.6312      0.156      4.036      0.000       0.325       0.938\n",
      "Location_Jaipur               0.0430      0.170      0.253      0.801      -0.291       0.377\n",
      "Location_Kochi               -0.1535      0.159     -0.963      0.336      -0.466       0.159\n",
      "Location_Kolkata             -1.1017      0.162     -6.802      0.000      -1.419      -0.784\n",
      "Location_Mumbai              -0.3459      0.155     -2.225      0.026      -0.651      -0.041\n",
      "Location_Pune                 0.0058      0.159      0.036      0.971      -0.306       0.318\n",
      "Fuel_Type_Diesel              1.2245      0.285      4.298      0.000       0.666       1.783\n",
      "Fuel_Type_Electric         3.465e-12   1.69e-12      2.049      0.040     1.5e-13    6.78e-12\n",
      "Fuel_Type_LPG                 0.0292      0.701      0.042      0.967      -1.346       1.404\n",
      "Fuel_Type_Petrol             -0.5469      0.288     -1.900      0.058      -1.111       0.018\n",
      "Transmission_Manual          -1.0787      0.088    -12.211      0.000      -1.252      -0.906\n",
      "Seats_4.0                     0.5851      0.688      0.850      0.395      -0.764       1.934\n",
      "Seats_5.0                    -0.1399      0.653     -0.214      0.830      -1.420       1.140\n",
      "Seats_6.0                     0.7727      0.788      0.981      0.327      -0.771       2.317\n",
      "Seats_7.0                     1.0052      0.666      1.510      0.131      -0.300       2.310\n",
      "Seats_8.0                     0.3738      0.694      0.539      0.590      -0.986       1.734\n",
      "Seats_9.0                     0.6779      1.446      0.469      0.639      -2.158       3.513\n",
      "Seats_10.0                    0.7817      1.055      0.741      0.459      -1.286       2.850\n",
      "Owner_Type_Fourth & Above    -0.6185      0.688     -0.898      0.369      -1.968       0.731\n",
      "Owner_Type_Second            -0.3510      0.078     -4.518      0.000      -0.503      -0.199\n",
      "Owner_Type_Third             -0.4917      0.206     -2.385      0.017      -0.896      -0.087\n",
      "Make_Audi                     3.7436      1.831      2.044      0.041       0.153       7.334\n",
      "Make_Bentley                  7.2041      2.584      2.788      0.005       2.138      12.271\n",
      "Make_Bmw                      2.8211      1.835      1.537      0.124      -0.777       6.419\n",
      "Make_Chevrolet               -2.9844      1.829     -1.632      0.103      -6.571       0.602\n",
      "Make_Datsun                  -3.7566      1.888     -1.990      0.047      -7.457      -0.056\n",
      "Make_Fiat                    -2.3663      1.880     -1.259      0.208      -6.051       1.319\n",
      "Make_Force                 -7.11e-13   3.51e-13     -2.023      0.043    -1.4e-12   -2.19e-14\n",
      "Make_Ford                    -1.7579      1.824     -0.964      0.335      -5.334       1.818\n",
      "Make_Hindustan             4.823e-13   2.38e-13      2.024      0.043    1.52e-14     9.5e-13\n",
      "Make_Honda                   -2.0367      1.826     -1.116      0.265      -5.616       1.543\n",
      "Make_Hyundai                 -1.6419      1.824     -0.900      0.368      -5.217       1.933\n",
      "Make_Isuzu                   -1.0635      2.100     -0.506      0.613      -5.181       3.054\n",
      "Make_Jaguar                   3.7997      1.862      2.040      0.041       0.148       7.451\n",
      "Make_Jeep                     3.7158      1.889      1.967      0.049       0.012       7.420\n",
      "Make_Lamborghini              5.7402      2.640      2.174      0.030       0.565      10.916\n",
      "Make_Land Rover               4.2774      1.850      2.312      0.021       0.650       7.905\n",
      "Make_Mahindra                -2.8478      1.827     -1.559      0.119      -6.430       0.734\n",
      "Make_Maruti                  -1.5421      1.824     -0.846      0.398      -5.117       2.033\n",
      "Make_Mercedes-Benz            3.2046      1.831      1.750      0.080      -0.385       6.794\n",
      "Make_Mini                     6.6381      1.871      3.548      0.000       2.970      10.306\n",
      "Make_Mitsubishi               0.1975      1.880      0.105      0.916      -3.487       3.882\n",
      "Make_Nissan                  -2.0700      1.832     -1.130      0.259      -5.662       1.522\n",
      "Make_Opelcorsa            -1.222e-14    6.1e-15     -2.003      0.045   -2.42e-14    -2.6e-16\n",
      "Make_Porsche                  1.5997      1.925      0.831      0.406      -2.173       5.373\n",
      "Make_Renault                 -2.1480      1.830     -1.174      0.240      -5.735       1.439\n",
      "Make_Skoda                   -1.3789      1.831     -0.753      0.451      -4.968       2.210\n",
      "Make_Smart                         0          0        nan        nan           0           0\n",
      "Make_Tata                    -3.4764      1.828     -1.902      0.057      -7.060       0.108\n",
      "Make_Toyota                   0.8130      1.825      0.445      0.656      -2.766       4.392\n",
      "Make_Volkswagen              -2.2219      1.824     -1.218      0.223      -5.798       1.355\n",
      "Make_Volvo                    3.1128      1.876      1.659      0.097      -0.565       6.791\n",
      "==============================================================================\n",
      "Omnibus:                      392.889   Durbin-Watson:                   2.039\n",
      "Prob(Omnibus):                  0.000   Jarque-Bera (JB):             2355.154\n",
      "Skew:                          -0.057   Prob(JB):                         0.00\n",
      "Kurtosis:                       6.417   Cond. No.                     1.14e+16\n",
      "==============================================================================\n",
      "\n",
      "Notes:\n",
      "[1] Standard Errors assume that the covariance matrix of the errors is correctly specified.\n",
      "[2] The smallest eigenvalue is 1.5e-19. This might indicate that there are\n",
      "strong multicollinearity problems or that the design matrix is singular.\n"
     ]
    }
   ],
   "source": [
    "olsmod1 = sm.OLS(y_train, X_train2)\n",
    "olsres1 = olsmod1.fit()\n",
    "print(olsres1.summary())"
   ]
  },
  {
   "cell_type": "code",
   "execution_count": 65,
   "metadata": {},
   "outputs": [
    {
     "name": "stderr",
     "output_type": "stream",
     "text": [
      "C:\\Users\\Owner\\anaconda3\\lib\\site-packages\\statsmodels\\regression\\linear_model.py:1715: RuntimeWarning: invalid value encountered in double_scalars\n",
      "  return 1 - self.ssr/self.centered_tss\n"
     ]
    },
    {
     "name": "stdout",
     "output_type": "stream",
     "text": [
      "Series before feature selection: \n",
      "\n",
      "const                980662.929999\n",
      "Year                      2.211173\n",
      "Kilometers_Driven         1.957701\n",
      "Mileage                   4.298009\n",
      "Engine                    6.239132\n",
      "                         ...      \n",
      "Make_Smart                     NaN\n",
      "Make_Tata               139.320299\n",
      "Make_Toyota             323.205769\n",
      "Make_Volkswagen         254.566637\n",
      "Make_Volvo               19.252184\n",
      "Length: 61, dtype: float64\n",
      "\n"
     ]
    }
   ],
   "source": [
    "# we drop the one with the highest vif values\n",
    "X_train3 = X_train1.drop('Power', axis=1)\n",
    "vif_series3 = pd.Series([variance_inflation_factor(X_train3.values,i) for i in range(X_train3.shape[1])],index=X_train3.columns)\n",
    "print('Series before feature selection: \\n\\n{}\\n'.format(vif_series3))"
   ]
  },
  {
   "cell_type": "code",
   "execution_count": 66,
   "metadata": {},
   "outputs": [
    {
     "name": "stdout",
     "output_type": "stream",
     "text": [
      "                            OLS Regression Results                            \n",
      "==============================================================================\n",
      "Dep. Variable:                  Price   R-squared:                       0.885\n",
      "Model:                            OLS   Adj. R-squared:                  0.884\n",
      "Method:                 Least Squares   F-statistic:                     668.6\n",
      "Date:                Fri, 07 May 2021   Prob (F-statistic):               0.00\n",
      "Time:                        23:39:56   Log-Likelihood:                -9994.9\n",
      "No. Observations:                4837   AIC:                         2.010e+04\n",
      "Df Residuals:                    4781   BIC:                         2.046e+04\n",
      "Df Model:                          55                                         \n",
      "Covariance Type:            nonrobust                                         \n",
      "=============================================================================================\n",
      "                                coef    std err          t      P>|t|      [0.025      0.975]\n",
      "---------------------------------------------------------------------------------------------\n",
      "const                     -1244.1532     27.363    -45.468      0.000   -1297.798   -1190.509\n",
      "Year                          0.6208      0.014     45.684      0.000       0.594       0.647\n",
      "Kilometers_Driven         -1.222e-05   1.29e-06     -9.460      0.000   -1.48e-05   -9.69e-06\n",
      "Mileage                      -0.1588      0.014    -11.446      0.000      -0.186      -0.132\n",
      "Engine                        0.0027      0.000     22.004      0.000       0.002       0.003\n",
      "Location_Bangalore            0.7249      0.184      3.933      0.000       0.364       1.086\n",
      "Location_Chennai              0.0332      0.176      0.189      0.850      -0.312       0.378\n",
      "Location_Coimbatore           0.3077      0.171      1.798      0.072      -0.028       0.643\n",
      "Location_Delhi               -0.4004      0.171     -2.338      0.019      -0.736      -0.065\n",
      "Location_Hyderabad            0.4860      0.167      2.919      0.004       0.160       0.812\n",
      "Location_Jaipur              -0.0917      0.181     -0.506      0.613      -0.447       0.264\n",
      "Location_Kochi               -0.2346      0.170     -1.382      0.167      -0.567       0.098\n",
      "Location_Kolkata             -1.1407      0.173     -6.611      0.000      -1.479      -0.802\n",
      "Location_Mumbai              -0.3402      0.166     -2.055      0.040      -0.665      -0.016\n",
      "Location_Pune                -0.0762      0.169     -0.450      0.653      -0.408       0.256\n",
      "Fuel_Type_Diesel              1.3756      0.304      4.532      0.000       0.781       1.971\n",
      "Fuel_Type_Electric         3.898e-13    1.4e-13      2.785      0.005    1.15e-13    6.64e-13\n",
      "Fuel_Type_LPG                -0.0701      0.748     -0.094      0.925      -1.536       1.396\n",
      "Fuel_Type_Petrol             -0.3100      0.308     -1.005      0.315      -0.915       0.295\n",
      "Transmission_Manual          -1.4668      0.093    -15.823      0.000      -1.649      -1.285\n",
      "Seats_4.0                     0.4368      0.737      0.593      0.553      -1.008       1.881\n",
      "Seats_5.0                    -0.3953      0.699     -0.565      0.572      -1.767       0.976\n",
      "Seats_6.0                    -0.6555      0.837     -0.783      0.434      -2.296       0.985\n",
      "Seats_7.0                     0.4353      0.710      0.613      0.540      -0.957       1.827\n",
      "Seats_8.0                    -1.0828      0.737     -1.469      0.142      -2.527       0.362\n",
      "Seats_9.0                    -1.7234      1.538     -1.121      0.262      -4.738       1.291\n",
      "Seats_10.0                   -2.1036      1.118     -1.882      0.060      -4.295       0.087\n",
      "Owner_Type_Fourth & Above    -0.6365      0.734     -0.868      0.386      -2.075       0.802\n",
      "Owner_Type_Second            -0.3387      0.083     -4.091      0.000      -0.501      -0.176\n",
      "Owner_Type_Third             -0.4416      0.220     -2.010      0.044      -0.872      -0.011\n",
      "Make_Audi                     7.8443      1.944      4.035      0.000       4.033      11.656\n",
      "Make_Bentley                 11.0596      2.749      4.023      0.000       5.671      16.448\n",
      "Make_Bmw                      7.3889      1.946      3.797      0.000       3.574      11.204\n",
      "Make_Chevrolet               -0.1716      1.946     -0.088      0.930      -3.986       3.643\n",
      "Make_Datsun                  -1.5246      2.009     -0.759      0.448      -5.463       2.414\n",
      "Make_Fiat                     0.4184      2.000      0.209      0.834      -3.502       4.339\n",
      "Make_Force                 1.337e-14   8.05e-15      1.662      0.097   -2.41e-15    2.91e-14\n",
      "Make_Ford                     0.5629      1.941      0.290      0.772      -3.242       4.368\n",
      "Make_Hindustan            -1.945e-14   4.16e-15     -4.675      0.000   -2.76e-14   -1.13e-14\n",
      "Make_Honda                    0.9551      1.941      0.492      0.623      -2.850       4.761\n",
      "Make_Hyundai                  1.1441      1.939      0.590      0.555      -2.658       4.946\n",
      "Make_Isuzu                    0.1381      2.237      0.062      0.951      -4.248       4.524\n",
      "Make_Jaguar                   8.0887      1.976      4.093      0.000       4.214      11.963\n",
      "Make_Jeep                     8.1018      2.005      4.040      0.000       4.170      12.033\n",
      "Make_Lamborghini              8.9352      2.809      3.180      0.001       3.427      14.443\n",
      "Make_Land Rover               7.9325      1.966      4.035      0.000       4.079      11.786\n",
      "Make_Mahindra                -0.6161      1.944     -0.317      0.751      -4.428       3.196\n",
      "Make_Maruti                   1.0205      1.940      0.526      0.599      -2.783       4.824\n",
      "Make_Mercedes-Benz            7.0919      1.944      3.648      0.000       3.281      10.903\n",
      "Make_Mini                    10.3420      1.988      5.203      0.000       6.445      14.239\n",
      "Make_Mitsubishi               2.1625      2.001      1.081      0.280      -1.760       6.085\n",
      "Make_Nissan                   0.2105      1.950      0.108      0.914      -3.612       4.033\n",
      "Make_Opelcorsa            -6.093e-15   2.21e-15     -2.751      0.006   -1.04e-14   -1.75e-15\n",
      "Make_Porsche                  5.6416      2.044      2.761      0.006       1.635       9.648\n",
      "Make_Renault                  0.4466      1.947      0.229      0.819      -3.370       4.263\n",
      "Make_Skoda                    1.5214      1.947      0.782      0.435      -2.295       5.338\n",
      "Make_Smart                         0          0        nan        nan           0           0\n",
      "Make_Tata                    -1.2179      1.945     -0.626      0.531      -5.032       2.596\n",
      "Make_Toyota                   2.6649      1.943      1.371      0.170      -1.145       6.475\n",
      "Make_Volkswagen               0.3359      1.941      0.173      0.863      -3.469       4.141\n",
      "Make_Volvo                    7.5423      1.991      3.788      0.000       3.639      11.446\n",
      "==============================================================================\n",
      "Omnibus:                      373.542   Durbin-Watson:                   2.011\n",
      "Prob(Omnibus):                  0.000   Jarque-Bera (JB):             2130.976\n",
      "Skew:                           0.029   Prob(JB):                         0.00\n",
      "Kurtosis:                       6.251   Cond. No.                     1.14e+16\n",
      "==============================================================================\n",
      "\n",
      "Notes:\n",
      "[1] Standard Errors assume that the covariance matrix of the errors is correctly specified.\n",
      "[2] The smallest eigenvalue is 1.5e-19. This might indicate that there are\n",
      "strong multicollinearity problems or that the design matrix is singular.\n"
     ]
    }
   ],
   "source": [
    "olsmod2 = sm.OLS(y_train, X_train3)\n",
    "olsres2 = olsmod2.fit()\n",
    "print(olsres2.summary())"
   ]
  },
  {
   "cell_type": "markdown",
   "metadata": {
    "id": "-A_zflLwqH9y"
   },
   "source": [
    "### Now no feature has p value greater than 0.05, so we'll consider features in X_train2 as the final ones and olsres1 as final model"
   ]
  },
  {
   "cell_type": "markdown",
   "metadata": {
    "id": "85AyhdAfqH9z"
   },
   "source": [
    "### Observations\n",
    "* Now Adjusted R-squared is 0.897, Our model is able to explain 89.7% of variance that shows model is good.\n",
    "* The Adjusted-R squared in Olsres0 it was 89.7% (Where we considered all the variables) this shows that the variables we dropped were not affecting the model much."
   ]
  },
  {
   "cell_type": "markdown",
   "metadata": {
    "id": "Ctk29PsRqH90"
   },
   "source": [
    "### Now we'll check rest of the assumptions on model - olsres1\n",
    "1. Mean of residuals should be 0 \n",
    "2. Linearity of variables\n",
    "3. Normality of error terms\n",
    "4. No Heteroscedacity"
   ]
  },
  {
   "cell_type": "code",
   "execution_count": 67,
   "metadata": {},
   "outputs": [
    {
     "data": {
      "text/plain": [
       "9.979746888983413e-12"
      ]
     },
     "execution_count": 67,
     "metadata": {},
     "output_type": "execute_result"
    }
   ],
   "source": [
    "residual= olsres1.resid\n",
    "np.mean(residual)"
   ]
  },
  {
   "cell_type": "markdown",
   "metadata": {
    "id": "w99uLh5pqH-C"
   },
   "source": [
    "* Mean of redisuals is very close to 0."
   ]
  },
  {
   "cell_type": "markdown",
   "metadata": {
    "id": "MnOY6E5uqH-C"
   },
   "source": [
    "### TEST FOR LINEARITY \n",
    "\n",
    "**Why the test?**\n",
    "* Linearity describes a straight-line relationship between two variables, predictor variables must have a linear relation with the dependent variable.\n",
    "\n",
    "**How to check linearity?**\n",
    "\n",
    "* Make a plot of fitted values vs Residuals, if they don’t follow any pattern, they we say the model is linear otherwise model is showing signs of non-linearity.\n",
    "\n",
    "**How to fix if this assumption is not followed?**\n",
    "\n",
    "* We can try to transform the variables and make the relationships linear"
   ]
  },
  {
   "cell_type": "code",
   "execution_count": 68,
   "metadata": {},
   "outputs": [],
   "source": [
    "residual=olsres1.resid\n",
    "fitted=olsres1.fittedvalues #predicted values"
   ]
  },
  {
   "cell_type": "code",
   "execution_count": 122,
   "metadata": {
    "scrolled": false
   },
   "outputs": [
    {
     "name": "stderr",
     "output_type": "stream",
     "text": [
      "C:\\Users\\Owner\\anaconda3\\lib\\site-packages\\seaborn\\_decorators.py:36: FutureWarning: Pass the following variables as keyword args: x, y. From version 0.12, the only valid positional argument will be `data`, and passing other arguments without an explicit keyword will result in an error or misinterpretation.\n",
      "  warnings.warn(\n"
     ]
    },
    {
     "data": {
      "image/png": "[encoded data removed]",
      "text/plain": [
       "<Figure size 432x288 with 1 Axes>"
      ]
     },
     "metadata": {},
     "output_type": "display_data"
    }
   ],
   "source": [
    "sns.set_style(\"whitegrid\")\n",
    "sns.residplot(fitted,residual,color=\"green\",lowess=True)\n",
    "plt.savefig(\"Scatterplot.png\")\n",
    "plt.xlabel(\"Fitted Values\")\n",
    "plt.ylabel(\"Residual\")\n",
    "plt.title(\"Residual PLOT\")\n",
    "plt.show()"
   ]
  },
  {
   "cell_type": "markdown",
   "metadata": {},
   "source": [
    "Scatter plot shows the distribution of residuals (errors) vs fitted values (predicted values) - If there exist any pattern in this plot, we consider it as signs of non-linearity in the data and a pattern means that the model doesn’t capture non-linear effects.\n",
    "No pattern in residual hence 1st assumptions is satisfied"
   ]
  },
  {
   "cell_type": "markdown",
   "metadata": {
    "id": "VOxf_qsQqH-N"
   },
   "source": [
    "### TEST FOR NORMALITY"
   ]
  },
  {
   "cell_type": "code",
   "execution_count": 123,
   "metadata": {},
   "outputs": [
    {
     "name": "stderr",
     "output_type": "stream",
     "text": [
      "C:\\Users\\Owner\\anaconda3\\lib\\site-packages\\seaborn\\distributions.py:2551: FutureWarning: `distplot` is a deprecated function and will be removed in a future version. Please adapt your code to use either `displot` (a figure-level function with similar flexibility) or `histplot` (an axes-level function for histograms).\n",
      "  warnings.warn(msg, FutureWarning)\n"
     ]
    },
    {
     "data": {
      "image/png": "[encoded data removed]",
      "text/plain": [
       "<Figure size 432x288 with 1 Axes>"
      ]
     },
     "metadata": {},
     "output_type": "display_data"
    }
   ],
   "source": [
    "sns.distplot(residual)\n",
    "plt.savefig(\"QQplot.png\")\n",
    "plt.title('Normality of residuals')\n",
    "plt.show()"
   ]
  },
  {
   "cell_type": "markdown",
   "metadata": {
    "id": "S9YQpkZ-qH-Q"
   },
   "source": [
    "#### The QQ plot of residuals can be used to visually check the normality assumption. The normal probability plot of residuals should approximately follow a straight line."
   ]
  },
  {
   "cell_type": "code",
   "execution_count": 71,
   "metadata": {},
   "outputs": [
    {
     "data": {
      "image/png": "[encoded data removed]",
      "text/plain": [
       "<Figure size 432x288 with 1 Axes>"
      ]
     },
     "metadata": {},
     "output_type": "display_data"
    }
   ],
   "source": [
    "import pylab\n",
    "import scipy.stats as stats\n",
    "stats.probplot(residual,dist=\"norm\",plot=pylab)\n",
    "plt.show()"
   ]
  },
  {
   "cell_type": "markdown",
   "metadata": {
    "id": "6gZ4GKY_qH-Z"
   },
   "source": [
    "### TEST FOR HOMOSCEDASTICITY\n",
    "\n",
    "* Test -goldfeldquandt test\n",
    "\n",
    "* Homoscedacity - If the variance of the residuals are symmetrically distributed across the regression line , then the data is said to homoscedastic.\n",
    "\n",
    "* Heteroscedacity - If the variance is unequal for the residuals across the regression line, then the data is said to be heteroscedastic. In this case the residuals can form an arrow shape or any other non symmetrical shape."
   ]
  },
  {
   "cell_type": "markdown",
   "metadata": {
    "id": "RSGaoO-dqH-a"
   },
   "source": [
    "Null hypothesis : Residuals are homoscedastic\n",
    "\n",
    "Alternate hypothesis : Residuals have hetroscedasticity"
   ]
  },
  {
   "cell_type": "code",
   "execution_count": 72,
   "metadata": {
    "scrolled": true
   },
   "outputs": [
    {
     "data": {
      "text/plain": [
       "[('F statistic', 1.047594200513979), ('p-value', 0.12914840479472434)]"
      ]
     },
     "execution_count": 72,
     "metadata": {},
     "output_type": "execute_result"
    }
   ],
   "source": [
    "import statsmodels.stats.api as sms\n",
    "from statsmodels.compat import lzip\n",
    "\n",
    "name = ['F statistic', 'p-value']\n",
    "test = sms.het_goldfeldquandt(residual, X_train2)\n",
    "lzip(name, test)"
   ]
  },
  {
   "cell_type": "markdown",
   "metadata": {
    "id": "hzmt1AqYqH-d"
   },
   "source": [
    "Since p-value > 0.05 we can say that the residuals are homoscedastic. This assumption is therefore valid in the data."
   ]
  },
  {
   "cell_type": "markdown",
   "metadata": {},
   "source": [
    "### Now we have checked all the assumptions and they are satisfied, so we can move towards prediction part"
   ]
  },
  {
   "cell_type": "markdown",
   "metadata": {
    "id": "2EDLuiFcqH-g"
   },
   "source": [
    "### Predicting on the test data"
   ]
  },
  {
   "cell_type": "code",
   "execution_count": 73,
   "metadata": {},
   "outputs": [
    {
     "data": {
      "text/plain": [
       "Index(['const', 'Year', 'Kilometers_Driven', 'Mileage', 'Power',\n",
       "       'Location_Bangalore', 'Location_Chennai', 'Location_Coimbatore',\n",
       "       'Location_Delhi', 'Location_Hyderabad', 'Location_Jaipur',\n",
       "       'Location_Kochi', 'Location_Kolkata', 'Location_Mumbai',\n",
       "       'Location_Pune', 'Fuel_Type_Diesel', 'Fuel_Type_Electric',\n",
       "       'Fuel_Type_LPG', 'Fuel_Type_Petrol', 'Transmission_Manual', 'Seats_4.0',\n",
       "       'Seats_5.0', 'Seats_6.0', 'Seats_7.0', 'Seats_8.0', 'Seats_9.0',\n",
       "       'Seats_10.0', 'Owner_Type_Fourth & Above', 'Owner_Type_Second',\n",
       "       'Owner_Type_Third', 'Make_Audi', 'Make_Bentley', 'Make_Bmw',\n",
       "       'Make_Chevrolet', 'Make_Datsun', 'Make_Fiat', 'Make_Force', 'Make_Ford',\n",
       "       'Make_Hindustan', 'Make_Honda', 'Make_Hyundai', 'Make_Isuzu',\n",
       "       'Make_Jaguar', 'Make_Jeep', 'Make_Lamborghini', 'Make_Land Rover',\n",
       "       'Make_Mahindra', 'Make_Maruti', 'Make_Mercedes-Benz', 'Make_Mini',\n",
       "       'Make_Mitsubishi', 'Make_Nissan', 'Make_Opelcorsa', 'Make_Porsche',\n",
       "       'Make_Renault', 'Make_Skoda', 'Make_Smart', 'Make_Tata', 'Make_Toyota',\n",
       "       'Make_Volkswagen', 'Make_Volvo'],\n",
       "      dtype='object')"
      ]
     },
     "execution_count": 73,
     "metadata": {},
     "output_type": "execute_result"
    }
   ],
   "source": [
    "X_train2.columns"
   ]
  },
  {
   "cell_type": "code",
   "execution_count": 74,
   "metadata": {},
   "outputs": [],
   "source": [
    "X_test_final = X_test[X_train2.columns]"
   ]
  },
  {
   "cell_type": "code",
   "execution_count": 75,
   "metadata": {},
   "outputs": [
    {
     "data": {
      "text/html": [
       "<div>\n",
       "<style scoped>\n",
       "    .dataframe tbody tr th:only-of-type {\n",
       "        vertical-align: middle;\n",
       "    }\n",
       "\n",
       "    .dataframe tbody tr th {\n",
       "        vertical-align: top;\n",
       "    }\n",
       "\n",
       "    .dataframe thead th {\n",
       "        text-align: right;\n",
       "    }\n",
       "</style>\n",
       "<table border=\"1\" class=\"dataframe\">\n",
       "  <thead>\n",
       "    <tr style=\"text-align: right;\">\n",
       "      <th></th>\n",
       "      <th>const</th>\n",
       "      <th>Year</th>\n",
       "      <th>Kilometers_Driven</th>\n",
       "      <th>Mileage</th>\n",
       "      <th>Power</th>\n",
       "      <th>Location_Bangalore</th>\n",
       "      <th>Location_Chennai</th>\n",
       "      <th>Location_Coimbatore</th>\n",
       "      <th>Location_Delhi</th>\n",
       "      <th>Location_Hyderabad</th>\n",
       "      <th>...</th>\n",
       "      <th>Make_Nissan</th>\n",
       "      <th>Make_Opelcorsa</th>\n",
       "      <th>Make_Porsche</th>\n",
       "      <th>Make_Renault</th>\n",
       "      <th>Make_Skoda</th>\n",
       "      <th>Make_Smart</th>\n",
       "      <th>Make_Tata</th>\n",
       "      <th>Make_Toyota</th>\n",
       "      <th>Make_Volkswagen</th>\n",
       "      <th>Make_Volvo</th>\n",
       "    </tr>\n",
       "  </thead>\n",
       "  <tbody>\n",
       "    <tr>\n",
       "      <th>5801</th>\n",
       "      <td>1.0</td>\n",
       "      <td>2013</td>\n",
       "      <td>64000.0</td>\n",
       "      <td>14.53</td>\n",
       "      <td>138.1</td>\n",
       "      <td>0</td>\n",
       "      <td>0</td>\n",
       "      <td>0</td>\n",
       "      <td>1</td>\n",
       "      <td>0</td>\n",
       "      <td>...</td>\n",
       "      <td>0</td>\n",
       "      <td>0</td>\n",
       "      <td>0</td>\n",
       "      <td>0</td>\n",
       "      <td>0</td>\n",
       "      <td>0</td>\n",
       "      <td>0</td>\n",
       "      <td>1</td>\n",
       "      <td>0</td>\n",
       "      <td>0</td>\n",
       "    </tr>\n",
       "    <tr>\n",
       "      <th>1024</th>\n",
       "      <td>1.0</td>\n",
       "      <td>2012</td>\n",
       "      <td>42750.0</td>\n",
       "      <td>17.00</td>\n",
       "      <td>118.0</td>\n",
       "      <td>0</td>\n",
       "      <td>0</td>\n",
       "      <td>1</td>\n",
       "      <td>0</td>\n",
       "      <td>0</td>\n",
       "      <td>...</td>\n",
       "      <td>0</td>\n",
       "      <td>0</td>\n",
       "      <td>0</td>\n",
       "      <td>0</td>\n",
       "      <td>0</td>\n",
       "      <td>0</td>\n",
       "      <td>0</td>\n",
       "      <td>0</td>\n",
       "      <td>0</td>\n",
       "      <td>0</td>\n",
       "    </tr>\n",
       "    <tr>\n",
       "      <th>6249</th>\n",
       "      <td>1.0</td>\n",
       "      <td>2016</td>\n",
       "      <td>95942.0</td>\n",
       "      <td>15.40</td>\n",
       "      <td>120.0</td>\n",
       "      <td>0</td>\n",
       "      <td>0</td>\n",
       "      <td>1</td>\n",
       "      <td>0</td>\n",
       "      <td>0</td>\n",
       "      <td>...</td>\n",
       "      <td>0</td>\n",
       "      <td>0</td>\n",
       "      <td>0</td>\n",
       "      <td>0</td>\n",
       "      <td>0</td>\n",
       "      <td>0</td>\n",
       "      <td>0</td>\n",
       "      <td>0</td>\n",
       "      <td>0</td>\n",
       "      <td>0</td>\n",
       "    </tr>\n",
       "    <tr>\n",
       "      <th>5847</th>\n",
       "      <td>1.0</td>\n",
       "      <td>2015</td>\n",
       "      <td>27000.0</td>\n",
       "      <td>19.50</td>\n",
       "      <td>141.0</td>\n",
       "      <td>0</td>\n",
       "      <td>0</td>\n",
       "      <td>0</td>\n",
       "      <td>0</td>\n",
       "      <td>0</td>\n",
       "      <td>...</td>\n",
       "      <td>0</td>\n",
       "      <td>0</td>\n",
       "      <td>0</td>\n",
       "      <td>0</td>\n",
       "      <td>1</td>\n",
       "      <td>0</td>\n",
       "      <td>0</td>\n",
       "      <td>0</td>\n",
       "      <td>0</td>\n",
       "      <td>0</td>\n",
       "    </tr>\n",
       "    <tr>\n",
       "      <th>4194</th>\n",
       "      <td>1.0</td>\n",
       "      <td>2017</td>\n",
       "      <td>16900.0</td>\n",
       "      <td>21.10</td>\n",
       "      <td>100.0</td>\n",
       "      <td>0</td>\n",
       "      <td>0</td>\n",
       "      <td>0</td>\n",
       "      <td>0</td>\n",
       "      <td>0</td>\n",
       "      <td>...</td>\n",
       "      <td>0</td>\n",
       "      <td>0</td>\n",
       "      <td>0</td>\n",
       "      <td>0</td>\n",
       "      <td>0</td>\n",
       "      <td>0</td>\n",
       "      <td>0</td>\n",
       "      <td>0</td>\n",
       "      <td>0</td>\n",
       "      <td>0</td>\n",
       "    </tr>\n",
       "  </tbody>\n",
       "</table>\n",
       "<p>5 rows × 61 columns</p>\n",
       "</div>"
      ],
      "text/plain": [
       "      const  Year  Kilometers_Driven  Mileage  Power  Location_Bangalore  \\\n",
       "5801    1.0  2013            64000.0    14.53  138.1                   0   \n",
       "1024    1.0  2012            42750.0    17.00  118.0                   0   \n",
       "6249    1.0  2016            95942.0    15.40  120.0                   0   \n",
       "5847    1.0  2015            27000.0    19.50  141.0                   0   \n",
       "4194    1.0  2017            16900.0    21.10  100.0                   0   \n",
       "\n",
       "      Location_Chennai  Location_Coimbatore  Location_Delhi  \\\n",
       "5801                 0                    0               1   \n",
       "1024                 0                    1               0   \n",
       "6249                 0                    1               0   \n",
       "5847                 0                    0               0   \n",
       "4194                 0                    0               0   \n",
       "\n",
       "      Location_Hyderabad  ...  Make_Nissan  Make_Opelcorsa  Make_Porsche  \\\n",
       "5801                   0  ...            0               0             0   \n",
       "1024                   0  ...            0               0             0   \n",
       "6249                   0  ...            0               0             0   \n",
       "5847                   0  ...            0               0             0   \n",
       "4194                   0  ...            0               0             0   \n",
       "\n",
       "      Make_Renault  Make_Skoda  Make_Smart  Make_Tata  Make_Toyota  \\\n",
       "5801             0           0           0          0            1   \n",
       "1024             0           0           0          0            0   \n",
       "6249             0           0           0          0            0   \n",
       "5847             0           1           0          0            0   \n",
       "4194             0           0           0          0            0   \n",
       "\n",
       "      Make_Volkswagen  Make_Volvo  \n",
       "5801                0           0  \n",
       "1024                0           0  \n",
       "6249                0           0  \n",
       "5847                0           0  \n",
       "4194                0           0  \n",
       "\n",
       "[5 rows x 61 columns]"
      ]
     },
     "execution_count": 75,
     "metadata": {},
     "output_type": "execute_result"
    }
   ],
   "source": [
    "X_test_final.head()"
   ]
  },
  {
   "cell_type": "code",
   "execution_count": 76,
   "metadata": {},
   "outputs": [],
   "source": [
    "y_pred = olsres1.predict(X_test_final)"
   ]
  },
  {
   "cell_type": "markdown",
   "metadata": {
    "id": "vwh6bqNmqH-s"
   },
   "source": [
    "### Checking the performance on train and test: metric used - RMSE"
   ]
  },
  {
   "cell_type": "code",
   "execution_count": 77,
   "metadata": {
    "scrolled": true
   },
   "outputs": [
    {
     "name": "stdout",
     "output_type": "stream",
     "text": [
      "Train error: 1.7933855132601297\n",
      "Test error: 1.8400700423208587\n"
     ]
    }
   ],
   "source": [
    "#Checking root mean squared error on both train and test set  \n",
    "\n",
    "from sklearn.metrics import mean_squared_error\n",
    "rms = np.sqrt(mean_squared_error(y_train, fitted))\n",
    "print('Train error:',rms)\n",
    "\n",
    "rms1 = np.sqrt(mean_squared_error(y_test, y_pred))\n",
    "print('Test error:',rms1)"
   ]
  },
  {
   "cell_type": "markdown",
   "metadata": {
    "id": "h8CeR5BuqH-w"
   },
   "source": [
    "### Now we can finally see that we have low test and train error, also both the errors are comparable, so our model is not suffering from overfitting .\n",
    "### Hence we can conclude the model \"olsres1\" is good for prediction as well as inference purpose\n"
   ]
  },
  {
   "cell_type": "code",
   "execution_count": 78,
   "metadata": {},
   "outputs": [
    {
     "name": "stdout",
     "output_type": "stream",
     "text": [
      "                            OLS Regression Results                            \n",
      "==============================================================================\n",
      "Dep. Variable:                  Price   R-squared:                       0.899\n",
      "Model:                            OLS   Adj. R-squared:                  0.897\n",
      "Method:                 Least Squares   F-statistic:                     770.5\n",
      "Date:                Fri, 07 May 2021   Prob (F-statistic):               0.00\n",
      "Time:                        23:40:02   Log-Likelihood:                -9688.7\n",
      "No. Observations:                4837   AIC:                         1.949e+04\n",
      "Df Residuals:                    4781   BIC:                         1.985e+04\n",
      "Df Model:                          55                                         \n",
      "Covariance Type:            nonrobust                                         \n",
      "=============================================================================================\n",
      "                                coef    std err          t      P>|t|      [0.025      0.975]\n",
      "---------------------------------------------------------------------------------------------\n",
      "const                     -1140.8261     25.945    -43.970      0.000   -1191.691   -1089.961\n",
      "Year                          0.5700      0.013     44.219      0.000       0.545       0.595\n",
      "Kilometers_Driven         -1.205e-05   1.21e-06     -9.934      0.000   -1.44e-05   -9.67e-06\n",
      "Mileage                      -0.1249      0.012    -10.150      0.000      -0.149      -0.101\n",
      "Power                         0.0453      0.001     34.567      0.000       0.043       0.048\n",
      "Location_Bangalore            0.7505      0.173      4.337      0.000       0.411       1.090\n",
      "Location_Chennai              0.1243      0.165      0.753      0.452      -0.200       0.448\n",
      "Location_Coimbatore           0.4039      0.161      2.514      0.012       0.089       0.719\n",
      "Location_Delhi               -0.3967      0.161     -2.467      0.014      -0.712      -0.081\n",
      "Location_Hyderabad            0.6312      0.156      4.036      0.000       0.325       0.938\n",
      "Location_Jaipur               0.0430      0.170      0.253      0.801      -0.291       0.377\n",
      "Location_Kochi               -0.1535      0.159     -0.963      0.336      -0.466       0.159\n",
      "Location_Kolkata             -1.1017      0.162     -6.802      0.000      -1.419      -0.784\n",
      "Location_Mumbai              -0.3459      0.155     -2.225      0.026      -0.651      -0.041\n",
      "Location_Pune                 0.0058      0.159      0.036      0.971      -0.306       0.318\n",
      "Fuel_Type_Diesel              1.2245      0.285      4.298      0.000       0.666       1.783\n",
      "Fuel_Type_Electric         3.465e-12   1.69e-12      2.049      0.040     1.5e-13    6.78e-12\n",
      "Fuel_Type_LPG                 0.0292      0.701      0.042      0.967      -1.346       1.404\n",
      "Fuel_Type_Petrol             -0.5469      0.288     -1.900      0.058      -1.111       0.018\n",
      "Transmission_Manual          -1.0787      0.088    -12.211      0.000      -1.252      -0.906\n",
      "Seats_4.0                     0.5851      0.688      0.850      0.395      -0.764       1.934\n",
      "Seats_5.0                    -0.1399      0.653     -0.214      0.830      -1.420       1.140\n",
      "Seats_6.0                     0.7727      0.788      0.981      0.327      -0.771       2.317\n",
      "Seats_7.0                     1.0052      0.666      1.510      0.131      -0.300       2.310\n",
      "Seats_8.0                     0.3738      0.694      0.539      0.590      -0.986       1.734\n",
      "Seats_9.0                     0.6779      1.446      0.469      0.639      -2.158       3.513\n",
      "Seats_10.0                    0.7817      1.055      0.741      0.459      -1.286       2.850\n",
      "Owner_Type_Fourth & Above    -0.6185      0.688     -0.898      0.369      -1.968       0.731\n",
      "Owner_Type_Second            -0.3510      0.078     -4.518      0.000      -0.503      -0.199\n",
      "Owner_Type_Third             -0.4917      0.206     -2.385      0.017      -0.896      -0.087\n",
      "Make_Audi                     3.7436      1.831      2.044      0.041       0.153       7.334\n",
      "Make_Bentley                  7.2041      2.584      2.788      0.005       2.138      12.271\n",
      "Make_Bmw                      2.8211      1.835      1.537      0.124      -0.777       6.419\n",
      "Make_Chevrolet               -2.9844      1.829     -1.632      0.103      -6.571       0.602\n",
      "Make_Datsun                  -3.7566      1.888     -1.990      0.047      -7.457      -0.056\n",
      "Make_Fiat                    -2.3663      1.880     -1.259      0.208      -6.051       1.319\n",
      "Make_Force                 -7.11e-13   3.51e-13     -2.023      0.043    -1.4e-12   -2.19e-14\n",
      "Make_Ford                    -1.7579      1.824     -0.964      0.335      -5.334       1.818\n",
      "Make_Hindustan             4.823e-13   2.38e-13      2.024      0.043    1.52e-14     9.5e-13\n",
      "Make_Honda                   -2.0367      1.826     -1.116      0.265      -5.616       1.543\n",
      "Make_Hyundai                 -1.6419      1.824     -0.900      0.368      -5.217       1.933\n",
      "Make_Isuzu                   -1.0635      2.100     -0.506      0.613      -5.181       3.054\n",
      "Make_Jaguar                   3.7997      1.862      2.040      0.041       0.148       7.451\n",
      "Make_Jeep                     3.7158      1.889      1.967      0.049       0.012       7.420\n",
      "Make_Lamborghini              5.7402      2.640      2.174      0.030       0.565      10.916\n",
      "Make_Land Rover               4.2774      1.850      2.312      0.021       0.650       7.905\n",
      "Make_Mahindra                -2.8478      1.827     -1.559      0.119      -6.430       0.734\n",
      "Make_Maruti                  -1.5421      1.824     -0.846      0.398      -5.117       2.033\n",
      "Make_Mercedes-Benz            3.2046      1.831      1.750      0.080      -0.385       6.794\n",
      "Make_Mini                     6.6381      1.871      3.548      0.000       2.970      10.306\n",
      "Make_Mitsubishi               0.1975      1.880      0.105      0.916      -3.487       3.882\n",
      "Make_Nissan                  -2.0700      1.832     -1.130      0.259      -5.662       1.522\n",
      "Make_Opelcorsa            -1.222e-14    6.1e-15     -2.003      0.045   -2.42e-14    -2.6e-16\n",
      "Make_Porsche                  1.5997      1.925      0.831      0.406      -2.173       5.373\n",
      "Make_Renault                 -2.1480      1.830     -1.174      0.240      -5.735       1.439\n",
      "Make_Skoda                   -1.3789      1.831     -0.753      0.451      -4.968       2.210\n",
      "Make_Smart                         0          0        nan        nan           0           0\n",
      "Make_Tata                    -3.4764      1.828     -1.902      0.057      -7.060       0.108\n",
      "Make_Toyota                   0.8130      1.825      0.445      0.656      -2.766       4.392\n",
      "Make_Volkswagen              -2.2219      1.824     -1.218      0.223      -5.798       1.355\n",
      "Make_Volvo                    3.1128      1.876      1.659      0.097      -0.565       6.791\n",
      "==============================================================================\n",
      "Omnibus:                      392.889   Durbin-Watson:                   2.039\n",
      "Prob(Omnibus):                  0.000   Jarque-Bera (JB):             2355.154\n",
      "Skew:                          -0.057   Prob(JB):                         0.00\n",
      "Kurtosis:                       6.417   Cond. No.                     1.14e+16\n",
      "==============================================================================\n",
      "\n",
      "Notes:\n",
      "[1] Standard Errors assume that the covariance matrix of the errors is correctly specified.\n",
      "[2] The smallest eigenvalue is 1.5e-19. This might indicate that there are\n",
      "strong multicollinearity problems or that the design matrix is singular.\n"
     ]
    }
   ],
   "source": [
    "olsmod1 = sm.OLS(y_train, X_train2)\n",
    "olsres1 = olsmod1.fit()\n",
    "print(olsres1.summary())"
   ]
  },
  {
   "cell_type": "markdown",
   "metadata": {},
   "source": [
    "### Observations\n",
    "* Now this is our final model which follows all the assumptions and this can be used for interpretations\n",
    "\n",
    "          1. Year of the car is very significant, as expected. There are two variable - Kilometers_Driven and Mileage. As these two increase, the Price of the car decreases, as visible in the negative coeefficinet sign \n",
    "          2. Except Petrol cars, other fuel types tend to increase the Price of the car\n",
    "          3. Car Brands that have positive coefficient value increases the car price because of the brand value\n",
    "          4. First Owner cars tend to go for higher prices than other ownership types"
   ]
  },
  {
   "cell_type": "markdown",
   "metadata": {
    "id": "nrEXEiJEqH-0"
   },
   "source": [
    "## Forward Feature Selection \n",
    "### forward feature selection starts with an empty model and adds in variables one by one.\n",
    "* In each forward step, you add the one variable that gives the single best improvement to your model.\n"
   ]
  },
  {
   "cell_type": "code",
   "execution_count": 79,
   "metadata": {},
   "outputs": [],
   "source": [
    "X_train_new = X_train2.drop('const', axis = 1)"
   ]
  },
  {
   "cell_type": "markdown",
   "metadata": {
    "id": "YTvw8CvcqH--"
   },
   "source": [
    "* We'll use forward feature selection on variables, we received after removing multicollinearity\n",
    "* Also we'll remove const term, because sklearn adds that automatically unlike statmodels"
   ]
  },
  {
   "cell_type": "code",
   "execution_count": 80,
   "metadata": {},
   "outputs": [
    {
     "name": "stdout",
     "output_type": "stream",
     "text": [
      "Requirement already satisfied: mlxtend in c:\\users\\owner\\anaconda3\\lib\\site-packages (0.18.0)\n",
      "Requirement already satisfied: numpy>=1.16.2 in c:\\users\\owner\\anaconda3\\lib\\site-packages (from mlxtend) (1.19.2)\n",
      "Requirement already satisfied: scipy>=1.2.1 in c:\\users\\owner\\anaconda3\\lib\\site-packages (from mlxtend) (1.5.2)\n",
      "Requirement already satisfied: scikit-learn>=0.20.3 in c:\\users\\owner\\anaconda3\\lib\\site-packages (from mlxtend) (0.23.2)\n",
      "Requirement already satisfied: pandas>=0.24.2 in c:\\users\\owner\\anaconda3\\lib\\site-packages (from mlxtend) (1.1.3)\n",
      "Requirement already satisfied: matplotlib>=3.0.0 in c:\\users\\owner\\anaconda3\\lib\\site-packages (from mlxtend) (3.3.2)\n",
      "Requirement already satisfied: joblib>=0.13.2 in c:\\users\\owner\\anaconda3\\lib\\site-packages (from mlxtend) (0.17.0)\n",
      "Requirement already satisfied: setuptools in c:\\users\\owner\\anaconda3\\lib\\site-packages (from mlxtend) (50.3.1.post20201107)\n",
      "Requirement already satisfied: threadpoolctl>=2.0.0 in c:\\users\\owner\\anaconda3\\lib\\site-packages (from scikit-learn>=0.20.3->mlxtend) (2.1.0)\n",
      "Requirement already satisfied: python-dateutil>=2.7.3 in c:\\users\\owner\\anaconda3\\lib\\site-packages (from pandas>=0.24.2->mlxtend) (2.8.1)\n",
      "Requirement already satisfied: pytz>=2017.2 in c:\\users\\owner\\anaconda3\\lib\\site-packages (from pandas>=0.24.2->mlxtend) (2020.1)\n",
      "Requirement already satisfied: cycler>=0.10 in c:\\users\\owner\\anaconda3\\lib\\site-packages (from matplotlib>=3.0.0->mlxtend) (0.10.0)\n",
      "Requirement already satisfied: pillow>=6.2.0 in c:\\users\\owner\\anaconda3\\lib\\site-packages (from matplotlib>=3.0.0->mlxtend) (8.0.1)\n",
      "Requirement already satisfied: kiwisolver>=1.0.1 in c:\\users\\owner\\anaconda3\\lib\\site-packages (from matplotlib>=3.0.0->mlxtend) (1.3.0)\n",
      "Requirement already satisfied: pyparsing!=2.0.4,!=2.1.2,!=2.1.6,>=2.0.3 in c:\\users\\owner\\anaconda3\\lib\\site-packages (from matplotlib>=3.0.0->mlxtend) (2.4.7)\n",
      "Requirement already satisfied: certifi>=2020.06.20 in c:\\users\\owner\\anaconda3\\lib\\site-packages (from matplotlib>=3.0.0->mlxtend) (2020.6.20)\n",
      "Requirement already satisfied: six>=1.5 in c:\\users\\owner\\anaconda3\\lib\\site-packages (from python-dateutil>=2.7.3->pandas>=0.24.2->mlxtend) (1.15.0)\n"
     ]
    }
   ],
   "source": [
    "!pip install mlxtend\n",
    "from mlxtend.feature_selection import SequentialFeatureSelector as sfs\n",
    "#from sklearn.lin"
   ]
  },
  {
   "cell_type": "code",
   "execution_count": 81,
   "metadata": {
    "scrolled": false
   },
   "outputs": [
    {
     "name": "stderr",
     "output_type": "stream",
     "text": [
      "[Parallel(n_jobs=1)]: Using backend SequentialBackend with 1 concurrent workers.\n",
      "[Parallel(n_jobs=1)]: Done   1 out of   1 | elapsed:    0.0s remaining:    0.0s\n",
      "[Parallel(n_jobs=1)]: Done  60 out of  60 | elapsed:    2.0s finished\n",
      "\n",
      "[2021-05-07 23:40:09] Features: 1/60 -- score: 0.6703052285302329[Parallel(n_jobs=1)]: Using backend SequentialBackend with 1 concurrent workers.\n",
      "[Parallel(n_jobs=1)]: Done   1 out of   1 | elapsed:    0.0s remaining:    0.0s\n",
      "[Parallel(n_jobs=1)]: Done  59 out of  59 | elapsed:    1.7s finished\n",
      "\n",
      "[2021-05-07 23:40:10] Features: 2/60 -- score: 0.7885761439532606[Parallel(n_jobs=1)]: Using backend SequentialBackend with 1 concurrent workers.\n",
      "[Parallel(n_jobs=1)]: Done   1 out of   1 | elapsed:    0.0s remaining:    0.0s\n",
      "[Parallel(n_jobs=1)]: Done  58 out of  58 | elapsed:    1.6s finished\n",
      "\n",
      "[2021-05-07 23:40:12] Features: 3/60 -- score: 0.8047345743633082[Parallel(n_jobs=1)]: Using backend SequentialBackend with 1 concurrent workers.\n",
      "[Parallel(n_jobs=1)]: Done   1 out of   1 | elapsed:    0.0s remaining:    0.0s\n",
      "[Parallel(n_jobs=1)]: Done  57 out of  57 | elapsed:    1.5s finished\n",
      "\n",
      "[2021-05-07 23:40:14] Features: 4/60 -- score: 0.8229442575893422[Parallel(n_jobs=1)]: Using backend SequentialBackend with 1 concurrent workers.\n",
      "[Parallel(n_jobs=1)]: Done   1 out of   1 | elapsed:    0.0s remaining:    0.0s\n",
      "[Parallel(n_jobs=1)]: Done  56 out of  56 | elapsed:    1.6s finished\n",
      "\n",
      "[2021-05-07 23:40:15] Features: 5/60 -- score: 0.8329215349722535[Parallel(n_jobs=1)]: Using backend SequentialBackend with 1 concurrent workers.\n",
      "[Parallel(n_jobs=1)]: Done   1 out of   1 | elapsed:    0.0s remaining:    0.0s\n",
      "[Parallel(n_jobs=1)]: Done  55 out of  55 | elapsed:    1.5s finished\n",
      "\n",
      "[2021-05-07 23:40:17] Features: 6/60 -- score: 0.8400676524385634[Parallel(n_jobs=1)]: Using backend SequentialBackend with 1 concurrent workers.\n",
      "[Parallel(n_jobs=1)]: Done   1 out of   1 | elapsed:    0.0s remaining:    0.0s\n",
      "[Parallel(n_jobs=1)]: Done  54 out of  54 | elapsed:    1.6s finished\n",
      "\n",
      "[2021-05-07 23:40:19] Features: 7/60 -- score: 0.848238695583895[Parallel(n_jobs=1)]: Using backend SequentialBackend with 1 concurrent workers.\n",
      "[Parallel(n_jobs=1)]: Done   1 out of   1 | elapsed:    0.0s remaining:    0.0s\n",
      "[Parallel(n_jobs=1)]: Done  53 out of  53 | elapsed:    1.6s finished\n",
      "\n",
      "[2021-05-07 23:40:20] Features: 8/60 -- score: 0.8552912934495545[Parallel(n_jobs=1)]: Using backend SequentialBackend with 1 concurrent workers.\n",
      "[Parallel(n_jobs=1)]: Done   1 out of   1 | elapsed:    0.0s remaining:    0.0s\n",
      "[Parallel(n_jobs=1)]: Done  52 out of  52 | elapsed:    1.4s finished\n",
      "\n",
      "[2021-05-07 23:40:22] Features: 9/60 -- score: 0.8609969339100472[Parallel(n_jobs=1)]: Using backend SequentialBackend with 1 concurrent workers.\n",
      "[Parallel(n_jobs=1)]: Done   1 out of   1 | elapsed:    0.0s remaining:    0.0s\n",
      "[Parallel(n_jobs=1)]: Done  51 out of  51 | elapsed:    1.4s finished\n",
      "\n",
      "[2021-05-07 23:40:23] Features: 10/60 -- score: 0.8672860907327399[Parallel(n_jobs=1)]: Using backend SequentialBackend with 1 concurrent workers.\n",
      "[Parallel(n_jobs=1)]: Done   1 out of   1 | elapsed:    0.0s remaining:    0.0s\n",
      "[Parallel(n_jobs=1)]: Done  50 out of  50 | elapsed:    1.4s finished\n",
      "\n",
      "[2021-05-07 23:40:25] Features: 11/60 -- score: 0.8711720405761607[Parallel(n_jobs=1)]: Using backend SequentialBackend with 1 concurrent workers.\n",
      "[Parallel(n_jobs=1)]: Done   1 out of   1 | elapsed:    0.0s remaining:    0.0s\n",
      "[Parallel(n_jobs=1)]: Done  49 out of  49 | elapsed:    1.5s finished\n",
      "\n",
      "[2021-05-07 23:40:26] Features: 12/60 -- score: 0.8747432031016613[Parallel(n_jobs=1)]: Using backend SequentialBackend with 1 concurrent workers.\n",
      "[Parallel(n_jobs=1)]: Done   1 out of   1 | elapsed:    0.0s remaining:    0.0s\n",
      "[Parallel(n_jobs=1)]: Done  48 out of  48 | elapsed:    1.4s finished\n",
      "\n",
      "[2021-05-07 23:40:28] Features: 13/60 -- score: 0.8771217044060446[Parallel(n_jobs=1)]: Using backend SequentialBackend with 1 concurrent workers.\n",
      "[Parallel(n_jobs=1)]: Done   1 out of   1 | elapsed:    0.0s remaining:    0.0s\n",
      "[Parallel(n_jobs=1)]: Done  47 out of  47 | elapsed:    1.7s finished\n",
      "\n",
      "[2021-05-07 23:40:30] Features: 14/60 -- score: 0.8795490735778879[Parallel(n_jobs=1)]: Using backend SequentialBackend with 1 concurrent workers.\n",
      "[Parallel(n_jobs=1)]: Done   1 out of   1 | elapsed:    0.0s remaining:    0.0s\n",
      "[Parallel(n_jobs=1)]: Done  46 out of  46 | elapsed:    1.8s finished\n",
      "\n",
      "[2021-05-07 23:40:32] Features: 15/60 -- score: 0.881812973713533[Parallel(n_jobs=1)]: Using backend SequentialBackend with 1 concurrent workers.\n",
      "[Parallel(n_jobs=1)]: Done   1 out of   1 | elapsed:    0.0s remaining:    0.0s\n",
      "[Parallel(n_jobs=1)]: Done  45 out of  45 | elapsed:    2.2s finished\n",
      "\n",
      "[2021-05-07 23:40:34] Features: 16/60 -- score: 0.8838613520527734[Parallel(n_jobs=1)]: Using backend SequentialBackend with 1 concurrent workers.\n",
      "[Parallel(n_jobs=1)]: Done   1 out of   1 | elapsed:    0.0s remaining:    0.0s\n",
      "[Parallel(n_jobs=1)]: Done  44 out of  44 | elapsed:    1.4s finished\n",
      "\n",
      "[2021-05-07 23:40:35] Features: 17/60 -- score: 0.8855880546703305[Parallel(n_jobs=1)]: Using backend SequentialBackend with 1 concurrent workers.\n",
      "[Parallel(n_jobs=1)]: Done   1 out of   1 | elapsed:    0.0s remaining:    0.0s\n",
      "[Parallel(n_jobs=1)]: Done  43 out of  43 | elapsed:    1.4s finished\n",
      "\n",
      "[2021-05-07 23:40:37] Features: 18/60 -- score: 0.8871321383834445[Parallel(n_jobs=1)]: Using backend SequentialBackend with 1 concurrent workers.\n",
      "[Parallel(n_jobs=1)]: Done   1 out of   1 | elapsed:    0.0s remaining:    0.0s\n",
      "[Parallel(n_jobs=1)]: Done  42 out of  42 | elapsed:    1.6s finished\n",
      "\n",
      "[2021-05-07 23:40:39] Features: 19/60 -- score: 0.8884501253701048[Parallel(n_jobs=1)]: Using backend SequentialBackend with 1 concurrent workers.\n",
      "[Parallel(n_jobs=1)]: Done   1 out of   1 | elapsed:    0.0s remaining:    0.0s\n",
      "[Parallel(n_jobs=1)]: Done  41 out of  41 | elapsed:    1.9s finished\n",
      "\n",
      "[2021-05-07 23:40:41] Features: 20/60 -- score: 0.8895290013896308[Parallel(n_jobs=1)]: Using backend SequentialBackend with 1 concurrent workers.\n",
      "[Parallel(n_jobs=1)]: Done   1 out of   1 | elapsed:    0.0s remaining:    0.0s\n",
      "[Parallel(n_jobs=1)]: Done  40 out of  40 | elapsed:    1.4s finished\n",
      "\n",
      "[2021-05-07 23:40:42] Features: 21/60 -- score: 0.8905521173113151[Parallel(n_jobs=1)]: Using backend SequentialBackend with 1 concurrent workers.\n",
      "[Parallel(n_jobs=1)]: Done   1 out of   1 | elapsed:    0.0s remaining:    0.0s\n",
      "[Parallel(n_jobs=1)]: Done  39 out of  39 | elapsed:    1.4s finished\n",
      "\n",
      "[2021-05-07 23:40:44] Features: 22/60 -- score: 0.8914366446205999[Parallel(n_jobs=1)]: Using backend SequentialBackend with 1 concurrent workers.\n",
      "[Parallel(n_jobs=1)]: Done   1 out of   1 | elapsed:    0.0s remaining:    0.0s\n",
      "[Parallel(n_jobs=1)]: Done  38 out of  38 | elapsed:    1.7s finished\n",
      "\n",
      "[2021-05-07 23:40:45] Features: 23/60 -- score: 0.8923203626673715[Parallel(n_jobs=1)]: Using backend SequentialBackend with 1 concurrent workers.\n",
      "[Parallel(n_jobs=1)]: Done   1 out of   1 | elapsed:    0.0s remaining:    0.0s\n",
      "[Parallel(n_jobs=1)]: Done  37 out of  37 | elapsed:    1.8s finished\n",
      "\n",
      "[2021-05-07 23:40:47] Features: 24/60 -- score: 0.8927882680939275[Parallel(n_jobs=1)]: Using backend SequentialBackend with 1 concurrent workers.\n",
      "[Parallel(n_jobs=1)]: Done   1 out of   1 | elapsed:    0.0s remaining:    0.0s\n",
      "[Parallel(n_jobs=1)]: Done  36 out of  36 | elapsed:    4.2s finished\n",
      "\n",
      "[2021-05-07 23:40:52] Features: 25/60 -- score: 0.8932935811413248[Parallel(n_jobs=1)]: Using backend SequentialBackend with 1 concurrent workers.\n",
      "[Parallel(n_jobs=1)]: Done   1 out of   1 | elapsed:    0.0s remaining:    0.0s\n",
      "[Parallel(n_jobs=1)]: Done  35 out of  35 | elapsed:    2.8s finished\n",
      "\n",
      "[2021-05-07 23:40:55] Features: 26/60 -- score: 0.8937137828604932[Parallel(n_jobs=1)]: Using backend SequentialBackend with 1 concurrent workers.\n",
      "[Parallel(n_jobs=1)]: Done   1 out of   1 | elapsed:    0.0s remaining:    0.0s\n",
      "[Parallel(n_jobs=1)]: Done  34 out of  34 | elapsed:    2.1s finished\n",
      "\n",
      "[2021-05-07 23:40:57] Features: 27/60 -- score: 0.8940623355226378[Parallel(n_jobs=1)]: Using backend SequentialBackend with 1 concurrent workers.\n",
      "[Parallel(n_jobs=1)]: Done   1 out of   1 | elapsed:    0.0s remaining:    0.0s\n"
     ]
    },
    {
     "name": "stderr",
     "output_type": "stream",
     "text": [
      "[Parallel(n_jobs=1)]: Done  33 out of  33 | elapsed:    3.4s finished\n",
      "\n",
      "[2021-05-07 23:41:00] Features: 28/60 -- score: 0.8944009319661677[Parallel(n_jobs=1)]: Using backend SequentialBackend with 1 concurrent workers.\n",
      "[Parallel(n_jobs=1)]: Done   1 out of   1 | elapsed:    0.0s remaining:    0.0s\n",
      "[Parallel(n_jobs=1)]: Done  32 out of  32 | elapsed:    1.5s finished\n",
      "\n",
      "[2021-05-07 23:41:02] Features: 29/60 -- score: 0.8947150342641386[Parallel(n_jobs=1)]: Using backend SequentialBackend with 1 concurrent workers.\n",
      "[Parallel(n_jobs=1)]: Done   1 out of   1 | elapsed:    0.0s remaining:    0.0s\n",
      "[Parallel(n_jobs=1)]: Done  31 out of  31 | elapsed:    1.6s finished\n",
      "\n",
      "[2021-05-07 23:41:04] Features: 30/60 -- score: 0.8949523490109446[Parallel(n_jobs=1)]: Using backend SequentialBackend with 1 concurrent workers.\n",
      "[Parallel(n_jobs=1)]: Done   1 out of   1 | elapsed:    0.0s remaining:    0.0s\n",
      "[Parallel(n_jobs=1)]: Done  30 out of  30 | elapsed:    1.5s finished\n",
      "\n",
      "[2021-05-07 23:41:05] Features: 31/60 -- score: 0.8951671797785522[Parallel(n_jobs=1)]: Using backend SequentialBackend with 1 concurrent workers.\n",
      "[Parallel(n_jobs=1)]: Done   1 out of   1 | elapsed:    0.0s remaining:    0.0s\n",
      "[Parallel(n_jobs=1)]: Done  29 out of  29 | elapsed:    1.4s finished\n",
      "\n",
      "[2021-05-07 23:41:07] Features: 32/60 -- score: 0.8953578862728383[Parallel(n_jobs=1)]: Using backend SequentialBackend with 1 concurrent workers.\n",
      "[Parallel(n_jobs=1)]: Done   1 out of   1 | elapsed:    0.0s remaining:    0.0s\n",
      "[Parallel(n_jobs=1)]: Done  28 out of  28 | elapsed:    1.8s finished\n",
      "\n",
      "[2021-05-07 23:41:09] Features: 33/60 -- score: 0.8955801193418012[Parallel(n_jobs=1)]: Using backend SequentialBackend with 1 concurrent workers.\n",
      "[Parallel(n_jobs=1)]: Done   1 out of   1 | elapsed:    0.0s remaining:    0.0s\n",
      "[Parallel(n_jobs=1)]: Done  27 out of  27 | elapsed:    3.6s finished\n",
      "\n",
      "[2021-05-07 23:41:12] Features: 34/60 -- score: 0.8957328834012722[Parallel(n_jobs=1)]: Using backend SequentialBackend with 1 concurrent workers.\n",
      "[Parallel(n_jobs=1)]: Done   1 out of   1 | elapsed:    0.0s remaining:    0.0s\n",
      "[Parallel(n_jobs=1)]: Done  26 out of  26 | elapsed:    3.3s finished\n",
      "\n",
      "[2021-05-07 23:41:16] Features: 35/60 -- score: 0.8958346877539943[Parallel(n_jobs=1)]: Using backend SequentialBackend with 1 concurrent workers.\n",
      "[Parallel(n_jobs=1)]: Done   1 out of   1 | elapsed:    0.0s remaining:    0.0s\n",
      "[Parallel(n_jobs=1)]: Done  25 out of  25 | elapsed:    1.6s finished\n",
      "\n",
      "[2021-05-07 23:41:18] Features: 36/60 -- score: 0.8959186482099195[Parallel(n_jobs=1)]: Using backend SequentialBackend with 1 concurrent workers.\n",
      "[Parallel(n_jobs=1)]: Done   1 out of   1 | elapsed:    0.0s remaining:    0.0s\n",
      "[Parallel(n_jobs=1)]: Done  24 out of  24 | elapsed:    2.2s finished\n",
      "\n",
      "[2021-05-07 23:41:20] Features: 37/60 -- score: 0.8959761218670753[Parallel(n_jobs=1)]: Using backend SequentialBackend with 1 concurrent workers.\n",
      "[Parallel(n_jobs=1)]: Done   1 out of   1 | elapsed:    0.0s remaining:    0.0s\n",
      "[Parallel(n_jobs=1)]: Done  23 out of  23 | elapsed:    1.9s finished\n",
      "\n",
      "[2021-05-07 23:41:22] Features: 38/60 -- score: 0.8960315557801394[Parallel(n_jobs=1)]: Using backend SequentialBackend with 1 concurrent workers.\n",
      "[Parallel(n_jobs=1)]: Done   1 out of   1 | elapsed:    0.0s remaining:    0.0s\n",
      "[Parallel(n_jobs=1)]: Done  22 out of  22 | elapsed:    1.5s finished\n",
      "\n",
      "[2021-05-07 23:41:24] Features: 39/60 -- score: 0.8960551760259865[Parallel(n_jobs=1)]: Using backend SequentialBackend with 1 concurrent workers.\n",
      "[Parallel(n_jobs=1)]: Done   1 out of   1 | elapsed:    0.0s remaining:    0.0s\n",
      "[Parallel(n_jobs=1)]: Done  21 out of  21 | elapsed:    2.4s finished\n",
      "\n",
      "[2021-05-07 23:41:26] Features: 40/60 -- score: 0.8961007596491676[Parallel(n_jobs=1)]: Using backend SequentialBackend with 1 concurrent workers.\n",
      "[Parallel(n_jobs=1)]: Done   1 out of   1 | elapsed:    0.0s remaining:    0.0s\n",
      "[Parallel(n_jobs=1)]: Done  20 out of  20 | elapsed:    2.0s finished\n",
      "\n",
      "[2021-05-07 23:41:28] Features: 41/60 -- score: 0.8961402068980098[Parallel(n_jobs=1)]: Using backend SequentialBackend with 1 concurrent workers.\n",
      "[Parallel(n_jobs=1)]: Done   1 out of   1 | elapsed:    0.0s remaining:    0.0s\n",
      "[Parallel(n_jobs=1)]: Done  19 out of  19 | elapsed:    1.7s finished\n",
      "\n",
      "[2021-05-07 23:41:30] Features: 42/60 -- score: 0.89614030646384[Parallel(n_jobs=1)]: Using backend SequentialBackend with 1 concurrent workers.\n",
      "[Parallel(n_jobs=1)]: Done   1 out of   1 | elapsed:    0.0s remaining:    0.0s\n",
      "[Parallel(n_jobs=1)]: Done  18 out of  18 | elapsed:    2.6s finished\n",
      "\n",
      "[2021-05-07 23:41:33] Features: 43/60 -- score: 0.8961403064638404[Parallel(n_jobs=1)]: Using backend SequentialBackend with 1 concurrent workers.\n",
      "[Parallel(n_jobs=1)]: Done   1 out of   1 | elapsed:    0.0s remaining:    0.0s\n",
      "[Parallel(n_jobs=1)]: Done  17 out of  17 | elapsed:    2.2s finished\n",
      "\n",
      "[2021-05-07 23:41:35] Features: 44/60 -- score: 0.8961403064638402[Parallel(n_jobs=1)]: Using backend SequentialBackend with 1 concurrent workers.\n",
      "[Parallel(n_jobs=1)]: Done   1 out of   1 | elapsed:    0.0s remaining:    0.0s\n",
      "[Parallel(n_jobs=1)]: Done  16 out of  16 | elapsed:    1.1s finished\n",
      "\n",
      "[2021-05-07 23:41:36] Features: 45/60 -- score: 0.8961403064638404[Parallel(n_jobs=1)]: Using backend SequentialBackend with 1 concurrent workers.\n",
      "[Parallel(n_jobs=1)]: Done   1 out of   1 | elapsed:    0.0s remaining:    0.0s\n",
      "[Parallel(n_jobs=1)]: Done  15 out of  15 | elapsed:    1.0s finished\n",
      "\n",
      "[2021-05-07 23:41:37] Features: 46/60 -- score: 0.8961403064638402[Parallel(n_jobs=1)]: Using backend SequentialBackend with 1 concurrent workers.\n",
      "[Parallel(n_jobs=1)]: Done   1 out of   1 | elapsed:    0.1s remaining:    0.0s\n",
      "[Parallel(n_jobs=1)]: Done  14 out of  14 | elapsed:    1.0s finished\n",
      "\n",
      "[2021-05-07 23:41:38] Features: 47/60 -- score: 0.8961403064638404[Parallel(n_jobs=1)]: Using backend SequentialBackend with 1 concurrent workers.\n",
      "[Parallel(n_jobs=1)]: Done   1 out of   1 | elapsed:    0.0s remaining:    0.0s\n",
      "[Parallel(n_jobs=1)]: Done  13 out of  13 | elapsed:    0.9s finished\n",
      "\n",
      "[2021-05-07 23:41:39] Features: 48/60 -- score: 0.8961332076766502[Parallel(n_jobs=1)]: Using backend SequentialBackend with 1 concurrent workers.\n",
      "[Parallel(n_jobs=1)]: Done   1 out of   1 | elapsed:    0.0s remaining:    0.0s\n",
      "[Parallel(n_jobs=1)]: Done  12 out of  12 | elapsed:    0.8s finished\n",
      "\n",
      "[2021-05-07 23:41:40] Features: 49/60 -- score: 0.8961240803842241[Parallel(n_jobs=1)]: Using backend SequentialBackend with 1 concurrent workers.\n",
      "[Parallel(n_jobs=1)]: Done   1 out of   1 | elapsed:    0.0s remaining:    0.0s\n",
      "[Parallel(n_jobs=1)]: Done  11 out of  11 | elapsed:    0.7s finished\n",
      "\n",
      "[2021-05-07 23:41:41] Features: 50/60 -- score: 0.8961140088396389[Parallel(n_jobs=1)]: Using backend SequentialBackend with 1 concurrent workers.\n",
      "[Parallel(n_jobs=1)]: Done   1 out of   1 | elapsed:    0.0s remaining:    0.0s\n",
      "[Parallel(n_jobs=1)]: Done  10 out of  10 | elapsed:    0.6s finished\n",
      "\n",
      "[2021-05-07 23:41:42] Features: 51/60 -- score: 0.8960968856858971[Parallel(n_jobs=1)]: Using backend SequentialBackend with 1 concurrent workers.\n",
      "[Parallel(n_jobs=1)]: Done   1 out of   1 | elapsed:    0.0s remaining:    0.0s\n",
      "[Parallel(n_jobs=1)]: Done   9 out of   9 | elapsed:    0.6s finished\n",
      "\n",
      "[2021-05-07 23:41:43] Features: 52/60 -- score: 0.8960618381770633[Parallel(n_jobs=1)]: Using backend SequentialBackend with 1 concurrent workers.\n",
      "[Parallel(n_jobs=1)]: Done   1 out of   1 | elapsed:    0.0s remaining:    0.0s\n",
      "[Parallel(n_jobs=1)]: Done   8 out of   8 | elapsed:    0.5s finished\n",
      "\n",
      "[2021-05-07 23:41:43] Features: 53/60 -- score: 0.8960257286573187[Parallel(n_jobs=1)]: Using backend SequentialBackend with 1 concurrent workers.\n",
      "[Parallel(n_jobs=1)]: Done   1 out of   1 | elapsed:    0.0s remaining:    0.0s\n",
      "[Parallel(n_jobs=1)]: Done   7 out of   7 | elapsed:    0.4s finished\n",
      "\n",
      "[2021-05-07 23:41:44] Features: 54/60 -- score: 0.8959878073651628[Parallel(n_jobs=1)]: Using backend SequentialBackend with 1 concurrent workers.\n",
      "[Parallel(n_jobs=1)]: Done   1 out of   1 | elapsed:    0.0s remaining:    0.0s\n",
      "[Parallel(n_jobs=1)]: Done   6 out of   6 | elapsed:    0.4s finished\n",
      "\n",
      "[2021-05-07 23:41:44] Features: 55/60 -- score: 0.8959396829137841[Parallel(n_jobs=1)]: Using backend SequentialBackend with 1 concurrent workers.\n",
      "[Parallel(n_jobs=1)]: Done   1 out of   1 | elapsed:    0.0s remaining:    0.0s\n"
     ]
    },
    {
     "name": "stderr",
     "output_type": "stream",
     "text": [
      "[Parallel(n_jobs=1)]: Done   5 out of   5 | elapsed:    0.3s finished\n",
      "\n",
      "[2021-05-07 23:41:45] Features: 56/60 -- score: 0.8958573803052469[Parallel(n_jobs=1)]: Using backend SequentialBackend with 1 concurrent workers.\n",
      "[Parallel(n_jobs=1)]: Done   1 out of   1 | elapsed:    0.0s remaining:    0.0s\n",
      "[Parallel(n_jobs=1)]: Done   4 out of   4 | elapsed:    0.3s finished\n",
      "\n",
      "[2021-05-07 23:41:45] Features: 57/60 -- score: 0.8959443367943779[Parallel(n_jobs=1)]: Using backend SequentialBackend with 1 concurrent workers.\n",
      "[Parallel(n_jobs=1)]: Done   1 out of   1 | elapsed:    0.0s remaining:    0.0s\n",
      "[Parallel(n_jobs=1)]: Done   3 out of   3 | elapsed:    0.1s finished\n",
      "\n",
      "[2021-05-07 23:41:45] Features: 58/60 -- score: 0.8958610648759683[Parallel(n_jobs=1)]: Using backend SequentialBackend with 1 concurrent workers.\n",
      "[Parallel(n_jobs=1)]: Done   1 out of   1 | elapsed:    0.0s remaining:    0.0s\n",
      "[Parallel(n_jobs=1)]: Done   2 out of   2 | elapsed:    0.1s finished\n",
      "\n",
      "[2021-05-07 23:41:45] Features: 59/60 -- score: 0.895732311567776[Parallel(n_jobs=1)]: Using backend SequentialBackend with 1 concurrent workers.\n",
      "[Parallel(n_jobs=1)]: Done   1 out of   1 | elapsed:    0.0s remaining:    0.0s\n",
      "[Parallel(n_jobs=1)]: Done   1 out of   1 | elapsed:    0.0s finished\n",
      "\n",
      "[2021-05-07 23:41:46] Features: 60/60 -- score: 0.8954528559838948"
     ]
    }
   ],
   "source": [
    "clf = LinearRegression()\n",
    "\n",
    "# Build step forward feature selection\n",
    "sfs1 = sfs(clf,k_features = 60,forward=True,\n",
    "           floating=False, scoring= 'r2',\n",
    "           verbose=2,\n",
    "           cv=5)\n",
    "\n",
    " # Perform SFFS\n",
    "sfs1 = sfs1.fit(X_train_new, y_train)"
   ]
  },
  {
   "cell_type": "code",
   "execution_count": 82,
   "metadata": {},
   "outputs": [
    {
     "name": "stdout",
     "output_type": "stream",
     "text": [
      "[0, 1, 2, 3, 4, 5, 6, 7, 8, 9, 10, 11, 12, 13, 14, 15, 16, 17, 18, 19, 20, 21, 22, 23, 24, 25, 26, 27, 28, 29, 30, 31, 32, 33, 34, 35, 36, 37, 38, 39, 40, 41, 42, 43, 44, 45, 46, 47, 48, 49, 50, 51, 52, 53, 54, 55, 56, 57, 58, 59]\n"
     ]
    }
   ],
   "source": [
    "# Now Which features are important?\n",
    "feat_cols = list(sfs1.k_feature_idx_)\n",
    "print(feat_cols)"
   ]
  },
  {
   "cell_type": "code",
   "execution_count": 83,
   "metadata": {
    "scrolled": true
   },
   "outputs": [
    {
     "data": {
      "text/plain": [
       "Index(['const', 'Year', 'Kilometers_Driven', 'Mileage', 'Power',\n",
       "       'Location_Bangalore', 'Location_Chennai', 'Location_Coimbatore',\n",
       "       'Location_Delhi', 'Location_Hyderabad', 'Location_Jaipur',\n",
       "       'Location_Kochi', 'Location_Kolkata', 'Location_Mumbai',\n",
       "       'Location_Pune', 'Fuel_Type_Diesel', 'Fuel_Type_Electric',\n",
       "       'Fuel_Type_LPG', 'Fuel_Type_Petrol', 'Transmission_Manual', 'Seats_4.0',\n",
       "       'Seats_5.0', 'Seats_6.0', 'Seats_7.0', 'Seats_8.0', 'Seats_9.0',\n",
       "       'Seats_10.0', 'Owner_Type_Fourth & Above', 'Owner_Type_Second',\n",
       "       'Owner_Type_Third', 'Make_Audi', 'Make_Bentley', 'Make_Bmw',\n",
       "       'Make_Chevrolet', 'Make_Datsun', 'Make_Fiat', 'Make_Force', 'Make_Ford',\n",
       "       'Make_Hindustan', 'Make_Honda', 'Make_Hyundai', 'Make_Isuzu',\n",
       "       'Make_Jaguar', 'Make_Jeep', 'Make_Lamborghini', 'Make_Land Rover',\n",
       "       'Make_Mahindra', 'Make_Maruti', 'Make_Mercedes-Benz', 'Make_Mini',\n",
       "       'Make_Mitsubishi', 'Make_Nissan', 'Make_Opelcorsa', 'Make_Porsche',\n",
       "       'Make_Renault', 'Make_Skoda', 'Make_Smart', 'Make_Tata', 'Make_Toyota',\n",
       "       'Make_Volkswagen'],\n",
       "      dtype='object')"
      ]
     },
     "execution_count": 83,
     "metadata": {},
     "output_type": "execute_result"
    }
   ],
   "source": [
    "X_train2.columns[feat_cols]"
   ]
  },
  {
   "cell_type": "markdown",
   "metadata": {
    "id": "KpUjOgOSqH_U"
   },
   "source": [
    "### Now we will fit a sklearn model using these features only"
   ]
  },
  {
   "cell_type": "code",
   "execution_count": 84,
   "metadata": {},
   "outputs": [],
   "source": [
    "X_train_final = X_train2[X_train2.columns[feat_cols]]"
   ]
  },
  {
   "cell_type": "code",
   "execution_count": 85,
   "metadata": {},
   "outputs": [
    {
     "data": {
      "text/plain": [
       "Index(['const', 'Year', 'Kilometers_Driven', 'Mileage', 'Engine', 'Power',\n",
       "       'Location_Bangalore', 'Location_Chennai', 'Location_Coimbatore',\n",
       "       'Location_Delhi', 'Location_Hyderabad', 'Location_Jaipur',\n",
       "       'Location_Kochi', 'Location_Kolkata', 'Location_Mumbai',\n",
       "       'Location_Pune', 'Fuel_Type_Diesel', 'Fuel_Type_Electric',\n",
       "       'Fuel_Type_LPG', 'Fuel_Type_Petrol', 'Transmission_Manual', 'Seats_4.0',\n",
       "       'Seats_5.0', 'Seats_6.0', 'Seats_7.0', 'Seats_8.0', 'Seats_9.0',\n",
       "       'Seats_10.0', 'Owner_Type_Fourth & Above', 'Owner_Type_Second',\n",
       "       'Owner_Type_Third', 'Make_Audi', 'Make_Bentley', 'Make_Bmw',\n",
       "       'Make_Chevrolet', 'Make_Datsun', 'Make_Fiat', 'Make_Force', 'Make_Ford',\n",
       "       'Make_Hindustan', 'Make_Honda', 'Make_Hyundai', 'Make_Isuzu',\n",
       "       'Make_Jaguar', 'Make_Jeep', 'Make_Lamborghini', 'Make_Land Rover',\n",
       "       'Make_Mahindra', 'Make_Maruti', 'Make_Mercedes-Benz', 'Make_Mini',\n",
       "       'Make_Mitsubishi', 'Make_Nissan', 'Make_Opelcorsa', 'Make_Porsche',\n",
       "       'Make_Renault', 'Make_Skoda', 'Make_Smart', 'Make_Tata', 'Make_Toyota',\n",
       "       'Make_Volkswagen', 'Make_Volvo'],\n",
       "      dtype='object')"
      ]
     },
     "execution_count": 85,
     "metadata": {},
     "output_type": "execute_result"
    }
   ],
   "source": [
    "#\n",
    "X_test.columns"
   ]
  },
  {
   "cell_type": "code",
   "execution_count": 86,
   "metadata": {},
   "outputs": [],
   "source": [
    "X_test_final = X_test[X_train_final.columns]"
   ]
  },
  {
   "cell_type": "code",
   "execution_count": 87,
   "metadata": {},
   "outputs": [
    {
     "name": "stdout",
     "output_type": "stream",
     "text": [
      "Intercept of the linear equation: [-1137.98452934]\n",
      "\n",
      "Coefficients of the equation are: [[ 1.70076169e-11  5.70057070e-01 -1.20051723e-05 -1.23738425e-01\n",
      "   4.54890460e-02  7.49731477e-01  1.17552839e-01  4.02064032e-01\n",
      "  -3.98425525e-01  6.30746253e-01  4.24481896e-02 -1.54875270e-01\n",
      "  -1.10275343e+00 -3.47307287e-01  5.49324041e-03  1.22245999e+00\n",
      "   1.27009514e-12  3.62651585e-02 -5.42355683e-01 -1.08163348e+00\n",
      "   5.97627111e-01 -1.25986878e-01  7.87609082e-01  1.01719493e+00\n",
      "   3.94204575e-01  6.97921395e-01  8.12305343e-01 -6.15833239e-01\n",
      "  -3.49902094e-01 -5.25332347e-01  7.91469779e-01  4.24356249e+00\n",
      "  -1.36489918e-01 -5.92042594e+00 -6.69242948e+00 -5.30266538e+00\n",
      "  -3.36619621e-13 -4.69398184e+00  1.58539848e-13 -4.97924695e+00\n",
      "  -4.58132482e+00 -3.99997414e+00  8.43686407e-01  7.68178477e-01\n",
      "   2.83065148e+00  1.32778930e+00 -5.78411147e+00 -4.47983031e+00\n",
      "   2.52037113e-01  3.68751510e+00 -2.73465017e+00 -5.00706192e+00\n",
      "   0.00000000e+00 -1.36441555e+00 -5.08634396e+00 -4.32382737e+00\n",
      "   0.00000000e+00 -6.41248645e+00 -2.12620224e+00 -5.15955387e+00]]\n"
     ]
    }
   ],
   "source": [
    "#Fitting linear model\n",
    "\n",
    "from sklearn.linear_model import LinearRegression\n",
    "linearregression = LinearRegression()                                    \n",
    "linearregression.fit(X_train_final, y_train)                                  \n",
    "\n",
    "print(\"Intercept of the linear equation:\", linearregression.intercept_) \n",
    "print(\"\\nCoefficients of the equation are:\", linearregression.coef_)\n",
    "\n",
    "from sklearn.metrics import mean_absolute_error, mean_squared_error, r2_score\n",
    "\n",
    "predicted = linearregression.predict(X_train_final)\n",
    "pred = linearregression.predict(X_test_final)                              "
   ]
  },
  {
   "cell_type": "code",
   "execution_count": 88,
   "metadata": {},
   "outputs": [
    {
     "name": "stdout",
     "output_type": "stream",
     "text": [
      "r2 score on train data : 0.898564037997834\n",
      "r2 score on test data : 0.8966181675054891\n"
     ]
    }
   ],
   "source": [
    "# R2 Squared: on train and test\n",
    "print('r2 score on train data :', r2_score(y_train, predicted))\n",
    "print('r2 score on test data :', r2_score(y_test, pred))"
   ]
  },
  {
   "cell_type": "code",
   "execution_count": 89,
   "metadata": {
    "scrolled": true
   },
   "outputs": [
    {
     "name": "stdout",
     "output_type": "stream",
     "text": [
      "rmse on train data : 1.793901733549804\n",
      "rmse on test data : 1.8480977243285925\n"
     ]
    }
   ],
   "source": [
    "# RMSE on train and test data\n",
    "print('rmse on train data :', mean_squared_error(y_train, predicted)**0.5)\n",
    "print('rmse on test data :', mean_squared_error(y_test, pred)**0.5)"
   ]
  },
  {
   "cell_type": "markdown",
   "metadata": {
    "id": "nIl-DSSEqH_m"
   },
   "source": [
    "### Both r2 score and RMSE  shows that model fitted is good, has no overfitting and can be used for making predictions "
   ]
  },
  {
   "cell_type": "markdown",
   "metadata": {
    "id": "61WHrmB0qH_m"
   },
   "source": [
    "### we can observe here, the results from 'olsres1' and 'linearegession' model are approximately same"
   ]
  },
  {
   "cell_type": "code",
   "execution_count": null,
   "metadata": {},
   "outputs": [],
   "source": []
  }
 ],
 "metadata": {
  "kernelspec": {
   "display_name": "Python 3",
   "language": "python",
   "name": "python3"
  },
  "language_info": {
   "codemirror_mode": {
    "name": "ipython",
    "version": 3
   },
   "file_extension": ".py",
   "mimetype": "text/x-python",
   "name": "python",
   "nbconvert_exporter": "python",
   "pygments_lexer": "ipython3",
   "version": "3.8.5"
  }
 },
 "nbformat": 4,
 "nbformat_minor": 4
}
